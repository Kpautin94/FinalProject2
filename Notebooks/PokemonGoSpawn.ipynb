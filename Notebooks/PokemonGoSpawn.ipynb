{
 "cells": [
  {
   "cell_type": "markdown",
   "id": "e87b2f59-0bf5-4cd8-b6bb-ebee83152aac",
   "metadata": {},
   "source": [
    "Supervised Machine Learning Model "
   ]
  },
  {
   "cell_type": "code",
   "execution_count": 131,
   "id": "62691176-1314-4b0f-b302-a7d2a009f525",
   "metadata": {},
   "outputs": [],
   "source": [
    "#Import packages \n",
    "import pandas as pd \n",
    "from sklearn.linear_model import LinearRegression\n",
    "from sklearn.model_selection import train_test_split\n",
    "import matplotlib.pyplot as plt \n",
    "%matplotlib inline \n",
    "from sklearn import metrics\n",
    "import numpy as np "
   ]
  },
  {
   "cell_type": "markdown",
   "id": "6eb0c010-dc46-42e4-b1ec-bf120fea2204",
   "metadata": {},
   "source": [
    "Import Data "
   ]
  },
  {
   "cell_type": "code",
   "execution_count": 132,
   "id": "c41d2e79-5b6d-4852-9f3c-993516e70416",
   "metadata": {},
   "outputs": [
    {
     "data": {
      "text/html": [
       "<div>\n",
       "<style scoped>\n",
       "    .dataframe tbody tr th:only-of-type {\n",
       "        vertical-align: middle;\n",
       "    }\n",
       "\n",
       "    .dataframe tbody tr th {\n",
       "        vertical-align: top;\n",
       "    }\n",
       "\n",
       "    .dataframe thead th {\n",
       "        text-align: right;\n",
       "    }\n",
       "</style>\n",
       "<table border=\"1\" class=\"dataframe\">\n",
       "  <thead>\n",
       "    <tr style=\"text-align: right;\">\n",
       "      <th></th>\n",
       "      <th>s2_id</th>\n",
       "      <th>s2_token</th>\n",
       "      <th>num</th>\n",
       "      <th>name</th>\n",
       "      <th>lat</th>\n",
       "      <th>lng</th>\n",
       "      <th>encounter_ms</th>\n",
       "      <th>disppear_ms</th>\n",
       "    </tr>\n",
       "  </thead>\n",
       "  <tbody>\n",
       "    <tr>\n",
       "      <th>0</th>\n",
       "      <td>-9.182900e+18</td>\n",
       "      <td>808fca40de3</td>\n",
       "      <td>1</td>\n",
       "      <td>Bulbasaur</td>\n",
       "      <td>37.352721</td>\n",
       "      <td>-121.965752</td>\n",
       "      <td>1.469520e+12</td>\n",
       "      <td>1.469520e+12</td>\n",
       "    </tr>\n",
       "    <tr>\n",
       "      <th>1</th>\n",
       "      <td>-9.182930e+18</td>\n",
       "      <td>808fb000163</td>\n",
       "      <td>1</td>\n",
       "      <td>Bulbasaur</td>\n",
       "      <td>37.386986</td>\n",
       "      <td>-122.173674</td>\n",
       "      <td>-1.000000e+00</td>\n",
       "      <td>1.469520e+12</td>\n",
       "    </tr>\n",
       "    <tr>\n",
       "      <th>2</th>\n",
       "      <td>-9.182910e+18</td>\n",
       "      <td>808fbfb5ca1</td>\n",
       "      <td>1</td>\n",
       "      <td>Bulbasaur</td>\n",
       "      <td>37.562587</td>\n",
       "      <td>-122.033979</td>\n",
       "      <td>1.469520e+12</td>\n",
       "      <td>1.469520e+12</td>\n",
       "    </tr>\n",
       "    <tr>\n",
       "      <th>3</th>\n",
       "      <td>-9.182960e+18</td>\n",
       "      <td>808f95fd6c5</td>\n",
       "      <td>1</td>\n",
       "      <td>Bulbasaur</td>\n",
       "      <td>37.577153</td>\n",
       "      <td>-122.082546</td>\n",
       "      <td>1.469520e+12</td>\n",
       "      <td>1.469520e+12</td>\n",
       "    </tr>\n",
       "    <tr>\n",
       "      <th>4</th>\n",
       "      <td>-9.182980e+18</td>\n",
       "      <td>808f7c2eb87</td>\n",
       "      <td>1</td>\n",
       "      <td>Bulbasaur</td>\n",
       "      <td>37.717652</td>\n",
       "      <td>-122.453226</td>\n",
       "      <td>1.469520e+12</td>\n",
       "      <td>1.469520e+12</td>\n",
       "    </tr>\n",
       "    <tr>\n",
       "      <th>...</th>\n",
       "      <td>...</td>\n",
       "      <td>...</td>\n",
       "      <td>...</td>\n",
       "      <td>...</td>\n",
       "      <td>...</td>\n",
       "      <td>...</td>\n",
       "      <td>...</td>\n",
       "      <td>...</td>\n",
       "    </tr>\n",
       "    <tr>\n",
       "      <th>314100</th>\n",
       "      <td>-9.185790e+18</td>\n",
       "      <td>8085845142b</td>\n",
       "      <td>148</td>\n",
       "      <td>Dragonair</td>\n",
       "      <td>37.860065</td>\n",
       "      <td>-122.485598</td>\n",
       "      <td>1.469560e+12</td>\n",
       "      <td>1.469560e+12</td>\n",
       "    </tr>\n",
       "    <tr>\n",
       "      <th>314101</th>\n",
       "      <td>-9.185790e+18</td>\n",
       "      <td>808580e0793</td>\n",
       "      <td>148</td>\n",
       "      <td>Dragonair</td>\n",
       "      <td>37.806800</td>\n",
       "      <td>-122.423853</td>\n",
       "      <td>1.469570e+12</td>\n",
       "      <td>1.469570e+12</td>\n",
       "    </tr>\n",
       "    <tr>\n",
       "      <th>314102</th>\n",
       "      <td>-9.185790e+18</td>\n",
       "      <td>808580e0793</td>\n",
       "      <td>148</td>\n",
       "      <td>Dragonair</td>\n",
       "      <td>37.806800</td>\n",
       "      <td>-122.423853</td>\n",
       "      <td>1.469570e+12</td>\n",
       "      <td>1.469570e+12</td>\n",
       "    </tr>\n",
       "    <tr>\n",
       "      <th>314103</th>\n",
       "      <td>-9.185790e+18</td>\n",
       "      <td>808580e0793</td>\n",
       "      <td>148</td>\n",
       "      <td>Dragonair</td>\n",
       "      <td>37.806800</td>\n",
       "      <td>-122.423853</td>\n",
       "      <td>1.469570e+12</td>\n",
       "      <td>1.469570e+12</td>\n",
       "    </tr>\n",
       "    <tr>\n",
       "      <th>314104</th>\n",
       "      <td>-9.185790e+18</td>\n",
       "      <td>808580e0793</td>\n",
       "      <td>148</td>\n",
       "      <td>Dragonair</td>\n",
       "      <td>37.806800</td>\n",
       "      <td>-122.423853</td>\n",
       "      <td>1.469570e+12</td>\n",
       "      <td>1.469570e+12</td>\n",
       "    </tr>\n",
       "  </tbody>\n",
       "</table>\n",
       "<p>314105 rows × 8 columns</p>\n",
       "</div>"
      ],
      "text/plain": [
       "               s2_id     s2_token  num       name        lat         lng  \\\n",
       "0      -9.182900e+18  808fca40de3    1  Bulbasaur  37.352721 -121.965752   \n",
       "1      -9.182930e+18  808fb000163    1  Bulbasaur  37.386986 -122.173674   \n",
       "2      -9.182910e+18  808fbfb5ca1    1  Bulbasaur  37.562587 -122.033979   \n",
       "3      -9.182960e+18  808f95fd6c5    1  Bulbasaur  37.577153 -122.082546   \n",
       "4      -9.182980e+18  808f7c2eb87    1  Bulbasaur  37.717652 -122.453226   \n",
       "...              ...          ...  ...        ...        ...         ...   \n",
       "314100 -9.185790e+18  8085845142b  148  Dragonair  37.860065 -122.485598   \n",
       "314101 -9.185790e+18  808580e0793  148  Dragonair  37.806800 -122.423853   \n",
       "314102 -9.185790e+18  808580e0793  148  Dragonair  37.806800 -122.423853   \n",
       "314103 -9.185790e+18  808580e0793  148  Dragonair  37.806800 -122.423853   \n",
       "314104 -9.185790e+18  808580e0793  148  Dragonair  37.806800 -122.423853   \n",
       "\n",
       "        encounter_ms   disppear_ms  \n",
       "0       1.469520e+12  1.469520e+12  \n",
       "1      -1.000000e+00  1.469520e+12  \n",
       "2       1.469520e+12  1.469520e+12  \n",
       "3       1.469520e+12  1.469520e+12  \n",
       "4       1.469520e+12  1.469520e+12  \n",
       "...              ...           ...  \n",
       "314100  1.469560e+12  1.469560e+12  \n",
       "314101  1.469570e+12  1.469570e+12  \n",
       "314102  1.469570e+12  1.469570e+12  \n",
       "314103  1.469570e+12  1.469570e+12  \n",
       "314104  1.469570e+12  1.469570e+12  \n",
       "\n",
       "[314105 rows x 8 columns]"
      ]
     },
     "execution_count": 132,
     "metadata": {},
     "output_type": "execute_result"
    }
   ],
   "source": [
    "Spawns = pd.read_csv(\"../Data/pokemon-spawns.csv\")\n",
    "Spawns"
   ]
  },
  {
   "cell_type": "markdown",
   "id": "9aa42001-01b6-4482-9d21-bed9ed83f078",
   "metadata": {},
   "source": [
    "Data Wrangling "
   ]
  },
  {
   "cell_type": "code",
   "execution_count": 133,
   "id": "5ba54acf-f87e-4b7b-a053-ebcc9d1e4c3e",
   "metadata": {},
   "outputs": [
    {
     "data": {
      "text/plain": [
       "s2_id           float64\n",
       "s2_token         object\n",
       "num               int64\n",
       "name             object\n",
       "lat             float64\n",
       "lng             float64\n",
       "encounter_ms    float64\n",
       "disppear_ms     float64\n",
       "dtype: object"
      ]
     },
     "execution_count": 133,
     "metadata": {},
     "output_type": "execute_result"
    }
   ],
   "source": [
    "#Check Data types\n",
    "Spawns.dtypes"
   ]
  },
  {
   "cell_type": "code",
   "execution_count": 134,
   "id": "36945a48-04f5-467f-a239-66230b3d7b59",
   "metadata": {},
   "outputs": [],
   "source": [
    "#Change floats to integers \n",
    "Spawns.s2_id = Spawns.s2_id.astype(int)\n",
    "Spawns.lat = Spawns.lat.astype(int)\n",
    "Spawns.lng = Spawns.lng.astype(int)\n",
    "Spawns.encounter_ms = Spawns.encounter_ms.astype(int)\n",
    "Spawns.disppear_ms = Spawns.disppear_ms.astype(int)"
   ]
  },
  {
   "cell_type": "code",
   "execution_count": 135,
   "id": "1c5ba18d-2972-4b02-9b6a-128ae4e7aa2e",
   "metadata": {},
   "outputs": [],
   "source": [
    "SpawnsCut= Spawns.drop(['name','s2_id', 's2_token', 'disppear_ms' ], axis=1)"
   ]
  },
  {
   "cell_type": "code",
   "execution_count": 136,
   "id": "312329c1-cd1a-404d-9ec1-702f000d9d3d",
   "metadata": {},
   "outputs": [],
   "source": [
    "x = SpawnsCut[[ 'encounter_ms', 'lng', 'lat']]\n",
    "y = SpawnsCut['num']"
   ]
  },
  {
   "cell_type": "markdown",
   "id": "dcbbc5e9-4db0-49e7-bc9f-61d0a64ecd70",
   "metadata": {},
   "source": [
    "Train Test Split"
   ]
  },
  {
   "cell_type": "code",
   "execution_count": 137,
   "id": "707f6cc1-80ee-4345-ba59-a61f6ee78146",
   "metadata": {},
   "outputs": [
    {
     "name": "stdout",
     "output_type": "stream",
     "text": [
      "(188463, 3) (188463,)\n",
      "(125642, 3) (125642,)\n"
     ]
    }
   ],
   "source": [
    "x_train, x_test, y_train, y_test = train_test_split(x,y, test_size = .4, random_state=101)\n",
    "print(x_train.shape, y_train.shape)\n",
    "print(x_test.shape, y_test.shape)"
   ]
  },
  {
   "cell_type": "markdown",
   "id": "3d5a4033-0eb5-4e15-97a1-4c5b174ddffd",
   "metadata": {},
   "source": [
    "The x_train datasets, the 188463 rows and 3 columns/ The x_test datasets, the 125642 rows and 3 columns"
   ]
  },
  {
   "cell_type": "markdown",
   "id": "7b76b2ec-4a9f-4deb-8c4e-653222bbeb7b",
   "metadata": {},
   "source": [
    "Create Linear Regression Model "
   ]
  },
  {
   "cell_type": "code",
   "execution_count": 138,
   "id": "713a5db8-e231-464a-b585-c715b910f92e",
   "metadata": {},
   "outputs": [
    {
     "data": {
      "text/html": [
       "<style>#sk-container-id-16 {color: black;background-color: white;}#sk-container-id-16 pre{padding: 0;}#sk-container-id-16 div.sk-toggleable {background-color: white;}#sk-container-id-16 label.sk-toggleable__label {cursor: pointer;display: block;width: 100%;margin-bottom: 0;padding: 0.3em;box-sizing: border-box;text-align: center;}#sk-container-id-16 label.sk-toggleable__label-arrow:before {content: \"▸\";float: left;margin-right: 0.25em;color: #696969;}#sk-container-id-16 label.sk-toggleable__label-arrow:hover:before {color: black;}#sk-container-id-16 div.sk-estimator:hover label.sk-toggleable__label-arrow:before {color: black;}#sk-container-id-16 div.sk-toggleable__content {max-height: 0;max-width: 0;overflow: hidden;text-align: left;background-color: #f0f8ff;}#sk-container-id-16 div.sk-toggleable__content pre {margin: 0.2em;color: black;border-radius: 0.25em;background-color: #f0f8ff;}#sk-container-id-16 input.sk-toggleable__control:checked~div.sk-toggleable__content {max-height: 200px;max-width: 100%;overflow: auto;}#sk-container-id-16 input.sk-toggleable__control:checked~label.sk-toggleable__label-arrow:before {content: \"▾\";}#sk-container-id-16 div.sk-estimator input.sk-toggleable__control:checked~label.sk-toggleable__label {background-color: #d4ebff;}#sk-container-id-16 div.sk-label input.sk-toggleable__control:checked~label.sk-toggleable__label {background-color: #d4ebff;}#sk-container-id-16 input.sk-hidden--visually {border: 0;clip: rect(1px 1px 1px 1px);clip: rect(1px, 1px, 1px, 1px);height: 1px;margin: -1px;overflow: hidden;padding: 0;position: absolute;width: 1px;}#sk-container-id-16 div.sk-estimator {font-family: monospace;background-color: #f0f8ff;border: 1px dotted black;border-radius: 0.25em;box-sizing: border-box;margin-bottom: 0.5em;}#sk-container-id-16 div.sk-estimator:hover {background-color: #d4ebff;}#sk-container-id-16 div.sk-parallel-item::after {content: \"\";width: 100%;border-bottom: 1px solid gray;flex-grow: 1;}#sk-container-id-16 div.sk-label:hover label.sk-toggleable__label {background-color: #d4ebff;}#sk-container-id-16 div.sk-serial::before {content: \"\";position: absolute;border-left: 1px solid gray;box-sizing: border-box;top: 0;bottom: 0;left: 50%;z-index: 0;}#sk-container-id-16 div.sk-serial {display: flex;flex-direction: column;align-items: center;background-color: white;padding-right: 0.2em;padding-left: 0.2em;position: relative;}#sk-container-id-16 div.sk-item {position: relative;z-index: 1;}#sk-container-id-16 div.sk-parallel {display: flex;align-items: stretch;justify-content: center;background-color: white;position: relative;}#sk-container-id-16 div.sk-item::before, #sk-container-id-16 div.sk-parallel-item::before {content: \"\";position: absolute;border-left: 1px solid gray;box-sizing: border-box;top: 0;bottom: 0;left: 50%;z-index: -1;}#sk-container-id-16 div.sk-parallel-item {display: flex;flex-direction: column;z-index: 1;position: relative;background-color: white;}#sk-container-id-16 div.sk-parallel-item:first-child::after {align-self: flex-end;width: 50%;}#sk-container-id-16 div.sk-parallel-item:last-child::after {align-self: flex-start;width: 50%;}#sk-container-id-16 div.sk-parallel-item:only-child::after {width: 0;}#sk-container-id-16 div.sk-dashed-wrapped {border: 1px dashed gray;margin: 0 0.4em 0.5em 0.4em;box-sizing: border-box;padding-bottom: 0.4em;background-color: white;}#sk-container-id-16 div.sk-label label {font-family: monospace;font-weight: bold;display: inline-block;line-height: 1.2em;}#sk-container-id-16 div.sk-label-container {text-align: center;}#sk-container-id-16 div.sk-container {/* jupyter's `normalize.less` sets `[hidden] { display: none; }` but bootstrap.min.css set `[hidden] { display: none !important; }` so we also need the `!important` here to be able to override the default hidden behavior on the sphinx rendered scikit-learn.org. See: https://github.com/scikit-learn/scikit-learn/issues/21755 */display: inline-block !important;position: relative;}#sk-container-id-16 div.sk-text-repr-fallback {display: none;}</style><div id=\"sk-container-id-16\" class=\"sk-top-container\"><div class=\"sk-text-repr-fallback\"><pre>LinearRegression()</pre><b>In a Jupyter environment, please rerun this cell to show the HTML representation or trust the notebook. <br />On GitHub, the HTML representation is unable to render, please try loading this page with nbviewer.org.</b></div><div class=\"sk-container\" hidden><div class=\"sk-item\"><div class=\"sk-estimator sk-toggleable\"><input class=\"sk-toggleable__control sk-hidden--visually\" id=\"sk-estimator-id-22\" type=\"checkbox\" checked><label for=\"sk-estimator-id-22\" class=\"sk-toggleable__label sk-toggleable__label-arrow\">LinearRegression</label><div class=\"sk-toggleable__content\"><pre>LinearRegression()</pre></div></div></div></div></div>"
      ],
      "text/plain": [
       "LinearRegression()"
      ]
     },
     "execution_count": 138,
     "metadata": {},
     "output_type": "execute_result"
    }
   ],
   "source": [
    "lm = LinearRegression()\n",
    "lm.fit(x_train, y_train)"
   ]
  },
  {
   "cell_type": "markdown",
   "id": "5e0e447b-e04d-48da-a3db-b35ca4af1650",
   "metadata": {},
   "source": [
    "Interpreting Supervised Machine Learning Model Accuracy "
   ]
  },
  {
   "cell_type": "code",
   "execution_count": 139,
   "id": "45b87810-9f8e-4d98-ba56-d240e3b778ef",
   "metadata": {},
   "outputs": [
    {
     "data": {
      "text/plain": [
       "array([45.22457734, 45.22457734, 45.2623491 , ..., 45.22457734,\n",
       "       45.22457734, 45.2981609 ])"
      ]
     },
     "execution_count": 139,
     "metadata": {},
     "output_type": "execute_result"
    }
   ],
   "source": [
    "predictions = lm.predict(x_test)\n",
    "predictions"
   ]
  },
  {
   "cell_type": "markdown",
   "id": "9ab2995d-e712-41ab-952e-f0c8f6bed645",
   "metadata": {},
   "source": [
    "Plot It"
   ]
  },
  {
   "cell_type": "code",
   "execution_count": 140,
   "id": "5da3158d-48e2-4d86-8b26-5a1afc462bfe",
   "metadata": {},
   "outputs": [
    {
     "data": {
      "text/plain": [
       "<matplotlib.collections.PathCollection at 0x2a313407610>"
      ]
     },
     "execution_count": 140,
     "metadata": {},
     "output_type": "execute_result"
    },
    {
     "data": {
      "image/png": "[encoded data removed]",
      "text/plain": [
       "<Figure size 432x288 with 1 Axes>"
      ]
     },
     "metadata": {
      "needs_background": "light"
     },
     "output_type": "display_data"
    }
   ],
   "source": [
    "plt.scatter(y_test, predictions)"
   ]
  },
  {
   "cell_type": "markdown",
   "id": "0b549746-6591-4a06-82f6-9eadd274d7be",
   "metadata": {},
   "source": [
    "Accuracy Score "
   ]
  },
  {
   "cell_type": "code",
   "execution_count": 141,
   "id": "ea89cc84-3bb6-49dc-b8ba-e07bef8fa820",
   "metadata": {},
   "outputs": [
    {
     "name": "stdout",
     "output_type": "stream",
     "text": [
      "Score: 0.008422382415490981\n"
     ]
    }
   ],
   "source": [
    "print(\"Score:\", lm.score(x_test, y_test))"
   ]
  },
  {
   "cell_type": "markdown",
   "id": "b6d2cfa0-c7cf-4fa7-a857-2b0c0dd19857",
   "metadata": {},
   "source": [
    "Mean Absolute Error "
   ]
  },
  {
   "cell_type": "code",
   "execution_count": 142,
   "id": "ab3a6e7f-2c24-4e93-98ff-2a896b46060c",
   "metadata": {},
   "outputs": [
    {
     "data": {
      "text/plain": [
       "28.477656921230302"
      ]
     },
     "execution_count": 142,
     "metadata": {},
     "output_type": "execute_result"
    }
   ],
   "source": [
    "metrics.mean_absolute_error(y_test, predictions)"
   ]
  },
  {
   "cell_type": "markdown",
   "id": "23558123-61b4-44e0-9a43-c1ae188a88f9",
   "metadata": {},
   "source": [
    "Mean Squared Error "
   ]
  },
  {
   "cell_type": "code",
   "execution_count": 143,
   "id": "bbe6c363-4093-469d-805f-672c153161cd",
   "metadata": {},
   "outputs": [
    {
     "data": {
      "text/plain": [
       "1297.480155142306"
      ]
     },
     "execution_count": 143,
     "metadata": {},
     "output_type": "execute_result"
    }
   ],
   "source": [
    "metrics.mean_squared_error(y_test, predictions)"
   ]
  },
  {
   "cell_type": "markdown",
   "id": "52d989f3-a60e-40e9-ac95-39014a84f91d",
   "metadata": {},
   "source": [
    "Rooted Mean Squared Error "
   ]
  },
  {
   "cell_type": "code",
   "execution_count": 144,
   "id": "c36b1e56-9e9e-4692-a8a6-df0dc877d186",
   "metadata": {},
   "outputs": [
    {
     "data": {
      "text/plain": [
       "36.02055184394467"
      ]
     },
     "execution_count": 144,
     "metadata": {},
     "output_type": "execute_result"
    }
   ],
   "source": [
    "np.sqrt(metrics.mean_squared_error(y_test, predictions))"
   ]
  },
  {
   "cell_type": "markdown",
   "id": "c216dedb-53f1-4a2b-a2e2-3d9862a5cb63",
   "metadata": {},
   "source": [
    "K-Fold Cross Validation "
   ]
  },
  {
   "cell_type": "code",
   "execution_count": 145,
   "id": "5f4d849b-2b0d-42d6-a579-0713635e0684",
   "metadata": {},
   "outputs": [],
   "source": [
    "#Import Packages \n",
    "from sklearn.model_selection import KFold\n",
    "from sklearn.model_selection import cross_val_score"
   ]
  },
  {
   "cell_type": "code",
   "execution_count": 146,
   "id": "90a982ad-2470-4e2a-baaa-71a36310bb49",
   "metadata": {},
   "outputs": [
    {
     "name": "stdout",
     "output_type": "stream",
     "text": [
      "train: [ 62821  62822  62823 ... 314102 314103 314104], test: [    0     1     2 ... 62818 62819 62820]\n",
      "train: [     0      1      2 ... 314102 314103 314104], test: [ 62821  62822  62823 ... 125639 125640 125641]\n",
      "train: [     0      1      2 ... 314102 314103 314104], test: [125642 125643 125644 ... 188460 188461 188462]\n",
      "train: [     0      1      2 ... 314102 314103 314104], test: [188463 188464 188465 ... 251281 251282 251283]\n",
      "train: [     0      1      2 ... 251281 251282 251283], test: [251284 251285 251286 ... 314102 314103 314104]\n"
     ]
    }
   ],
   "source": [
    "kfold =KFold()\n",
    "for train, test in kfold.split(x,y):\n",
    "    print('train: %s, test: %s' % (train,test))"
   ]
  },
  {
   "cell_type": "code",
   "execution_count": 147,
   "id": "030c8bec-8ba4-4d1f-bf16-5ce29955e2f6",
   "metadata": {},
   "outputs": [
    {
     "name": "stdout",
     "output_type": "stream",
     "text": [
      "[-173.421079     -3.80386592   -4.8324782 ]\n"
     ]
    }
   ],
   "source": [
    "print(cross_val_score(lm, x,y, cv=3))"
   ]
  },
  {
   "cell_type": "markdown",
   "id": "3a6e8020-b2af-41a2-a06b-3534ba2de8b3",
   "metadata": {},
   "source": [
    "Decision Trees "
   ]
  },
  {
   "cell_type": "code",
   "execution_count": 148,
   "id": "b75a5b6a-96db-47d3-9c72-1319c6f1377e",
   "metadata": {},
   "outputs": [],
   "source": [
    "import seaborn as sns \n",
    "from sklearn.tree import DecisionTreeClassifier\n",
    "from sklearn.metrics import classification_report, confusion_matrix, accuracy_score"
   ]
  },
  {
   "cell_type": "code",
   "execution_count": 149,
   "id": "b262b1c3-2d64-4deb-9473-0a89a0c4e007",
   "metadata": {},
   "outputs": [],
   "source": [
    "x = SpawnsCut[[ 'encounter_ms', 'lng', 'lat']]\n",
    "y = SpawnsCut['num']"
   ]
  },
  {
   "cell_type": "code",
   "execution_count": 150,
   "id": "b0f71687-5922-407b-8ea2-dad168432646",
   "metadata": {},
   "outputs": [
    {
     "name": "stdout",
     "output_type": "stream",
     "text": [
      "(219873, 3) (219873,)\n",
      "(94232, 3) (94232,)\n"
     ]
    }
   ],
   "source": [
    "x_train, x_test, y_train, y_test = train_test_split(x,y, test_size = .3, random_state=76)\n",
    "print(x_train.shape, y_train.shape)\n",
    "print(x_test.shape, y_test.shape)"
   ]
  },
  {
   "cell_type": "code",
   "execution_count": 151,
   "id": "e4e89308-ab08-4e7b-bfc9-c9bd286e11a6",
   "metadata": {},
   "outputs": [
    {
     "data": {
      "text/html": [
       "<style>#sk-container-id-17 {color: black;background-color: white;}#sk-container-id-17 pre{padding: 0;}#sk-container-id-17 div.sk-toggleable {background-color: white;}#sk-container-id-17 label.sk-toggleable__label {cursor: pointer;display: block;width: 100%;margin-bottom: 0;padding: 0.3em;box-sizing: border-box;text-align: center;}#sk-container-id-17 label.sk-toggleable__label-arrow:before {content: \"▸\";float: left;margin-right: 0.25em;color: #696969;}#sk-container-id-17 label.sk-toggleable__label-arrow:hover:before {color: black;}#sk-container-id-17 div.sk-estimator:hover label.sk-toggleable__label-arrow:before {color: black;}#sk-container-id-17 div.sk-toggleable__content {max-height: 0;max-width: 0;overflow: hidden;text-align: left;background-color: #f0f8ff;}#sk-container-id-17 div.sk-toggleable__content pre {margin: 0.2em;color: black;border-radius: 0.25em;background-color: #f0f8ff;}#sk-container-id-17 input.sk-toggleable__control:checked~div.sk-toggleable__content {max-height: 200px;max-width: 100%;overflow: auto;}#sk-container-id-17 input.sk-toggleable__control:checked~label.sk-toggleable__label-arrow:before {content: \"▾\";}#sk-container-id-17 div.sk-estimator input.sk-toggleable__control:checked~label.sk-toggleable__label {background-color: #d4ebff;}#sk-container-id-17 div.sk-label input.sk-toggleable__control:checked~label.sk-toggleable__label {background-color: #d4ebff;}#sk-container-id-17 input.sk-hidden--visually {border: 0;clip: rect(1px 1px 1px 1px);clip: rect(1px, 1px, 1px, 1px);height: 1px;margin: -1px;overflow: hidden;padding: 0;position: absolute;width: 1px;}#sk-container-id-17 div.sk-estimator {font-family: monospace;background-color: #f0f8ff;border: 1px dotted black;border-radius: 0.25em;box-sizing: border-box;margin-bottom: 0.5em;}#sk-container-id-17 div.sk-estimator:hover {background-color: #d4ebff;}#sk-container-id-17 div.sk-parallel-item::after {content: \"\";width: 100%;border-bottom: 1px solid gray;flex-grow: 1;}#sk-container-id-17 div.sk-label:hover label.sk-toggleable__label {background-color: #d4ebff;}#sk-container-id-17 div.sk-serial::before {content: \"\";position: absolute;border-left: 1px solid gray;box-sizing: border-box;top: 0;bottom: 0;left: 50%;z-index: 0;}#sk-container-id-17 div.sk-serial {display: flex;flex-direction: column;align-items: center;background-color: white;padding-right: 0.2em;padding-left: 0.2em;position: relative;}#sk-container-id-17 div.sk-item {position: relative;z-index: 1;}#sk-container-id-17 div.sk-parallel {display: flex;align-items: stretch;justify-content: center;background-color: white;position: relative;}#sk-container-id-17 div.sk-item::before, #sk-container-id-17 div.sk-parallel-item::before {content: \"\";position: absolute;border-left: 1px solid gray;box-sizing: border-box;top: 0;bottom: 0;left: 50%;z-index: -1;}#sk-container-id-17 div.sk-parallel-item {display: flex;flex-direction: column;z-index: 1;position: relative;background-color: white;}#sk-container-id-17 div.sk-parallel-item:first-child::after {align-self: flex-end;width: 50%;}#sk-container-id-17 div.sk-parallel-item:last-child::after {align-self: flex-start;width: 50%;}#sk-container-id-17 div.sk-parallel-item:only-child::after {width: 0;}#sk-container-id-17 div.sk-dashed-wrapped {border: 1px dashed gray;margin: 0 0.4em 0.5em 0.4em;box-sizing: border-box;padding-bottom: 0.4em;background-color: white;}#sk-container-id-17 div.sk-label label {font-family: monospace;font-weight: bold;display: inline-block;line-height: 1.2em;}#sk-container-id-17 div.sk-label-container {text-align: center;}#sk-container-id-17 div.sk-container {/* jupyter's `normalize.less` sets `[hidden] { display: none; }` but bootstrap.min.css set `[hidden] { display: none !important; }` so we also need the `!important` here to be able to override the default hidden behavior on the sphinx rendered scikit-learn.org. See: https://github.com/scikit-learn/scikit-learn/issues/21755 */display: inline-block !important;position: relative;}#sk-container-id-17 div.sk-text-repr-fallback {display: none;}</style><div id=\"sk-container-id-17\" class=\"sk-top-container\"><div class=\"sk-text-repr-fallback\"><pre>DecisionTreeClassifier(random_state=76)</pre><b>In a Jupyter environment, please rerun this cell to show the HTML representation or trust the notebook. <br />On GitHub, the HTML representation is unable to render, please try loading this page with nbviewer.org.</b></div><div class=\"sk-container\" hidden><div class=\"sk-item\"><div class=\"sk-estimator sk-toggleable\"><input class=\"sk-toggleable__control sk-hidden--visually\" id=\"sk-estimator-id-23\" type=\"checkbox\" checked><label for=\"sk-estimator-id-23\" class=\"sk-toggleable__label sk-toggleable__label-arrow\">DecisionTreeClassifier</label><div class=\"sk-toggleable__content\"><pre>DecisionTreeClassifier(random_state=76)</pre></div></div></div></div></div>"
      ],
      "text/plain": [
       "DecisionTreeClassifier(random_state=76)"
      ]
     },
     "execution_count": 151,
     "metadata": {},
     "output_type": "execute_result"
    }
   ],
   "source": [
    "decisionTree = DecisionTreeClassifier(random_state=76)\n",
    "decisionTree.fit(x_train, y_train)"
   ]
  },
  {
   "cell_type": "markdown",
   "id": "ea14c379-54ef-4f63-90da-f19906ba83b2",
   "metadata": {},
   "source": [
    "Assess The Model"
   ]
  },
  {
   "cell_type": "code",
   "execution_count": 152,
   "id": "7effc36a-e06f-4aac-a886-d3ebb512ec20",
   "metadata": {},
   "outputs": [
    {
     "name": "stdout",
     "output_type": "stream",
     "text": [
      "[[0 0 0 ... 0 0 0]\n",
      " [0 0 0 ... 0 0 0]\n",
      " [0 0 0 ... 0 0 0]\n",
      " ...\n",
      " [0 0 0 ... 0 0 0]\n",
      " [0 0 0 ... 0 0 0]\n",
      " [0 0 0 ... 0 0 0]]\n"
     ]
    }
   ],
   "source": [
    "treePredictions = decisionTree.predict(x_test)\n",
    "print(confusion_matrix(y_test, treePredictions))"
   ]
  },
  {
   "cell_type": "markdown",
   "id": "9d0d3dd8-b54f-417c-ab7a-336808df61c3",
   "metadata": {},
   "source": [
    "The Square matrix: Actual values 87873, 10 / Predicted values 6339, 10"
   ]
  },
  {
   "cell_type": "code",
   "execution_count": 153,
   "id": "e83eb713-7e5e-4bee-a7e4-c866c9850b67",
   "metadata": {},
   "outputs": [
    {
     "name": "stdout",
     "output_type": "stream",
     "text": [
      "              precision    recall  f1-score   support\n",
      "\n",
      "           1       0.00      0.00      0.00       695\n",
      "           2       0.00      0.00      0.00        22\n",
      "           3       0.00      0.00      0.00         3\n",
      "           4       0.00      0.00      0.00       156\n",
      "           5       0.00      0.00      0.00         6\n",
      "           6       0.00      0.00      0.00         2\n",
      "           7       0.00      0.00      0.00       245\n",
      "           8       0.00      0.00      0.00        22\n",
      "          10       0.00      0.00      0.00      2186\n",
      "          11       0.00      0.00      0.00       134\n",
      "          12       0.00      0.00      0.00        16\n",
      "          13       0.00      0.00      0.00      4069\n",
      "          14       0.00      0.00      0.00       241\n",
      "          15       0.00      0.00      0.00        38\n",
      "          16       0.16      0.37      0.22     13173\n",
      "          17       0.00      0.00      0.00       842\n",
      "          18       0.00      0.00      0.00       101\n",
      "          19       0.12      0.01      0.01      9096\n",
      "          20       0.00      0.00      0.00       302\n",
      "          21       0.00      0.00      0.00      4462\n",
      "          22       0.00      0.00      0.00       167\n",
      "          23       0.10      0.18      0.13      3486\n",
      "          24       0.00      0.00      0.00       104\n",
      "          25       0.00      0.00      0.00       483\n",
      "          26       0.00      0.00      0.00         8\n",
      "          27       0.09      0.02      0.03      1326\n",
      "          28       0.00      0.00      0.00        31\n",
      "          29       0.00      0.00      0.00      1494\n",
      "          30       0.00      0.00      0.00        96\n",
      "          32       0.00      0.00      0.00      1559\n",
      "          33       0.00      0.00      0.00        76\n",
      "          34       0.00      0.00      0.00         4\n",
      "          35       0.00      0.00      0.00      1075\n",
      "          36       0.00      0.00      0.00        23\n",
      "          37       0.00      0.00      0.00       211\n",
      "          38       0.00      0.00      0.00         5\n",
      "          39       0.00      0.00      0.00       377\n",
      "          40       0.00      0.00      0.00         2\n",
      "          41       0.15      0.70      0.24     11232\n",
      "          42       0.00      0.00      0.00       361\n",
      "          43       0.00      0.00      0.00       804\n",
      "          44       0.00      0.00      0.00        29\n",
      "          45       0.00      0.00      0.00         2\n",
      "          46       0.00      0.00      0.00      3446\n",
      "          47       0.00      0.00      0.00        91\n",
      "          48       0.00      0.00      0.00      1858\n",
      "          49       0.00      0.00      0.00        61\n",
      "          50       0.00      0.00      0.00       533\n",
      "          51       0.00      0.00      0.00        19\n",
      "          52       0.00      0.00      0.00      1202\n",
      "          53       0.00      0.00      0.00        26\n",
      "          54       0.00      0.00      0.00      1008\n",
      "          55       0.00      0.00      0.00        34\n",
      "          56       0.00      0.00      0.00      1492\n",
      "          57       0.00      0.00      0.00        29\n",
      "          58       0.00      0.00      0.00      1569\n",
      "          59       0.00      0.00      0.00        18\n",
      "          60       0.00      0.00      0.00      1100\n",
      "          61       0.00      0.00      0.00        81\n",
      "          62       0.00      0.00      0.00         3\n",
      "          63       0.00      0.00      0.00       529\n",
      "          64       0.00      0.00      0.00        23\n",
      "          65       0.00      0.00      0.00         1\n",
      "          66       0.00      0.00      0.00       531\n",
      "          67       0.00      0.00      0.00        17\n",
      "          68       0.00      0.00      0.00         2\n",
      "          69       0.00      0.00      0.00       785\n",
      "          70       0.00      0.00      0.00        46\n",
      "          71       0.00      0.00      0.00         1\n",
      "          72       0.00      0.00      0.00       414\n",
      "          73       0.00      0.00      0.00        29\n",
      "          74       0.00      0.00      0.00      1381\n",
      "          75       0.00      0.00      0.00        76\n",
      "          76       0.00      0.00      0.00         4\n",
      "          77       0.00      0.00      0.00       532\n",
      "          78       0.00      0.00      0.00        11\n",
      "          79       0.00      0.00      0.00       396\n",
      "          80       0.00      0.00      0.00         9\n",
      "          81       0.00      0.00      0.00       334\n",
      "          82       0.00      0.00      0.00        17\n",
      "          83       0.00      0.00      0.00         9\n",
      "          84       0.12      0.13      0.12      3588\n",
      "          85       0.00      0.00      0.00        87\n",
      "          86       0.00      0.00      0.00        93\n",
      "          87       0.00      0.00      0.00         2\n",
      "          88       0.00      0.00      0.00        27\n",
      "          89       0.00      0.00      0.00         1\n",
      "          90       0.00      0.00      0.00       115\n",
      "          92       0.00      0.00      0.00       244\n",
      "          93       0.00      0.00      0.00        12\n",
      "          95       0.00      0.00      0.00        73\n",
      "          96       0.00      0.00      0.00       174\n",
      "          97       0.00      0.00      0.00         4\n",
      "          98       0.00      0.00      0.00      1150\n",
      "          99       0.00      0.00      0.00        32\n",
      "         100       0.00      0.00      0.00       329\n",
      "         101       0.00      0.00      0.00        10\n",
      "         102       0.00      0.00      0.00       489\n",
      "         103       0.00      0.00      0.00        11\n",
      "         104       0.00      0.00      0.00       809\n",
      "         105       0.00      0.00      0.00        24\n",
      "         106       0.00      0.00      0.00        28\n",
      "         107       0.00      0.00      0.00        24\n",
      "         108       0.00      0.00      0.00        36\n",
      "         109       0.00      0.00      0.00       173\n",
      "         110       0.00      0.00      0.00         6\n",
      "         111       0.00      0.00      0.00       751\n",
      "         112       0.00      0.00      0.00        24\n",
      "         113       0.00      0.00      0.00        11\n",
      "         114       0.00      0.00      0.00       153\n",
      "         116       0.00      0.00      0.00       533\n",
      "         117       0.00      0.00      0.00         3\n",
      "         118       0.00      0.00      0.00      1033\n",
      "         119       0.00      0.00      0.00        42\n",
      "         120       0.00      0.00      0.00      1032\n",
      "         121       0.00      0.00      0.00        10\n",
      "         123       0.00      0.00      0.00        67\n",
      "         124       0.00      0.00      0.00        47\n",
      "         125       0.00      0.00      0.00        33\n",
      "         126       0.00      0.00      0.00       141\n",
      "         127       0.00      0.00      0.00       624\n",
      "         128       0.00      0.00      0.00       132\n",
      "         129       0.00      0.00      0.00      2231\n",
      "         130       0.00      0.00      0.00         1\n",
      "         133       0.00      0.00      0.00      2883\n",
      "         134       0.00      0.00      0.00         1\n",
      "         135       0.00      0.00      0.00        15\n",
      "         136       0.00      0.00      0.00         9\n",
      "         137       0.00      0.00      0.00         8\n",
      "         138       0.00      0.00      0.00        79\n",
      "         139       0.00      0.00      0.00         1\n",
      "         140       0.00      0.00      0.00        71\n",
      "         142       0.00      0.00      0.00        14\n",
      "         143       0.00      0.00      0.00         7\n",
      "         147       0.00      0.00      0.00       245\n",
      "         148       0.00      0.00      0.00         7\n",
      "\n",
      "    accuracy                           0.15     94232\n",
      "   macro avg       0.01      0.01      0.01     94232\n",
      "weighted avg       0.06      0.15      0.07     94232\n",
      "\n"
     ]
    },
    {
     "name": "stderr",
     "output_type": "stream",
     "text": [
      "C:\\Python3\\lib\\site-packages\\sklearn\\metrics\\_classification.py:1334: UndefinedMetricWarning: Precision and F-score are ill-defined and being set to 0.0 in labels with no predicted samples. Use `zero_division` parameter to control this behavior.\n",
      "  _warn_prf(average, modifier, msg_start, len(result))\n",
      "C:\\Python3\\lib\\site-packages\\sklearn\\metrics\\_classification.py:1334: UndefinedMetricWarning: Precision and F-score are ill-defined and being set to 0.0 in labels with no predicted samples. Use `zero_division` parameter to control this behavior.\n",
      "  _warn_prf(average, modifier, msg_start, len(result))\n",
      "C:\\Python3\\lib\\site-packages\\sklearn\\metrics\\_classification.py:1334: UndefinedMetricWarning: Precision and F-score are ill-defined and being set to 0.0 in labels with no predicted samples. Use `zero_division` parameter to control this behavior.\n",
      "  _warn_prf(average, modifier, msg_start, len(result))\n"
     ]
    }
   ],
   "source": [
    "print(classification_report (y_test, treePredictions))"
   ]
  },
  {
   "cell_type": "markdown",
   "id": "58308ca2-620c-48d0-84da-f771418a8f7b",
   "metadata": {},
   "source": [
    "From the results the model has very little precision "
   ]
  },
  {
   "cell_type": "markdown",
   "id": "0a311b46-4a28-413c-aa2e-ab5958cbf7fd",
   "metadata": {},
   "source": [
    "RANDOM FOREST "
   ]
  },
  {
   "cell_type": "code",
   "execution_count": 154,
   "id": "cd049598-426f-4f67-a76b-85b0d0b12891",
   "metadata": {},
   "outputs": [],
   "source": [
    "#Import Packages \n",
    "from sklearn.ensemble import RandomForestClassifier\n",
    "from sklearn.model_selection import train_test_split\n",
    "from sklearn.metrics import classification_report, confusion_matrix"
   ]
  },
  {
   "cell_type": "code",
   "execution_count": 155,
   "id": "1551f8ec-cf1a-4205-bb18-18c95970a95c",
   "metadata": {},
   "outputs": [],
   "source": [
    "#subset data\n",
    "x = SpawnsCut.drop('num', axis=1)\n",
    "y = SpawnsCut['num']"
   ]
  },
  {
   "cell_type": "markdown",
   "id": "827af6a7-516f-4ae8-a6cd-9d45ea17445b",
   "metadata": {},
   "source": [
    "Train Test Split "
   ]
  },
  {
   "cell_type": "code",
   "execution_count": 156,
   "id": "f517b0c2-417f-4c08-80a0-3ad0c0f54304",
   "metadata": {},
   "outputs": [],
   "source": [
    "x_train, x_test, y_train, y_test = train_test_split(x,y, test_size=0.3, random_state=76)"
   ]
  },
  {
   "cell_type": "markdown",
   "id": "5e8dfcfb-f748-4ea9-8a30-8f04fa68028c",
   "metadata": {},
   "source": [
    "Initial Random Forest Model "
   ]
  },
  {
   "cell_type": "code",
   "execution_count": 157,
   "id": "7252a8c3-86e5-453e-aa30-a232f788f22b",
   "metadata": {},
   "outputs": [
    {
     "data": {
      "text/html": [
       "<style>#sk-container-id-18 {color: black;background-color: white;}#sk-container-id-18 pre{padding: 0;}#sk-container-id-18 div.sk-toggleable {background-color: white;}#sk-container-id-18 label.sk-toggleable__label {cursor: pointer;display: block;width: 100%;margin-bottom: 0;padding: 0.3em;box-sizing: border-box;text-align: center;}#sk-container-id-18 label.sk-toggleable__label-arrow:before {content: \"▸\";float: left;margin-right: 0.25em;color: #696969;}#sk-container-id-18 label.sk-toggleable__label-arrow:hover:before {color: black;}#sk-container-id-18 div.sk-estimator:hover label.sk-toggleable__label-arrow:before {color: black;}#sk-container-id-18 div.sk-toggleable__content {max-height: 0;max-width: 0;overflow: hidden;text-align: left;background-color: #f0f8ff;}#sk-container-id-18 div.sk-toggleable__content pre {margin: 0.2em;color: black;border-radius: 0.25em;background-color: #f0f8ff;}#sk-container-id-18 input.sk-toggleable__control:checked~div.sk-toggleable__content {max-height: 200px;max-width: 100%;overflow: auto;}#sk-container-id-18 input.sk-toggleable__control:checked~label.sk-toggleable__label-arrow:before {content: \"▾\";}#sk-container-id-18 div.sk-estimator input.sk-toggleable__control:checked~label.sk-toggleable__label {background-color: #d4ebff;}#sk-container-id-18 div.sk-label input.sk-toggleable__control:checked~label.sk-toggleable__label {background-color: #d4ebff;}#sk-container-id-18 input.sk-hidden--visually {border: 0;clip: rect(1px 1px 1px 1px);clip: rect(1px, 1px, 1px, 1px);height: 1px;margin: -1px;overflow: hidden;padding: 0;position: absolute;width: 1px;}#sk-container-id-18 div.sk-estimator {font-family: monospace;background-color: #f0f8ff;border: 1px dotted black;border-radius: 0.25em;box-sizing: border-box;margin-bottom: 0.5em;}#sk-container-id-18 div.sk-estimator:hover {background-color: #d4ebff;}#sk-container-id-18 div.sk-parallel-item::after {content: \"\";width: 100%;border-bottom: 1px solid gray;flex-grow: 1;}#sk-container-id-18 div.sk-label:hover label.sk-toggleable__label {background-color: #d4ebff;}#sk-container-id-18 div.sk-serial::before {content: \"\";position: absolute;border-left: 1px solid gray;box-sizing: border-box;top: 0;bottom: 0;left: 50%;z-index: 0;}#sk-container-id-18 div.sk-serial {display: flex;flex-direction: column;align-items: center;background-color: white;padding-right: 0.2em;padding-left: 0.2em;position: relative;}#sk-container-id-18 div.sk-item {position: relative;z-index: 1;}#sk-container-id-18 div.sk-parallel {display: flex;align-items: stretch;justify-content: center;background-color: white;position: relative;}#sk-container-id-18 div.sk-item::before, #sk-container-id-18 div.sk-parallel-item::before {content: \"\";position: absolute;border-left: 1px solid gray;box-sizing: border-box;top: 0;bottom: 0;left: 50%;z-index: -1;}#sk-container-id-18 div.sk-parallel-item {display: flex;flex-direction: column;z-index: 1;position: relative;background-color: white;}#sk-container-id-18 div.sk-parallel-item:first-child::after {align-self: flex-end;width: 50%;}#sk-container-id-18 div.sk-parallel-item:last-child::after {align-self: flex-start;width: 50%;}#sk-container-id-18 div.sk-parallel-item:only-child::after {width: 0;}#sk-container-id-18 div.sk-dashed-wrapped {border: 1px dashed gray;margin: 0 0.4em 0.5em 0.4em;box-sizing: border-box;padding-bottom: 0.4em;background-color: white;}#sk-container-id-18 div.sk-label label {font-family: monospace;font-weight: bold;display: inline-block;line-height: 1.2em;}#sk-container-id-18 div.sk-label-container {text-align: center;}#sk-container-id-18 div.sk-container {/* jupyter's `normalize.less` sets `[hidden] { display: none; }` but bootstrap.min.css set `[hidden] { display: none !important; }` so we also need the `!important` here to be able to override the default hidden behavior on the sphinx rendered scikit-learn.org. See: https://github.com/scikit-learn/scikit-learn/issues/21755 */display: inline-block !important;position: relative;}#sk-container-id-18 div.sk-text-repr-fallback {display: none;}</style><div id=\"sk-container-id-18\" class=\"sk-top-container\"><div class=\"sk-text-repr-fallback\"><pre>RandomForestClassifier(n_estimators=500, random_state=76)</pre><b>In a Jupyter environment, please rerun this cell to show the HTML representation or trust the notebook. <br />On GitHub, the HTML representation is unable to render, please try loading this page with nbviewer.org.</b></div><div class=\"sk-container\" hidden><div class=\"sk-item\"><div class=\"sk-estimator sk-toggleable\"><input class=\"sk-toggleable__control sk-hidden--visually\" id=\"sk-estimator-id-24\" type=\"checkbox\" checked><label for=\"sk-estimator-id-24\" class=\"sk-toggleable__label sk-toggleable__label-arrow\">RandomForestClassifier</label><div class=\"sk-toggleable__content\"><pre>RandomForestClassifier(n_estimators=500, random_state=76)</pre></div></div></div></div></div>"
      ],
      "text/plain": [
       "RandomForestClassifier(n_estimators=500, random_state=76)"
      ]
     },
     "execution_count": 157,
     "metadata": {},
     "output_type": "execute_result"
    }
   ],
   "source": [
    "forest = RandomForestClassifier(n_estimators=500, random_state=76)\n",
    "forest.fit(x_train, y_train)"
   ]
  },
  {
   "cell_type": "markdown",
   "id": "d45f39d5-a336-4db0-aac3-29053166bf5b",
   "metadata": {},
   "source": [
    "Evaluate Model Fit"
   ]
  },
  {
   "cell_type": "code",
   "execution_count": 158,
   "id": "df2da2c6-08ce-4f28-b340-8bad56db11db",
   "metadata": {},
   "outputs": [],
   "source": [
    "forestPredictions = forest.predict(x_test)"
   ]
  },
  {
   "cell_type": "code",
   "execution_count": 159,
   "id": "8fb9681f-bf67-4a56-a150-cbbca81ef9fb",
   "metadata": {},
   "outputs": [
    {
     "name": "stdout",
     "output_type": "stream",
     "text": [
      "[[0 0 0 ... 0 0 0]\n",
      " [0 0 0 ... 0 0 0]\n",
      " [0 0 0 ... 0 0 0]\n",
      " ...\n",
      " [0 0 0 ... 0 0 0]\n",
      " [0 0 0 ... 0 0 0]\n",
      " [0 0 0 ... 0 0 0]]\n"
     ]
    }
   ],
   "source": [
    "print(confusion_matrix(y_test, forestPredictions))"
   ]
  },
  {
   "cell_type": "code",
   "execution_count": 160,
   "id": "ba380ebd-8fa6-46ab-bd14-9002605bd6a3",
   "metadata": {},
   "outputs": [
    {
     "name": "stdout",
     "output_type": "stream",
     "text": [
      "              precision    recall  f1-score   support\n",
      "\n",
      "           1       0.00      0.00      0.00       695\n",
      "           2       0.00      0.00      0.00        22\n",
      "           3       0.00      0.00      0.00         3\n",
      "           4       0.00      0.00      0.00       156\n",
      "           5       0.00      0.00      0.00         6\n",
      "           6       0.00      0.00      0.00         2\n",
      "           7       0.00      0.00      0.00       245\n",
      "           8       0.00      0.00      0.00        22\n",
      "          10       0.00      0.00      0.00      2186\n",
      "          11       0.00      0.00      0.00       134\n",
      "          12       0.00      0.00      0.00        16\n",
      "          13       0.00      0.00      0.00      4069\n",
      "          14       0.00      0.00      0.00       241\n",
      "          15       0.00      0.00      0.00        38\n",
      "          16       0.16      0.37      0.22     13173\n",
      "          17       0.00      0.00      0.00       842\n",
      "          18       0.00      0.00      0.00       101\n",
      "          19       0.12      0.01      0.01      9096\n",
      "          20       0.00      0.00      0.00       302\n",
      "          21       0.00      0.00      0.00      4462\n",
      "          22       0.00      0.00      0.00       167\n",
      "          23       0.10      0.18      0.13      3486\n",
      "          24       0.00      0.00      0.00       104\n",
      "          25       0.00      0.00      0.00       483\n",
      "          26       0.00      0.00      0.00         8\n",
      "          27       0.09      0.02      0.03      1326\n",
      "          28       0.00      0.00      0.00        31\n",
      "          29       0.00      0.00      0.00      1494\n",
      "          30       0.00      0.00      0.00        96\n",
      "          32       0.00      0.00      0.00      1559\n",
      "          33       0.00      0.00      0.00        76\n",
      "          34       0.00      0.00      0.00         4\n",
      "          35       0.00      0.00      0.00      1075\n",
      "          36       0.00      0.00      0.00        23\n",
      "          37       0.00      0.00      0.00       211\n",
      "          38       0.00      0.00      0.00         5\n",
      "          39       0.00      0.00      0.00       377\n",
      "          40       0.00      0.00      0.00         2\n",
      "          41       0.15      0.70      0.24     11232\n",
      "          42       0.00      0.00      0.00       361\n",
      "          43       0.00      0.00      0.00       804\n",
      "          44       0.00      0.00      0.00        29\n",
      "          45       0.00      0.00      0.00         2\n",
      "          46       0.00      0.00      0.00      3446\n",
      "          47       0.00      0.00      0.00        91\n",
      "          48       0.00      0.00      0.00      1858\n",
      "          49       0.00      0.00      0.00        61\n",
      "          50       0.00      0.00      0.00       533\n",
      "          51       0.00      0.00      0.00        19\n",
      "          52       0.00      0.00      0.00      1202\n",
      "          53       0.00      0.00      0.00        26\n",
      "          54       0.00      0.00      0.00      1008\n",
      "          55       0.00      0.00      0.00        34\n",
      "          56       0.00      0.00      0.00      1492\n",
      "          57       0.00      0.00      0.00        29\n",
      "          58       0.00      0.00      0.00      1569\n",
      "          59       0.00      0.00      0.00        18\n",
      "          60       0.00      0.00      0.00      1100\n",
      "          61       0.00      0.00      0.00        81\n",
      "          62       0.00      0.00      0.00         3\n",
      "          63       0.00      0.00      0.00       529\n",
      "          64       0.00      0.00      0.00        23\n",
      "          65       0.00      0.00      0.00         1\n",
      "          66       0.00      0.00      0.00       531\n",
      "          67       0.00      0.00      0.00        17\n",
      "          68       0.00      0.00      0.00         2\n",
      "          69       0.00      0.00      0.00       785\n",
      "          70       0.00      0.00      0.00        46\n",
      "          71       0.00      0.00      0.00         1\n",
      "          72       0.00      0.00      0.00       414\n",
      "          73       0.00      0.00      0.00        29\n",
      "          74       0.00      0.00      0.00      1381\n",
      "          75       0.00      0.00      0.00        76\n",
      "          76       0.00      0.00      0.00         4\n",
      "          77       0.00      0.00      0.00       532\n",
      "          78       0.00      0.00      0.00        11\n",
      "          79       0.00      0.00      0.00       396\n",
      "          80       0.00      0.00      0.00         9\n",
      "          81       0.00      0.00      0.00       334\n",
      "          82       0.00      0.00      0.00        17\n",
      "          83       0.00      0.00      0.00         9\n",
      "          84       0.12      0.13      0.12      3588\n",
      "          85       0.00      0.00      0.00        87\n",
      "          86       0.00      0.00      0.00        93\n",
      "          87       0.00      0.00      0.00         2\n",
      "          88       0.00      0.00      0.00        27\n",
      "          89       0.00      0.00      0.00         1\n",
      "          90       0.00      0.00      0.00       115\n",
      "          92       0.00      0.00      0.00       244\n",
      "          93       0.00      0.00      0.00        12\n",
      "          95       0.00      0.00      0.00        73\n",
      "          96       0.00      0.00      0.00       174\n",
      "          97       0.00      0.00      0.00         4\n",
      "          98       0.00      0.00      0.00      1150\n",
      "          99       0.00      0.00      0.00        32\n",
      "         100       0.00      0.00      0.00       329\n",
      "         101       0.00      0.00      0.00        10\n",
      "         102       0.00      0.00      0.00       489\n",
      "         103       0.00      0.00      0.00        11\n",
      "         104       0.00      0.00      0.00       809\n",
      "         105       0.00      0.00      0.00        24\n",
      "         106       0.00      0.00      0.00        28\n",
      "         107       0.00      0.00      0.00        24\n",
      "         108       0.00      0.00      0.00        36\n",
      "         109       0.00      0.00      0.00       173\n",
      "         110       0.00      0.00      0.00         6\n",
      "         111       0.00      0.00      0.00       751\n",
      "         112       0.00      0.00      0.00        24\n",
      "         113       0.00      0.00      0.00        11\n",
      "         114       0.00      0.00      0.00       153\n",
      "         116       0.00      0.00      0.00       533\n",
      "         117       0.00      0.00      0.00         3\n",
      "         118       0.00      0.00      0.00      1033\n",
      "         119       0.00      0.00      0.00        42\n",
      "         120       0.00      0.00      0.00      1032\n",
      "         121       0.00      0.00      0.00        10\n",
      "         123       0.00      0.00      0.00        67\n",
      "         124       0.00      0.00      0.00        47\n",
      "         125       0.00      0.00      0.00        33\n",
      "         126       0.00      0.00      0.00       141\n",
      "         127       0.00      0.00      0.00       624\n",
      "         128       0.00      0.00      0.00       132\n",
      "         129       0.00      0.00      0.00      2231\n",
      "         130       0.00      0.00      0.00         1\n",
      "         133       0.00      0.00      0.00      2883\n",
      "         134       0.00      0.00      0.00         1\n",
      "         135       0.00      0.00      0.00        15\n",
      "         136       0.00      0.00      0.00         9\n",
      "         137       0.00      0.00      0.00         8\n",
      "         138       0.00      0.00      0.00        79\n",
      "         139       0.00      0.00      0.00         1\n",
      "         140       0.00      0.00      0.00        71\n",
      "         142       0.00      0.00      0.00        14\n",
      "         143       0.00      0.00      0.00         7\n",
      "         147       0.00      0.00      0.00       245\n",
      "         148       0.00      0.00      0.00         7\n",
      "\n",
      "    accuracy                           0.15     94232\n",
      "   macro avg       0.01      0.01      0.01     94232\n",
      "weighted avg       0.06      0.15      0.07     94232\n",
      "\n"
     ]
    },
    {
     "name": "stderr",
     "output_type": "stream",
     "text": [
      "C:\\Python3\\lib\\site-packages\\sklearn\\metrics\\_classification.py:1334: UndefinedMetricWarning: Precision and F-score are ill-defined and being set to 0.0 in labels with no predicted samples. Use `zero_division` parameter to control this behavior.\n",
      "  _warn_prf(average, modifier, msg_start, len(result))\n",
      "C:\\Python3\\lib\\site-packages\\sklearn\\metrics\\_classification.py:1334: UndefinedMetricWarning: Precision and F-score are ill-defined and being set to 0.0 in labels with no predicted samples. Use `zero_division` parameter to control this behavior.\n",
      "  _warn_prf(average, modifier, msg_start, len(result))\n",
      "C:\\Python3\\lib\\site-packages\\sklearn\\metrics\\_classification.py:1334: UndefinedMetricWarning: Precision and F-score are ill-defined and being set to 0.0 in labels with no predicted samples. Use `zero_division` parameter to control this behavior.\n",
      "  _warn_prf(average, modifier, msg_start, len(result))\n"
     ]
    }
   ],
   "source": [
    "print(classification_report(y_test, forestPredictions))"
   ]
  },
  {
   "cell_type": "markdown",
   "id": "6802b674-5221-4f8e-90b3-87cb9a95bf23",
   "metadata": {},
   "source": [
    "Little to no precision"
   ]
  },
  {
   "cell_type": "markdown",
   "id": "b5f1ecfa-934d-41cf-a9b1-1d30a710e994",
   "metadata": {},
   "source": [
    "Hyperparameter Tuning "
   ]
  },
  {
   "cell_type": "code",
   "execution_count": 161,
   "id": "f5c580ba-5b76-430f-b164-97d7bf71d7af",
   "metadata": {},
   "outputs": [],
   "source": [
    "#import packages \n",
    "from sklearn.model_selection import RandomizedSearchCV "
   ]
  },
  {
   "cell_type": "markdown",
   "id": "4c247da2-fcf7-4979-8f07-fc334df454fd",
   "metadata": {},
   "source": [
    "Number of Estimators "
   ]
  },
  {
   "cell_type": "code",
   "execution_count": 162,
   "id": "c4e3fb6e-3d48-4c7c-9ca7-795c1106038e",
   "metadata": {},
   "outputs": [
    {
     "name": "stdout",
     "output_type": "stream",
     "text": [
      "1 : 0.1465213515578572\n",
      "4 : 0.14648951523898462\n",
      "5 : 0.1464258426012395\n",
      "8 : 0.1464258426012395\n",
      "10 : 0.1464258426012395\n",
      "20 : 0.14621360047542237\n",
      "50 : 0.14621360047542237\n",
      "75 : 0.14650012734527548\n",
      "100 : 0.14650012734527548\n",
      "250 : 0.14650012734527548\n",
      "500 : 0.14650012734527548\n"
     ]
    }
   ],
   "source": [
    "n_estimators_array = [1, 4, 5, 8, 10, 20, 50, 75, 100, 250, 500]\n",
    "results = []\n",
    "for n in n_estimators_array:\n",
    "    forest = RandomForestClassifier(n_estimators=n, random_state=76)\n",
    "    forest.fit(x_train, y_train)\n",
    "    result = accuracy_score(y_test, forest.predict(x_test))\n",
    "    results.append(result) \n",
    "    print(n, ':', result)\n",
    "    "
   ]
  },
  {
   "cell_type": "markdown",
   "id": "218cadac-e219-410a-b0f1-203f1614d274",
   "metadata": {},
   "source": [
    "Very low accuracy"
   ]
  },
  {
   "cell_type": "markdown",
   "id": "ee25f82b-0508-49f2-be7a-267c8ad7f3c0",
   "metadata": {},
   "source": [
    "Tuning the remaining tree"
   ]
  },
  {
   "cell_type": "code",
   "execution_count": 163,
   "id": "ebfea545-8a15-45e0-97b0-c974a6f3b0f0",
   "metadata": {},
   "outputs": [
    {
     "name": "stdout",
     "output_type": "stream",
     "text": [
      "{'max_features': ['auto', None, 'log2'], 'max_depth': [10, 20, 30, 40, 50, 60, 70, 80, 90, None], 'min_samples_leaf': [1, 2, 4]}\n"
     ]
    }
   ],
   "source": [
    "# Number of features to consider at every split\n",
    "max_features = ['auto', None, 'log2']\n",
    "# Maximum number of levels in tree\n",
    "max_depth = [10, 20, 30, 40, 50, 60, 70, 80, 90, None]\n",
    "# Minimum number of samples required at each leaf node\n",
    "min_samples_leaf = [1, 2, 4]\n",
    "# Method of selecting samples for training each tree\n",
    "random_grid = {'max_features': max_features,\n",
    "               'max_depth': max_depth,\n",
    "               'min_samples_leaf': min_samples_leaf}\n",
    "print(random_grid)"
   ]
  },
  {
   "cell_type": "code",
   "execution_count": 164,
   "id": "bdfc47fa-11a4-442e-97d3-ad162dd9e0c7",
   "metadata": {},
   "outputs": [],
   "source": [
    "rf = RandomForestClassifier(n_estimators=10)\n",
    "rf_random = RandomizedSearchCV(estimator = rf, param_distributions = random_grid, n_iter = 90, cv = 3, random_state=42)"
   ]
  },
  {
   "cell_type": "markdown",
   "id": "1cc2e96f-d509-43de-a5c5-a5e95b9c67e2",
   "metadata": {},
   "source": [
    "Fit the model "
   ]
  },
  {
   "cell_type": "code",
   "execution_count": 165,
   "id": "e147764e-a467-4792-bffe-723c5c7100d4",
   "metadata": {},
   "outputs": [
    {
     "name": "stderr",
     "output_type": "stream",
     "text": [
      "C:\\Python3\\lib\\site-packages\\sklearn\\model_selection\\_split.py:684: UserWarning: The least populated class in y has only 1 members, which is less than n_splits=3.\n",
      "  warnings.warn(\n",
      "C:\\Python3\\lib\\site-packages\\sklearn\\ensemble\\_forest.py:427: FutureWarning: `max_features='auto'` has been deprecated in 1.1 and will be removed in 1.3. To keep the past behaviour, explicitly set `max_features='sqrt'` or remove this parameter as it is also the default value for RandomForestClassifiers and ExtraTreesClassifiers.\n",
      "  warn(\n",
      "C:\\Python3\\lib\\site-packages\\sklearn\\ensemble\\_forest.py:427: FutureWarning: `max_features='auto'` has been deprecated in 1.1 and will be removed in 1.3. To keep the past behaviour, explicitly set `max_features='sqrt'` or remove this parameter as it is also the default value for RandomForestClassifiers and ExtraTreesClassifiers.\n",
      "  warn(\n",
      "C:\\Python3\\lib\\site-packages\\sklearn\\ensemble\\_forest.py:427: FutureWarning: `max_features='auto'` has been deprecated in 1.1 and will be removed in 1.3. To keep the past behaviour, explicitly set `max_features='sqrt'` or remove this parameter as it is also the default value for RandomForestClassifiers and ExtraTreesClassifiers.\n",
      "  warn(\n",
      "C:\\Python3\\lib\\site-packages\\sklearn\\ensemble\\_forest.py:427: FutureWarning: `max_features='auto'` has been deprecated in 1.1 and will be removed in 1.3. To keep the past behaviour, explicitly set `max_features='sqrt'` or remove this parameter as it is also the default value for RandomForestClassifiers and ExtraTreesClassifiers.\n",
      "  warn(\n",
      "C:\\Python3\\lib\\site-packages\\sklearn\\ensemble\\_forest.py:427: FutureWarning: `max_features='auto'` has been deprecated in 1.1 and will be removed in 1.3. To keep the past behaviour, explicitly set `max_features='sqrt'` or remove this parameter as it is also the default value for RandomForestClassifiers and ExtraTreesClassifiers.\n",
      "  warn(\n",
      "C:\\Python3\\lib\\site-packages\\sklearn\\ensemble\\_forest.py:427: FutureWarning: `max_features='auto'` has been deprecated in 1.1 and will be removed in 1.3. To keep the past behaviour, explicitly set `max_features='sqrt'` or remove this parameter as it is also the default value for RandomForestClassifiers and ExtraTreesClassifiers.\n",
      "  warn(\n",
      "C:\\Python3\\lib\\site-packages\\sklearn\\ensemble\\_forest.py:427: FutureWarning: `max_features='auto'` has been deprecated in 1.1 and will be removed in 1.3. To keep the past behaviour, explicitly set `max_features='sqrt'` or remove this parameter as it is also the default value for RandomForestClassifiers and ExtraTreesClassifiers.\n",
      "  warn(\n",
      "C:\\Python3\\lib\\site-packages\\sklearn\\ensemble\\_forest.py:427: FutureWarning: `max_features='auto'` has been deprecated in 1.1 and will be removed in 1.3. To keep the past behaviour, explicitly set `max_features='sqrt'` or remove this parameter as it is also the default value for RandomForestClassifiers and ExtraTreesClassifiers.\n",
      "  warn(\n",
      "C:\\Python3\\lib\\site-packages\\sklearn\\ensemble\\_forest.py:427: FutureWarning: `max_features='auto'` has been deprecated in 1.1 and will be removed in 1.3. To keep the past behaviour, explicitly set `max_features='sqrt'` or remove this parameter as it is also the default value for RandomForestClassifiers and ExtraTreesClassifiers.\n",
      "  warn(\n",
      "C:\\Python3\\lib\\site-packages\\sklearn\\ensemble\\_forest.py:427: FutureWarning: `max_features='auto'` has been deprecated in 1.1 and will be removed in 1.3. To keep the past behaviour, explicitly set `max_features='sqrt'` or remove this parameter as it is also the default value for RandomForestClassifiers and ExtraTreesClassifiers.\n",
      "  warn(\n",
      "C:\\Python3\\lib\\site-packages\\sklearn\\ensemble\\_forest.py:427: FutureWarning: `max_features='auto'` has been deprecated in 1.1 and will be removed in 1.3. To keep the past behaviour, explicitly set `max_features='sqrt'` or remove this parameter as it is also the default value for RandomForestClassifiers and ExtraTreesClassifiers.\n",
      "  warn(\n",
      "C:\\Python3\\lib\\site-packages\\sklearn\\ensemble\\_forest.py:427: FutureWarning: `max_features='auto'` has been deprecated in 1.1 and will be removed in 1.3. To keep the past behaviour, explicitly set `max_features='sqrt'` or remove this parameter as it is also the default value for RandomForestClassifiers and ExtraTreesClassifiers.\n",
      "  warn(\n",
      "C:\\Python3\\lib\\site-packages\\sklearn\\ensemble\\_forest.py:427: FutureWarning: `max_features='auto'` has been deprecated in 1.1 and will be removed in 1.3. To keep the past behaviour, explicitly set `max_features='sqrt'` or remove this parameter as it is also the default value for RandomForestClassifiers and ExtraTreesClassifiers.\n",
      "  warn(\n",
      "C:\\Python3\\lib\\site-packages\\sklearn\\ensemble\\_forest.py:427: FutureWarning: `max_features='auto'` has been deprecated in 1.1 and will be removed in 1.3. To keep the past behaviour, explicitly set `max_features='sqrt'` or remove this parameter as it is also the default value for RandomForestClassifiers and ExtraTreesClassifiers.\n",
      "  warn(\n",
      "C:\\Python3\\lib\\site-packages\\sklearn\\ensemble\\_forest.py:427: FutureWarning: `max_features='auto'` has been deprecated in 1.1 and will be removed in 1.3. To keep the past behaviour, explicitly set `max_features='sqrt'` or remove this parameter as it is also the default value for RandomForestClassifiers and ExtraTreesClassifiers.\n",
      "  warn(\n",
      "C:\\Python3\\lib\\site-packages\\sklearn\\ensemble\\_forest.py:427: FutureWarning: `max_features='auto'` has been deprecated in 1.1 and will be removed in 1.3. To keep the past behaviour, explicitly set `max_features='sqrt'` or remove this parameter as it is also the default value for RandomForestClassifiers and ExtraTreesClassifiers.\n",
      "  warn(\n",
      "C:\\Python3\\lib\\site-packages\\sklearn\\ensemble\\_forest.py:427: FutureWarning: `max_features='auto'` has been deprecated in 1.1 and will be removed in 1.3. To keep the past behaviour, explicitly set `max_features='sqrt'` or remove this parameter as it is also the default value for RandomForestClassifiers and ExtraTreesClassifiers.\n",
      "  warn(\n",
      "C:\\Python3\\lib\\site-packages\\sklearn\\ensemble\\_forest.py:427: FutureWarning: `max_features='auto'` has been deprecated in 1.1 and will be removed in 1.3. To keep the past behaviour, explicitly set `max_features='sqrt'` or remove this parameter as it is also the default value for RandomForestClassifiers and ExtraTreesClassifiers.\n",
      "  warn(\n",
      "C:\\Python3\\lib\\site-packages\\sklearn\\ensemble\\_forest.py:427: FutureWarning: `max_features='auto'` has been deprecated in 1.1 and will be removed in 1.3. To keep the past behaviour, explicitly set `max_features='sqrt'` or remove this parameter as it is also the default value for RandomForestClassifiers and ExtraTreesClassifiers.\n",
      "  warn(\n",
      "C:\\Python3\\lib\\site-packages\\sklearn\\ensemble\\_forest.py:427: FutureWarning: `max_features='auto'` has been deprecated in 1.1 and will be removed in 1.3. To keep the past behaviour, explicitly set `max_features='sqrt'` or remove this parameter as it is also the default value for RandomForestClassifiers and ExtraTreesClassifiers.\n",
      "  warn(\n",
      "C:\\Python3\\lib\\site-packages\\sklearn\\ensemble\\_forest.py:427: FutureWarning: `max_features='auto'` has been deprecated in 1.1 and will be removed in 1.3. To keep the past behaviour, explicitly set `max_features='sqrt'` or remove this parameter as it is also the default value for RandomForestClassifiers and ExtraTreesClassifiers.\n",
      "  warn(\n",
      "C:\\Python3\\lib\\site-packages\\sklearn\\ensemble\\_forest.py:427: FutureWarning: `max_features='auto'` has been deprecated in 1.1 and will be removed in 1.3. To keep the past behaviour, explicitly set `max_features='sqrt'` or remove this parameter as it is also the default value for RandomForestClassifiers and ExtraTreesClassifiers.\n",
      "  warn(\n",
      "C:\\Python3\\lib\\site-packages\\sklearn\\ensemble\\_forest.py:427: FutureWarning: `max_features='auto'` has been deprecated in 1.1 and will be removed in 1.3. To keep the past behaviour, explicitly set `max_features='sqrt'` or remove this parameter as it is also the default value for RandomForestClassifiers and ExtraTreesClassifiers.\n",
      "  warn(\n",
      "C:\\Python3\\lib\\site-packages\\sklearn\\ensemble\\_forest.py:427: FutureWarning: `max_features='auto'` has been deprecated in 1.1 and will be removed in 1.3. To keep the past behaviour, explicitly set `max_features='sqrt'` or remove this parameter as it is also the default value for RandomForestClassifiers and ExtraTreesClassifiers.\n",
      "  warn(\n",
      "C:\\Python3\\lib\\site-packages\\sklearn\\ensemble\\_forest.py:427: FutureWarning: `max_features='auto'` has been deprecated in 1.1 and will be removed in 1.3. To keep the past behaviour, explicitly set `max_features='sqrt'` or remove this parameter as it is also the default value for RandomForestClassifiers and ExtraTreesClassifiers.\n",
      "  warn(\n",
      "C:\\Python3\\lib\\site-packages\\sklearn\\ensemble\\_forest.py:427: FutureWarning: `max_features='auto'` has been deprecated in 1.1 and will be removed in 1.3. To keep the past behaviour, explicitly set `max_features='sqrt'` or remove this parameter as it is also the default value for RandomForestClassifiers and ExtraTreesClassifiers.\n",
      "  warn(\n",
      "C:\\Python3\\lib\\site-packages\\sklearn\\ensemble\\_forest.py:427: FutureWarning: `max_features='auto'` has been deprecated in 1.1 and will be removed in 1.3. To keep the past behaviour, explicitly set `max_features='sqrt'` or remove this parameter as it is also the default value for RandomForestClassifiers and ExtraTreesClassifiers.\n",
      "  warn(\n",
      "C:\\Python3\\lib\\site-packages\\sklearn\\ensemble\\_forest.py:427: FutureWarning: `max_features='auto'` has been deprecated in 1.1 and will be removed in 1.3. To keep the past behaviour, explicitly set `max_features='sqrt'` or remove this parameter as it is also the default value for RandomForestClassifiers and ExtraTreesClassifiers.\n",
      "  warn(\n",
      "C:\\Python3\\lib\\site-packages\\sklearn\\ensemble\\_forest.py:427: FutureWarning: `max_features='auto'` has been deprecated in 1.1 and will be removed in 1.3. To keep the past behaviour, explicitly set `max_features='sqrt'` or remove this parameter as it is also the default value for RandomForestClassifiers and ExtraTreesClassifiers.\n",
      "  warn(\n",
      "C:\\Python3\\lib\\site-packages\\sklearn\\ensemble\\_forest.py:427: FutureWarning: `max_features='auto'` has been deprecated in 1.1 and will be removed in 1.3. To keep the past behaviour, explicitly set `max_features='sqrt'` or remove this parameter as it is also the default value for RandomForestClassifiers and ExtraTreesClassifiers.\n",
      "  warn(\n",
      "C:\\Python3\\lib\\site-packages\\sklearn\\ensemble\\_forest.py:427: FutureWarning: `max_features='auto'` has been deprecated in 1.1 and will be removed in 1.3. To keep the past behaviour, explicitly set `max_features='sqrt'` or remove this parameter as it is also the default value for RandomForestClassifiers and ExtraTreesClassifiers.\n",
      "  warn(\n",
      "C:\\Python3\\lib\\site-packages\\sklearn\\ensemble\\_forest.py:427: FutureWarning: `max_features='auto'` has been deprecated in 1.1 and will be removed in 1.3. To keep the past behaviour, explicitly set `max_features='sqrt'` or remove this parameter as it is also the default value for RandomForestClassifiers and ExtraTreesClassifiers.\n",
      "  warn(\n",
      "C:\\Python3\\lib\\site-packages\\sklearn\\ensemble\\_forest.py:427: FutureWarning: `max_features='auto'` has been deprecated in 1.1 and will be removed in 1.3. To keep the past behaviour, explicitly set `max_features='sqrt'` or remove this parameter as it is also the default value for RandomForestClassifiers and ExtraTreesClassifiers.\n",
      "  warn(\n",
      "C:\\Python3\\lib\\site-packages\\sklearn\\ensemble\\_forest.py:427: FutureWarning: `max_features='auto'` has been deprecated in 1.1 and will be removed in 1.3. To keep the past behaviour, explicitly set `max_features='sqrt'` or remove this parameter as it is also the default value for RandomForestClassifiers and ExtraTreesClassifiers.\n",
      "  warn(\n",
      "C:\\Python3\\lib\\site-packages\\sklearn\\ensemble\\_forest.py:427: FutureWarning: `max_features='auto'` has been deprecated in 1.1 and will be removed in 1.3. To keep the past behaviour, explicitly set `max_features='sqrt'` or remove this parameter as it is also the default value for RandomForestClassifiers and ExtraTreesClassifiers.\n",
      "  warn(\n",
      "C:\\Python3\\lib\\site-packages\\sklearn\\ensemble\\_forest.py:427: FutureWarning: `max_features='auto'` has been deprecated in 1.1 and will be removed in 1.3. To keep the past behaviour, explicitly set `max_features='sqrt'` or remove this parameter as it is also the default value for RandomForestClassifiers and ExtraTreesClassifiers.\n",
      "  warn(\n",
      "C:\\Python3\\lib\\site-packages\\sklearn\\ensemble\\_forest.py:427: FutureWarning: `max_features='auto'` has been deprecated in 1.1 and will be removed in 1.3. To keep the past behaviour, explicitly set `max_features='sqrt'` or remove this parameter as it is also the default value for RandomForestClassifiers and ExtraTreesClassifiers.\n",
      "  warn(\n",
      "C:\\Python3\\lib\\site-packages\\sklearn\\ensemble\\_forest.py:427: FutureWarning: `max_features='auto'` has been deprecated in 1.1 and will be removed in 1.3. To keep the past behaviour, explicitly set `max_features='sqrt'` or remove this parameter as it is also the default value for RandomForestClassifiers and ExtraTreesClassifiers.\n",
      "  warn(\n",
      "C:\\Python3\\lib\\site-packages\\sklearn\\ensemble\\_forest.py:427: FutureWarning: `max_features='auto'` has been deprecated in 1.1 and will be removed in 1.3. To keep the past behaviour, explicitly set `max_features='sqrt'` or remove this parameter as it is also the default value for RandomForestClassifiers and ExtraTreesClassifiers.\n",
      "  warn(\n",
      "C:\\Python3\\lib\\site-packages\\sklearn\\ensemble\\_forest.py:427: FutureWarning: `max_features='auto'` has been deprecated in 1.1 and will be removed in 1.3. To keep the past behaviour, explicitly set `max_features='sqrt'` or remove this parameter as it is also the default value for RandomForestClassifiers and ExtraTreesClassifiers.\n",
      "  warn(\n",
      "C:\\Python3\\lib\\site-packages\\sklearn\\ensemble\\_forest.py:427: FutureWarning: `max_features='auto'` has been deprecated in 1.1 and will be removed in 1.3. To keep the past behaviour, explicitly set `max_features='sqrt'` or remove this parameter as it is also the default value for RandomForestClassifiers and ExtraTreesClassifiers.\n",
      "  warn(\n",
      "C:\\Python3\\lib\\site-packages\\sklearn\\ensemble\\_forest.py:427: FutureWarning: `max_features='auto'` has been deprecated in 1.1 and will be removed in 1.3. To keep the past behaviour, explicitly set `max_features='sqrt'` or remove this parameter as it is also the default value for RandomForestClassifiers and ExtraTreesClassifiers.\n",
      "  warn(\n",
      "C:\\Python3\\lib\\site-packages\\sklearn\\ensemble\\_forest.py:427: FutureWarning: `max_features='auto'` has been deprecated in 1.1 and will be removed in 1.3. To keep the past behaviour, explicitly set `max_features='sqrt'` or remove this parameter as it is also the default value for RandomForestClassifiers and ExtraTreesClassifiers.\n",
      "  warn(\n",
      "C:\\Python3\\lib\\site-packages\\sklearn\\ensemble\\_forest.py:427: FutureWarning: `max_features='auto'` has been deprecated in 1.1 and will be removed in 1.3. To keep the past behaviour, explicitly set `max_features='sqrt'` or remove this parameter as it is also the default value for RandomForestClassifiers and ExtraTreesClassifiers.\n",
      "  warn(\n",
      "C:\\Python3\\lib\\site-packages\\sklearn\\ensemble\\_forest.py:427: FutureWarning: `max_features='auto'` has been deprecated in 1.1 and will be removed in 1.3. To keep the past behaviour, explicitly set `max_features='sqrt'` or remove this parameter as it is also the default value for RandomForestClassifiers and ExtraTreesClassifiers.\n",
      "  warn(\n",
      "C:\\Python3\\lib\\site-packages\\sklearn\\ensemble\\_forest.py:427: FutureWarning: `max_features='auto'` has been deprecated in 1.1 and will be removed in 1.3. To keep the past behaviour, explicitly set `max_features='sqrt'` or remove this parameter as it is also the default value for RandomForestClassifiers and ExtraTreesClassifiers.\n",
      "  warn(\n",
      "C:\\Python3\\lib\\site-packages\\sklearn\\ensemble\\_forest.py:427: FutureWarning: `max_features='auto'` has been deprecated in 1.1 and will be removed in 1.3. To keep the past behaviour, explicitly set `max_features='sqrt'` or remove this parameter as it is also the default value for RandomForestClassifiers and ExtraTreesClassifiers.\n",
      "  warn(\n",
      "C:\\Python3\\lib\\site-packages\\sklearn\\ensemble\\_forest.py:427: FutureWarning: `max_features='auto'` has been deprecated in 1.1 and will be removed in 1.3. To keep the past behaviour, explicitly set `max_features='sqrt'` or remove this parameter as it is also the default value for RandomForestClassifiers and ExtraTreesClassifiers.\n",
      "  warn(\n",
      "C:\\Python3\\lib\\site-packages\\sklearn\\ensemble\\_forest.py:427: FutureWarning: `max_features='auto'` has been deprecated in 1.1 and will be removed in 1.3. To keep the past behaviour, explicitly set `max_features='sqrt'` or remove this parameter as it is also the default value for RandomForestClassifiers and ExtraTreesClassifiers.\n",
      "  warn(\n",
      "C:\\Python3\\lib\\site-packages\\sklearn\\ensemble\\_forest.py:427: FutureWarning: `max_features='auto'` has been deprecated in 1.1 and will be removed in 1.3. To keep the past behaviour, explicitly set `max_features='sqrt'` or remove this parameter as it is also the default value for RandomForestClassifiers and ExtraTreesClassifiers.\n",
      "  warn(\n",
      "C:\\Python3\\lib\\site-packages\\sklearn\\ensemble\\_forest.py:427: FutureWarning: `max_features='auto'` has been deprecated in 1.1 and will be removed in 1.3. To keep the past behaviour, explicitly set `max_features='sqrt'` or remove this parameter as it is also the default value for RandomForestClassifiers and ExtraTreesClassifiers.\n",
      "  warn(\n",
      "C:\\Python3\\lib\\site-packages\\sklearn\\ensemble\\_forest.py:427: FutureWarning: `max_features='auto'` has been deprecated in 1.1 and will be removed in 1.3. To keep the past behaviour, explicitly set `max_features='sqrt'` or remove this parameter as it is also the default value for RandomForestClassifiers and ExtraTreesClassifiers.\n",
      "  warn(\n",
      "C:\\Python3\\lib\\site-packages\\sklearn\\ensemble\\_forest.py:427: FutureWarning: `max_features='auto'` has been deprecated in 1.1 and will be removed in 1.3. To keep the past behaviour, explicitly set `max_features='sqrt'` or remove this parameter as it is also the default value for RandomForestClassifiers and ExtraTreesClassifiers.\n",
      "  warn(\n",
      "C:\\Python3\\lib\\site-packages\\sklearn\\ensemble\\_forest.py:427: FutureWarning: `max_features='auto'` has been deprecated in 1.1 and will be removed in 1.3. To keep the past behaviour, explicitly set `max_features='sqrt'` or remove this parameter as it is also the default value for RandomForestClassifiers and ExtraTreesClassifiers.\n",
      "  warn(\n",
      "C:\\Python3\\lib\\site-packages\\sklearn\\ensemble\\_forest.py:427: FutureWarning: `max_features='auto'` has been deprecated in 1.1 and will be removed in 1.3. To keep the past behaviour, explicitly set `max_features='sqrt'` or remove this parameter as it is also the default value for RandomForestClassifiers and ExtraTreesClassifiers.\n",
      "  warn(\n",
      "C:\\Python3\\lib\\site-packages\\sklearn\\ensemble\\_forest.py:427: FutureWarning: `max_features='auto'` has been deprecated in 1.1 and will be removed in 1.3. To keep the past behaviour, explicitly set `max_features='sqrt'` or remove this parameter as it is also the default value for RandomForestClassifiers and ExtraTreesClassifiers.\n",
      "  warn(\n",
      "C:\\Python3\\lib\\site-packages\\sklearn\\ensemble\\_forest.py:427: FutureWarning: `max_features='auto'` has been deprecated in 1.1 and will be removed in 1.3. To keep the past behaviour, explicitly set `max_features='sqrt'` or remove this parameter as it is also the default value for RandomForestClassifiers and ExtraTreesClassifiers.\n",
      "  warn(\n",
      "C:\\Python3\\lib\\site-packages\\sklearn\\ensemble\\_forest.py:427: FutureWarning: `max_features='auto'` has been deprecated in 1.1 and will be removed in 1.3. To keep the past behaviour, explicitly set `max_features='sqrt'` or remove this parameter as it is also the default value for RandomForestClassifiers and ExtraTreesClassifiers.\n",
      "  warn(\n",
      "C:\\Python3\\lib\\site-packages\\sklearn\\ensemble\\_forest.py:427: FutureWarning: `max_features='auto'` has been deprecated in 1.1 and will be removed in 1.3. To keep the past behaviour, explicitly set `max_features='sqrt'` or remove this parameter as it is also the default value for RandomForestClassifiers and ExtraTreesClassifiers.\n",
      "  warn(\n",
      "C:\\Python3\\lib\\site-packages\\sklearn\\ensemble\\_forest.py:427: FutureWarning: `max_features='auto'` has been deprecated in 1.1 and will be removed in 1.3. To keep the past behaviour, explicitly set `max_features='sqrt'` or remove this parameter as it is also the default value for RandomForestClassifiers and ExtraTreesClassifiers.\n",
      "  warn(\n",
      "C:\\Python3\\lib\\site-packages\\sklearn\\ensemble\\_forest.py:427: FutureWarning: `max_features='auto'` has been deprecated in 1.1 and will be removed in 1.3. To keep the past behaviour, explicitly set `max_features='sqrt'` or remove this parameter as it is also the default value for RandomForestClassifiers and ExtraTreesClassifiers.\n",
      "  warn(\n",
      "C:\\Python3\\lib\\site-packages\\sklearn\\ensemble\\_forest.py:427: FutureWarning: `max_features='auto'` has been deprecated in 1.1 and will be removed in 1.3. To keep the past behaviour, explicitly set `max_features='sqrt'` or remove this parameter as it is also the default value for RandomForestClassifiers and ExtraTreesClassifiers.\n",
      "  warn(\n",
      "C:\\Python3\\lib\\site-packages\\sklearn\\ensemble\\_forest.py:427: FutureWarning: `max_features='auto'` has been deprecated in 1.1 and will be removed in 1.3. To keep the past behaviour, explicitly set `max_features='sqrt'` or remove this parameter as it is also the default value for RandomForestClassifiers and ExtraTreesClassifiers.\n",
      "  warn(\n",
      "C:\\Python3\\lib\\site-packages\\sklearn\\ensemble\\_forest.py:427: FutureWarning: `max_features='auto'` has been deprecated in 1.1 and will be removed in 1.3. To keep the past behaviour, explicitly set `max_features='sqrt'` or remove this parameter as it is also the default value for RandomForestClassifiers and ExtraTreesClassifiers.\n",
      "  warn(\n",
      "C:\\Python3\\lib\\site-packages\\sklearn\\ensemble\\_forest.py:427: FutureWarning: `max_features='auto'` has been deprecated in 1.1 and will be removed in 1.3. To keep the past behaviour, explicitly set `max_features='sqrt'` or remove this parameter as it is also the default value for RandomForestClassifiers and ExtraTreesClassifiers.\n",
      "  warn(\n",
      "C:\\Python3\\lib\\site-packages\\sklearn\\ensemble\\_forest.py:427: FutureWarning: `max_features='auto'` has been deprecated in 1.1 and will be removed in 1.3. To keep the past behaviour, explicitly set `max_features='sqrt'` or remove this parameter as it is also the default value for RandomForestClassifiers and ExtraTreesClassifiers.\n",
      "  warn(\n",
      "C:\\Python3\\lib\\site-packages\\sklearn\\ensemble\\_forest.py:427: FutureWarning: `max_features='auto'` has been deprecated in 1.1 and will be removed in 1.3. To keep the past behaviour, explicitly set `max_features='sqrt'` or remove this parameter as it is also the default value for RandomForestClassifiers and ExtraTreesClassifiers.\n",
      "  warn(\n",
      "C:\\Python3\\lib\\site-packages\\sklearn\\ensemble\\_forest.py:427: FutureWarning: `max_features='auto'` has been deprecated in 1.1 and will be removed in 1.3. To keep the past behaviour, explicitly set `max_features='sqrt'` or remove this parameter as it is also the default value for RandomForestClassifiers and ExtraTreesClassifiers.\n",
      "  warn(\n",
      "C:\\Python3\\lib\\site-packages\\sklearn\\ensemble\\_forest.py:427: FutureWarning: `max_features='auto'` has been deprecated in 1.1 and will be removed in 1.3. To keep the past behaviour, explicitly set `max_features='sqrt'` or remove this parameter as it is also the default value for RandomForestClassifiers and ExtraTreesClassifiers.\n",
      "  warn(\n",
      "C:\\Python3\\lib\\site-packages\\sklearn\\ensemble\\_forest.py:427: FutureWarning: `max_features='auto'` has been deprecated in 1.1 and will be removed in 1.3. To keep the past behaviour, explicitly set `max_features='sqrt'` or remove this parameter as it is also the default value for RandomForestClassifiers and ExtraTreesClassifiers.\n",
      "  warn(\n",
      "C:\\Python3\\lib\\site-packages\\sklearn\\ensemble\\_forest.py:427: FutureWarning: `max_features='auto'` has been deprecated in 1.1 and will be removed in 1.3. To keep the past behaviour, explicitly set `max_features='sqrt'` or remove this parameter as it is also the default value for RandomForestClassifiers and ExtraTreesClassifiers.\n",
      "  warn(\n",
      "C:\\Python3\\lib\\site-packages\\sklearn\\ensemble\\_forest.py:427: FutureWarning: `max_features='auto'` has been deprecated in 1.1 and will be removed in 1.3. To keep the past behaviour, explicitly set `max_features='sqrt'` or remove this parameter as it is also the default value for RandomForestClassifiers and ExtraTreesClassifiers.\n",
      "  warn(\n",
      "C:\\Python3\\lib\\site-packages\\sklearn\\ensemble\\_forest.py:427: FutureWarning: `max_features='auto'` has been deprecated in 1.1 and will be removed in 1.3. To keep the past behaviour, explicitly set `max_features='sqrt'` or remove this parameter as it is also the default value for RandomForestClassifiers and ExtraTreesClassifiers.\n",
      "  warn(\n",
      "C:\\Python3\\lib\\site-packages\\sklearn\\ensemble\\_forest.py:427: FutureWarning: `max_features='auto'` has been deprecated in 1.1 and will be removed in 1.3. To keep the past behaviour, explicitly set `max_features='sqrt'` or remove this parameter as it is also the default value for RandomForestClassifiers and ExtraTreesClassifiers.\n",
      "  warn(\n",
      "C:\\Python3\\lib\\site-packages\\sklearn\\ensemble\\_forest.py:427: FutureWarning: `max_features='auto'` has been deprecated in 1.1 and will be removed in 1.3. To keep the past behaviour, explicitly set `max_features='sqrt'` or remove this parameter as it is also the default value for RandomForestClassifiers and ExtraTreesClassifiers.\n",
      "  warn(\n",
      "C:\\Python3\\lib\\site-packages\\sklearn\\ensemble\\_forest.py:427: FutureWarning: `max_features='auto'` has been deprecated in 1.1 and will be removed in 1.3. To keep the past behaviour, explicitly set `max_features='sqrt'` or remove this parameter as it is also the default value for RandomForestClassifiers and ExtraTreesClassifiers.\n",
      "  warn(\n",
      "C:\\Python3\\lib\\site-packages\\sklearn\\ensemble\\_forest.py:427: FutureWarning: `max_features='auto'` has been deprecated in 1.1 and will be removed in 1.3. To keep the past behaviour, explicitly set `max_features='sqrt'` or remove this parameter as it is also the default value for RandomForestClassifiers and ExtraTreesClassifiers.\n",
      "  warn(\n",
      "C:\\Python3\\lib\\site-packages\\sklearn\\ensemble\\_forest.py:427: FutureWarning: `max_features='auto'` has been deprecated in 1.1 and will be removed in 1.3. To keep the past behaviour, explicitly set `max_features='sqrt'` or remove this parameter as it is also the default value for RandomForestClassifiers and ExtraTreesClassifiers.\n",
      "  warn(\n",
      "C:\\Python3\\lib\\site-packages\\sklearn\\ensemble\\_forest.py:427: FutureWarning: `max_features='auto'` has been deprecated in 1.1 and will be removed in 1.3. To keep the past behaviour, explicitly set `max_features='sqrt'` or remove this parameter as it is also the default value for RandomForestClassifiers and ExtraTreesClassifiers.\n",
      "  warn(\n",
      "C:\\Python3\\lib\\site-packages\\sklearn\\ensemble\\_forest.py:427: FutureWarning: `max_features='auto'` has been deprecated in 1.1 and will be removed in 1.3. To keep the past behaviour, explicitly set `max_features='sqrt'` or remove this parameter as it is also the default value for RandomForestClassifiers and ExtraTreesClassifiers.\n",
      "  warn(\n",
      "C:\\Python3\\lib\\site-packages\\sklearn\\ensemble\\_forest.py:427: FutureWarning: `max_features='auto'` has been deprecated in 1.1 and will be removed in 1.3. To keep the past behaviour, explicitly set `max_features='sqrt'` or remove this parameter as it is also the default value for RandomForestClassifiers and ExtraTreesClassifiers.\n",
      "  warn(\n",
      "C:\\Python3\\lib\\site-packages\\sklearn\\ensemble\\_forest.py:427: FutureWarning: `max_features='auto'` has been deprecated in 1.1 and will be removed in 1.3. To keep the past behaviour, explicitly set `max_features='sqrt'` or remove this parameter as it is also the default value for RandomForestClassifiers and ExtraTreesClassifiers.\n",
      "  warn(\n",
      "C:\\Python3\\lib\\site-packages\\sklearn\\ensemble\\_forest.py:427: FutureWarning: `max_features='auto'` has been deprecated in 1.1 and will be removed in 1.3. To keep the past behaviour, explicitly set `max_features='sqrt'` or remove this parameter as it is also the default value for RandomForestClassifiers and ExtraTreesClassifiers.\n",
      "  warn(\n",
      "C:\\Python3\\lib\\site-packages\\sklearn\\ensemble\\_forest.py:427: FutureWarning: `max_features='auto'` has been deprecated in 1.1 and will be removed in 1.3. To keep the past behaviour, explicitly set `max_features='sqrt'` or remove this parameter as it is also the default value for RandomForestClassifiers and ExtraTreesClassifiers.\n",
      "  warn(\n",
      "C:\\Python3\\lib\\site-packages\\sklearn\\ensemble\\_forest.py:427: FutureWarning: `max_features='auto'` has been deprecated in 1.1 and will be removed in 1.3. To keep the past behaviour, explicitly set `max_features='sqrt'` or remove this parameter as it is also the default value for RandomForestClassifiers and ExtraTreesClassifiers.\n",
      "  warn(\n",
      "C:\\Python3\\lib\\site-packages\\sklearn\\ensemble\\_forest.py:427: FutureWarning: `max_features='auto'` has been deprecated in 1.1 and will be removed in 1.3. To keep the past behaviour, explicitly set `max_features='sqrt'` or remove this parameter as it is also the default value for RandomForestClassifiers and ExtraTreesClassifiers.\n",
      "  warn(\n",
      "C:\\Python3\\lib\\site-packages\\sklearn\\ensemble\\_forest.py:427: FutureWarning: `max_features='auto'` has been deprecated in 1.1 and will be removed in 1.3. To keep the past behaviour, explicitly set `max_features='sqrt'` or remove this parameter as it is also the default value for RandomForestClassifiers and ExtraTreesClassifiers.\n",
      "  warn(\n",
      "C:\\Python3\\lib\\site-packages\\sklearn\\ensemble\\_forest.py:427: FutureWarning: `max_features='auto'` has been deprecated in 1.1 and will be removed in 1.3. To keep the past behaviour, explicitly set `max_features='sqrt'` or remove this parameter as it is also the default value for RandomForestClassifiers and ExtraTreesClassifiers.\n",
      "  warn(\n",
      "C:\\Python3\\lib\\site-packages\\sklearn\\ensemble\\_forest.py:427: FutureWarning: `max_features='auto'` has been deprecated in 1.1 and will be removed in 1.3. To keep the past behaviour, explicitly set `max_features='sqrt'` or remove this parameter as it is also the default value for RandomForestClassifiers and ExtraTreesClassifiers.\n",
      "  warn(\n",
      "C:\\Python3\\lib\\site-packages\\sklearn\\ensemble\\_forest.py:427: FutureWarning: `max_features='auto'` has been deprecated in 1.1 and will be removed in 1.3. To keep the past behaviour, explicitly set `max_features='sqrt'` or remove this parameter as it is also the default value for RandomForestClassifiers and ExtraTreesClassifiers.\n",
      "  warn(\n",
      "C:\\Python3\\lib\\site-packages\\sklearn\\ensemble\\_forest.py:427: FutureWarning: `max_features='auto'` has been deprecated in 1.1 and will be removed in 1.3. To keep the past behaviour, explicitly set `max_features='sqrt'` or remove this parameter as it is also the default value for RandomForestClassifiers and ExtraTreesClassifiers.\n",
      "  warn(\n"
     ]
    },
    {
     "data": {
      "text/html": [
       "<style>#sk-container-id-19 {color: black;background-color: white;}#sk-container-id-19 pre{padding: 0;}#sk-container-id-19 div.sk-toggleable {background-color: white;}#sk-container-id-19 label.sk-toggleable__label {cursor: pointer;display: block;width: 100%;margin-bottom: 0;padding: 0.3em;box-sizing: border-box;text-align: center;}#sk-container-id-19 label.sk-toggleable__label-arrow:before {content: \"▸\";float: left;margin-right: 0.25em;color: #696969;}#sk-container-id-19 label.sk-toggleable__label-arrow:hover:before {color: black;}#sk-container-id-19 div.sk-estimator:hover label.sk-toggleable__label-arrow:before {color: black;}#sk-container-id-19 div.sk-toggleable__content {max-height: 0;max-width: 0;overflow: hidden;text-align: left;background-color: #f0f8ff;}#sk-container-id-19 div.sk-toggleable__content pre {margin: 0.2em;color: black;border-radius: 0.25em;background-color: #f0f8ff;}#sk-container-id-19 input.sk-toggleable__control:checked~div.sk-toggleable__content {max-height: 200px;max-width: 100%;overflow: auto;}#sk-container-id-19 input.sk-toggleable__control:checked~label.sk-toggleable__label-arrow:before {content: \"▾\";}#sk-container-id-19 div.sk-estimator input.sk-toggleable__control:checked~label.sk-toggleable__label {background-color: #d4ebff;}#sk-container-id-19 div.sk-label input.sk-toggleable__control:checked~label.sk-toggleable__label {background-color: #d4ebff;}#sk-container-id-19 input.sk-hidden--visually {border: 0;clip: rect(1px 1px 1px 1px);clip: rect(1px, 1px, 1px, 1px);height: 1px;margin: -1px;overflow: hidden;padding: 0;position: absolute;width: 1px;}#sk-container-id-19 div.sk-estimator {font-family: monospace;background-color: #f0f8ff;border: 1px dotted black;border-radius: 0.25em;box-sizing: border-box;margin-bottom: 0.5em;}#sk-container-id-19 div.sk-estimator:hover {background-color: #d4ebff;}#sk-container-id-19 div.sk-parallel-item::after {content: \"\";width: 100%;border-bottom: 1px solid gray;flex-grow: 1;}#sk-container-id-19 div.sk-label:hover label.sk-toggleable__label {background-color: #d4ebff;}#sk-container-id-19 div.sk-serial::before {content: \"\";position: absolute;border-left: 1px solid gray;box-sizing: border-box;top: 0;bottom: 0;left: 50%;z-index: 0;}#sk-container-id-19 div.sk-serial {display: flex;flex-direction: column;align-items: center;background-color: white;padding-right: 0.2em;padding-left: 0.2em;position: relative;}#sk-container-id-19 div.sk-item {position: relative;z-index: 1;}#sk-container-id-19 div.sk-parallel {display: flex;align-items: stretch;justify-content: center;background-color: white;position: relative;}#sk-container-id-19 div.sk-item::before, #sk-container-id-19 div.sk-parallel-item::before {content: \"\";position: absolute;border-left: 1px solid gray;box-sizing: border-box;top: 0;bottom: 0;left: 50%;z-index: -1;}#sk-container-id-19 div.sk-parallel-item {display: flex;flex-direction: column;z-index: 1;position: relative;background-color: white;}#sk-container-id-19 div.sk-parallel-item:first-child::after {align-self: flex-end;width: 50%;}#sk-container-id-19 div.sk-parallel-item:last-child::after {align-self: flex-start;width: 50%;}#sk-container-id-19 div.sk-parallel-item:only-child::after {width: 0;}#sk-container-id-19 div.sk-dashed-wrapped {border: 1px dashed gray;margin: 0 0.4em 0.5em 0.4em;box-sizing: border-box;padding-bottom: 0.4em;background-color: white;}#sk-container-id-19 div.sk-label label {font-family: monospace;font-weight: bold;display: inline-block;line-height: 1.2em;}#sk-container-id-19 div.sk-label-container {text-align: center;}#sk-container-id-19 div.sk-container {/* jupyter's `normalize.less` sets `[hidden] { display: none; }` but bootstrap.min.css set `[hidden] { display: none !important; }` so we also need the `!important` here to be able to override the default hidden behavior on the sphinx rendered scikit-learn.org. See: https://github.com/scikit-learn/scikit-learn/issues/21755 */display: inline-block !important;position: relative;}#sk-container-id-19 div.sk-text-repr-fallback {display: none;}</style><div id=\"sk-container-id-19\" class=\"sk-top-container\"><div class=\"sk-text-repr-fallback\"><pre>RandomizedSearchCV(cv=3, estimator=RandomForestClassifier(n_estimators=10),\n",
       "                   n_iter=90,\n",
       "                   param_distributions={&#x27;max_depth&#x27;: [10, 20, 30, 40, 50, 60,\n",
       "                                                      70, 80, 90, None],\n",
       "                                        &#x27;max_features&#x27;: [&#x27;auto&#x27;, None, &#x27;log2&#x27;],\n",
       "                                        &#x27;min_samples_leaf&#x27;: [1, 2, 4]},\n",
       "                   random_state=42)</pre><b>In a Jupyter environment, please rerun this cell to show the HTML representation or trust the notebook. <br />On GitHub, the HTML representation is unable to render, please try loading this page with nbviewer.org.</b></div><div class=\"sk-container\" hidden><div class=\"sk-item sk-dashed-wrapped\"><div class=\"sk-label-container\"><div class=\"sk-label sk-toggleable\"><input class=\"sk-toggleable__control sk-hidden--visually\" id=\"sk-estimator-id-25\" type=\"checkbox\" ><label for=\"sk-estimator-id-25\" class=\"sk-toggleable__label sk-toggleable__label-arrow\">RandomizedSearchCV</label><div class=\"sk-toggleable__content\"><pre>RandomizedSearchCV(cv=3, estimator=RandomForestClassifier(n_estimators=10),\n",
       "                   n_iter=90,\n",
       "                   param_distributions={&#x27;max_depth&#x27;: [10, 20, 30, 40, 50, 60,\n",
       "                                                      70, 80, 90, None],\n",
       "                                        &#x27;max_features&#x27;: [&#x27;auto&#x27;, None, &#x27;log2&#x27;],\n",
       "                                        &#x27;min_samples_leaf&#x27;: [1, 2, 4]},\n",
       "                   random_state=42)</pre></div></div></div><div class=\"sk-parallel\"><div class=\"sk-parallel-item\"><div class=\"sk-item\"><div class=\"sk-label-container\"><div class=\"sk-label sk-toggleable\"><input class=\"sk-toggleable__control sk-hidden--visually\" id=\"sk-estimator-id-26\" type=\"checkbox\" ><label for=\"sk-estimator-id-26\" class=\"sk-toggleable__label sk-toggleable__label-arrow\">estimator: RandomForestClassifier</label><div class=\"sk-toggleable__content\"><pre>RandomForestClassifier(n_estimators=10)</pre></div></div></div><div class=\"sk-serial\"><div class=\"sk-item\"><div class=\"sk-estimator sk-toggleable\"><input class=\"sk-toggleable__control sk-hidden--visually\" id=\"sk-estimator-id-27\" type=\"checkbox\" ><label for=\"sk-estimator-id-27\" class=\"sk-toggleable__label sk-toggleable__label-arrow\">RandomForestClassifier</label><div class=\"sk-toggleable__content\"><pre>RandomForestClassifier(n_estimators=10)</pre></div></div></div></div></div></div></div></div></div></div>"
      ],
      "text/plain": [
       "RandomizedSearchCV(cv=3, estimator=RandomForestClassifier(n_estimators=10),\n",
       "                   n_iter=90,\n",
       "                   param_distributions={'max_depth': [10, 20, 30, 40, 50, 60,\n",
       "                                                      70, 80, 90, None],\n",
       "                                        'max_features': ['auto', None, 'log2'],\n",
       "                                        'min_samples_leaf': [1, 2, 4]},\n",
       "                   random_state=42)"
      ]
     },
     "execution_count": 165,
     "metadata": {},
     "output_type": "execute_result"
    }
   ],
   "source": [
    "rf_random.fit(x_train, y_train)"
   ]
  },
  {
   "cell_type": "markdown",
   "id": "ec805bf7-0708-48b0-9287-c20561f09097",
   "metadata": {},
   "source": [
    "Which parameter is helpful?"
   ]
  },
  {
   "cell_type": "code",
   "execution_count": 166,
   "id": "c26de0e0-7463-4c5a-9fe5-e6259e30a705",
   "metadata": {},
   "outputs": [
    {
     "data": {
      "text/plain": [
       "{'min_samples_leaf': 2, 'max_features': 'auto', 'max_depth': 60}"
      ]
     },
     "execution_count": 166,
     "metadata": {},
     "output_type": "execute_result"
    }
   ],
   "source": [
    "rf_random.best_params_"
   ]
  },
  {
   "cell_type": "markdown",
   "id": "aa176a50-1b63-49f8-946b-55912e119621",
   "metadata": {},
   "source": [
    "The model with the best accuracy has atleast 1 sample per leaf, leave the max features setting on 'log2', has a maximum depth of 50 decision points"
   ]
  },
  {
   "cell_type": "markdown",
   "id": "e8c5646f-a604-449d-b223-41366e9ad146",
   "metadata": {},
   "source": [
    "Run 1 last random forest that has those parameters "
   ]
  },
  {
   "cell_type": "code",
   "execution_count": 167,
   "id": "75cdd0f9-4c7e-4dd2-8f2f-3efcb6859beb",
   "metadata": {},
   "outputs": [
    {
     "data": {
      "text/html": [
       "<style>#sk-container-id-20 {color: black;background-color: white;}#sk-container-id-20 pre{padding: 0;}#sk-container-id-20 div.sk-toggleable {background-color: white;}#sk-container-id-20 label.sk-toggleable__label {cursor: pointer;display: block;width: 100%;margin-bottom: 0;padding: 0.3em;box-sizing: border-box;text-align: center;}#sk-container-id-20 label.sk-toggleable__label-arrow:before {content: \"▸\";float: left;margin-right: 0.25em;color: #696969;}#sk-container-id-20 label.sk-toggleable__label-arrow:hover:before {color: black;}#sk-container-id-20 div.sk-estimator:hover label.sk-toggleable__label-arrow:before {color: black;}#sk-container-id-20 div.sk-toggleable__content {max-height: 0;max-width: 0;overflow: hidden;text-align: left;background-color: #f0f8ff;}#sk-container-id-20 div.sk-toggleable__content pre {margin: 0.2em;color: black;border-radius: 0.25em;background-color: #f0f8ff;}#sk-container-id-20 input.sk-toggleable__control:checked~div.sk-toggleable__content {max-height: 200px;max-width: 100%;overflow: auto;}#sk-container-id-20 input.sk-toggleable__control:checked~label.sk-toggleable__label-arrow:before {content: \"▾\";}#sk-container-id-20 div.sk-estimator input.sk-toggleable__control:checked~label.sk-toggleable__label {background-color: #d4ebff;}#sk-container-id-20 div.sk-label input.sk-toggleable__control:checked~label.sk-toggleable__label {background-color: #d4ebff;}#sk-container-id-20 input.sk-hidden--visually {border: 0;clip: rect(1px 1px 1px 1px);clip: rect(1px, 1px, 1px, 1px);height: 1px;margin: -1px;overflow: hidden;padding: 0;position: absolute;width: 1px;}#sk-container-id-20 div.sk-estimator {font-family: monospace;background-color: #f0f8ff;border: 1px dotted black;border-radius: 0.25em;box-sizing: border-box;margin-bottom: 0.5em;}#sk-container-id-20 div.sk-estimator:hover {background-color: #d4ebff;}#sk-container-id-20 div.sk-parallel-item::after {content: \"\";width: 100%;border-bottom: 1px solid gray;flex-grow: 1;}#sk-container-id-20 div.sk-label:hover label.sk-toggleable__label {background-color: #d4ebff;}#sk-container-id-20 div.sk-serial::before {content: \"\";position: absolute;border-left: 1px solid gray;box-sizing: border-box;top: 0;bottom: 0;left: 50%;z-index: 0;}#sk-container-id-20 div.sk-serial {display: flex;flex-direction: column;align-items: center;background-color: white;padding-right: 0.2em;padding-left: 0.2em;position: relative;}#sk-container-id-20 div.sk-item {position: relative;z-index: 1;}#sk-container-id-20 div.sk-parallel {display: flex;align-items: stretch;justify-content: center;background-color: white;position: relative;}#sk-container-id-20 div.sk-item::before, #sk-container-id-20 div.sk-parallel-item::before {content: \"\";position: absolute;border-left: 1px solid gray;box-sizing: border-box;top: 0;bottom: 0;left: 50%;z-index: -1;}#sk-container-id-20 div.sk-parallel-item {display: flex;flex-direction: column;z-index: 1;position: relative;background-color: white;}#sk-container-id-20 div.sk-parallel-item:first-child::after {align-self: flex-end;width: 50%;}#sk-container-id-20 div.sk-parallel-item:last-child::after {align-self: flex-start;width: 50%;}#sk-container-id-20 div.sk-parallel-item:only-child::after {width: 0;}#sk-container-id-20 div.sk-dashed-wrapped {border: 1px dashed gray;margin: 0 0.4em 0.5em 0.4em;box-sizing: border-box;padding-bottom: 0.4em;background-color: white;}#sk-container-id-20 div.sk-label label {font-family: monospace;font-weight: bold;display: inline-block;line-height: 1.2em;}#sk-container-id-20 div.sk-label-container {text-align: center;}#sk-container-id-20 div.sk-container {/* jupyter's `normalize.less` sets `[hidden] { display: none; }` but bootstrap.min.css set `[hidden] { display: none !important; }` so we also need the `!important` here to be able to override the default hidden behavior on the sphinx rendered scikit-learn.org. See: https://github.com/scikit-learn/scikit-learn/issues/21755 */display: inline-block !important;position: relative;}#sk-container-id-20 div.sk-text-repr-fallback {display: none;}</style><div id=\"sk-container-id-20\" class=\"sk-top-container\"><div class=\"sk-text-repr-fallback\"><pre>RandomForestClassifier(max_depth=50, max_features=&#x27;log2&#x27;, n_estimators=10)</pre><b>In a Jupyter environment, please rerun this cell to show the HTML representation or trust the notebook. <br />On GitHub, the HTML representation is unable to render, please try loading this page with nbviewer.org.</b></div><div class=\"sk-container\" hidden><div class=\"sk-item\"><div class=\"sk-estimator sk-toggleable\"><input class=\"sk-toggleable__control sk-hidden--visually\" id=\"sk-estimator-id-28\" type=\"checkbox\" checked><label for=\"sk-estimator-id-28\" class=\"sk-toggleable__label sk-toggleable__label-arrow\">RandomForestClassifier</label><div class=\"sk-toggleable__content\"><pre>RandomForestClassifier(max_depth=50, max_features=&#x27;log2&#x27;, n_estimators=10)</pre></div></div></div></div></div>"
      ],
      "text/plain": [
       "RandomForestClassifier(max_depth=50, max_features='log2', n_estimators=10)"
      ]
     },
     "execution_count": 167,
     "metadata": {},
     "output_type": "execute_result"
    }
   ],
   "source": [
    "forest = RandomForestClassifier(n_estimators=10, min_samples_leaf=1, max_features=\"log2\", max_depth=50)\n",
    "forest.fit(x_train, y_train)"
   ]
  },
  {
   "cell_type": "markdown",
   "id": "e36f171e-0837-4c02-a8e5-52c8815673fd",
   "metadata": {},
   "source": [
    "The same prediction and classification report info as before with the new and improved model"
   ]
  },
  {
   "cell_type": "code",
   "execution_count": 168,
   "id": "d875d3c2-ae4f-45b4-91f3-bc59d8118e04",
   "metadata": {},
   "outputs": [],
   "source": [
    "forestPredictions = forest.predict(x_test)"
   ]
  },
  {
   "cell_type": "code",
   "execution_count": 169,
   "id": "6aba4ad2-2559-4f96-99b8-664a6fe0a3c4",
   "metadata": {},
   "outputs": [
    {
     "name": "stdout",
     "output_type": "stream",
     "text": [
      "[[0 0 0 ... 0 0 0]\n",
      " [0 0 0 ... 0 0 0]\n",
      " [0 0 0 ... 0 0 0]\n",
      " ...\n",
      " [0 0 0 ... 0 0 0]\n",
      " [0 0 0 ... 0 0 0]\n",
      " [0 0 0 ... 0 0 0]]\n"
     ]
    }
   ],
   "source": [
    "print(confusion_matrix(y_test, forestPredictions))"
   ]
  },
  {
   "cell_type": "code",
   "execution_count": 170,
   "id": "ea1a5ebd-bf5c-4db9-a73e-6d12a2b2cc17",
   "metadata": {},
   "outputs": [
    {
     "name": "stdout",
     "output_type": "stream",
     "text": [
      "              precision    recall  f1-score   support\n",
      "\n",
      "           1       0.00      0.00      0.00       695\n",
      "           2       0.00      0.00      0.00        22\n",
      "           3       0.00      0.00      0.00         3\n",
      "           4       0.00      0.00      0.00       156\n",
      "           5       0.00      0.00      0.00         6\n",
      "           6       0.00      0.00      0.00         2\n",
      "           7       0.00      0.00      0.00       245\n",
      "           8       0.00      0.00      0.00        22\n",
      "          10       0.00      0.00      0.00      2186\n",
      "          11       0.00      0.00      0.00       134\n",
      "          12       0.00      0.00      0.00        16\n",
      "          13       0.00      0.00      0.00      4069\n",
      "          14       0.00      0.00      0.00       241\n",
      "          15       0.00      0.00      0.00        38\n",
      "          16       0.16      0.37      0.22     13173\n",
      "          17       0.00      0.00      0.00       842\n",
      "          18       0.00      0.00      0.00       101\n",
      "          19       0.12      0.01      0.01      9096\n",
      "          20       0.00      0.00      0.00       302\n",
      "          21       0.00      0.00      0.00      4462\n",
      "          22       0.00      0.00      0.00       167\n",
      "          23       0.10      0.18      0.13      3486\n",
      "          24       0.00      0.00      0.00       104\n",
      "          25       0.00      0.00      0.00       483\n",
      "          26       0.00      0.00      0.00         8\n",
      "          27       0.09      0.02      0.03      1326\n",
      "          28       0.00      0.00      0.00        31\n",
      "          29       0.00      0.00      0.00      1494\n",
      "          30       0.00      0.00      0.00        96\n",
      "          32       0.00      0.00      0.00      1559\n",
      "          33       0.00      0.00      0.00        76\n",
      "          34       0.00      0.00      0.00         4\n",
      "          35       0.00      0.00      0.00      1075\n",
      "          36       0.00      0.00      0.00        23\n",
      "          37       0.00      0.00      0.00       211\n",
      "          38       0.00      0.00      0.00         5\n",
      "          39       0.00      0.00      0.00       377\n",
      "          40       0.00      0.00      0.00         2\n",
      "          41       0.15      0.70      0.24     11232\n",
      "          42       0.00      0.00      0.00       361\n",
      "          43       0.00      0.00      0.00       804\n",
      "          44       0.00      0.00      0.00        29\n",
      "          45       0.00      0.00      0.00         2\n",
      "          46       0.00      0.00      0.00      3446\n",
      "          47       0.00      0.00      0.00        91\n",
      "          48       0.00      0.00      0.00      1858\n",
      "          49       0.00      0.00      0.00        61\n",
      "          50       0.00      0.00      0.00       533\n",
      "          51       0.00      0.00      0.00        19\n",
      "          52       0.00      0.00      0.00      1202\n",
      "          53       0.00      0.00      0.00        26\n",
      "          54       0.00      0.00      0.00      1008\n",
      "          55       0.00      0.00      0.00        34\n",
      "          56       0.00      0.00      0.00      1492\n",
      "          57       0.00      0.00      0.00        29\n",
      "          58       0.00      0.00      0.00      1569\n",
      "          59       0.00      0.00      0.00        18\n",
      "          60       0.00      0.00      0.00      1100\n",
      "          61       0.00      0.00      0.00        81\n",
      "          62       0.00      0.00      0.00         3\n",
      "          63       0.00      0.00      0.00       529\n",
      "          64       0.00      0.00      0.00        23\n",
      "          65       0.00      0.00      0.00         1\n",
      "          66       0.00      0.00      0.00       531\n",
      "          67       0.00      0.00      0.00        17\n",
      "          68       0.00      0.00      0.00         2\n",
      "          69       0.00      0.00      0.00       785\n",
      "          70       0.00      0.00      0.00        46\n",
      "          71       0.00      0.00      0.00         1\n",
      "          72       0.00      0.00      0.00       414\n",
      "          73       0.00      0.00      0.00        29\n",
      "          74       0.00      0.00      0.00      1381\n",
      "          75       0.00      0.00      0.00        76\n",
      "          76       0.00      0.00      0.00         4\n",
      "          77       0.00      0.00      0.00       532\n",
      "          78       0.00      0.00      0.00        11\n",
      "          79       0.00      0.00      0.00       396\n",
      "          80       0.00      0.00      0.00         9\n",
      "          81       0.00      0.00      0.00       334\n",
      "          82       0.00      0.00      0.00        17\n",
      "          83       0.00      0.00      0.00         9\n",
      "          84       0.12      0.13      0.12      3588\n",
      "          85       0.00      0.00      0.00        87\n",
      "          86       0.00      0.00      0.00        93\n",
      "          87       0.00      0.00      0.00         2\n",
      "          88       0.00      0.00      0.00        27\n",
      "          89       0.00      0.00      0.00         1\n",
      "          90       0.00      0.00      0.00       115\n",
      "          92       0.00      0.00      0.00       244\n",
      "          93       0.00      0.00      0.00        12\n",
      "          95       0.00      0.00      0.00        73\n",
      "          96       0.00      0.00      0.00       174\n",
      "          97       0.00      0.00      0.00         4\n",
      "          98       0.00      0.00      0.00      1150\n",
      "          99       0.00      0.00      0.00        32\n",
      "         100       0.00      0.00      0.00       329\n",
      "         101       0.00      0.00      0.00        10\n",
      "         102       0.00      0.00      0.00       489\n",
      "         103       0.00      0.00      0.00        11\n",
      "         104       0.00      0.00      0.00       809\n",
      "         105       0.00      0.00      0.00        24\n",
      "         106       0.00      0.00      0.00        28\n",
      "         107       0.00      0.00      0.00        24\n",
      "         108       0.00      0.00      0.00        36\n",
      "         109       0.00      0.00      0.00       173\n",
      "         110       0.00      0.00      0.00         6\n",
      "         111       0.00      0.00      0.00       751\n",
      "         112       0.00      0.00      0.00        24\n",
      "         113       0.00      0.00      0.00        11\n",
      "         114       0.00      0.00      0.00       153\n",
      "         116       0.00      0.00      0.00       533\n",
      "         117       0.00      0.00      0.00         3\n",
      "         118       0.00      0.00      0.00      1033\n",
      "         119       0.00      0.00      0.00        42\n",
      "         120       0.00      0.00      0.00      1032\n",
      "         121       0.00      0.00      0.00        10\n",
      "         123       0.00      0.00      0.00        67\n",
      "         124       0.00      0.00      0.00        47\n",
      "         125       0.00      0.00      0.00        33\n",
      "         126       0.00      0.00      0.00       141\n",
      "         127       0.00      0.00      0.00       624\n",
      "         128       0.00      0.00      0.00       132\n",
      "         129       0.00      0.00      0.00      2231\n",
      "         130       0.00      0.00      0.00         1\n",
      "         133       0.00      0.00      0.00      2883\n",
      "         134       0.00      0.00      0.00         1\n",
      "         135       0.00      0.00      0.00        15\n",
      "         136       0.00      0.00      0.00         9\n",
      "         137       0.00      0.00      0.00         8\n",
      "         138       0.00      0.00      0.00        79\n",
      "         139       0.00      0.00      0.00         1\n",
      "         140       0.00      0.00      0.00        71\n",
      "         142       0.00      0.00      0.00        14\n",
      "         143       0.00      0.00      0.00         7\n",
      "         147       0.00      0.00      0.00       245\n",
      "         148       0.00      0.00      0.00         7\n",
      "\n",
      "    accuracy                           0.15     94232\n",
      "   macro avg       0.01      0.01      0.01     94232\n",
      "weighted avg       0.06      0.15      0.07     94232\n",
      "\n"
     ]
    },
    {
     "name": "stderr",
     "output_type": "stream",
     "text": [
      "C:\\Python3\\lib\\site-packages\\sklearn\\metrics\\_classification.py:1334: UndefinedMetricWarning: Precision and F-score are ill-defined and being set to 0.0 in labels with no predicted samples. Use `zero_division` parameter to control this behavior.\n",
      "  _warn_prf(average, modifier, msg_start, len(result))\n",
      "C:\\Python3\\lib\\site-packages\\sklearn\\metrics\\_classification.py:1334: UndefinedMetricWarning: Precision and F-score are ill-defined and being set to 0.0 in labels with no predicted samples. Use `zero_division` parameter to control this behavior.\n",
      "  _warn_prf(average, modifier, msg_start, len(result))\n",
      "C:\\Python3\\lib\\site-packages\\sklearn\\metrics\\_classification.py:1334: UndefinedMetricWarning: Precision and F-score are ill-defined and being set to 0.0 in labels with no predicted samples. Use `zero_division` parameter to control this behavior.\n",
      "  _warn_prf(average, modifier, msg_start, len(result))\n"
     ]
    }
   ],
   "source": [
    "print(classification_report(y_test, forestPredictions))"
   ]
  },
  {
   "cell_type": "markdown",
   "id": "848690fc-f3da-4b56-b6be-0ca637b26c12",
   "metadata": {},
   "source": [
    "Still not much improvement "
   ]
  },
  {
   "cell_type": "markdown",
   "id": "b7ba7adf-ecc5-4255-93e9-4663820c4944",
   "metadata": {},
   "source": [
    "Feature Importance "
   ]
  },
  {
   "cell_type": "code",
   "execution_count": 171,
   "id": "8655ee4a-c8c1-47f2-afb0-da9c878b8303",
   "metadata": {},
   "outputs": [
    {
     "data": {
      "text/plain": [
       "lat             0.351147\n",
       "lng             0.640338\n",
       "encounter_ms    0.008515\n",
       "dtype: float64"
      ]
     },
     "execution_count": 171,
     "metadata": {},
     "output_type": "execute_result"
    }
   ],
   "source": [
    "feature_importances = pd.Series(forest.feature_importances_, index=x.columns)\n",
    "feature_importances"
   ]
  },
  {
   "cell_type": "code",
   "execution_count": 172,
   "id": "fca65c14-1a1c-429d-ab2a-683514fc15d3",
   "metadata": {},
   "outputs": [
    {
     "name": "stdout",
     "output_type": "stream",
     "text": [
      "lng             0.640338\n",
      "lat             0.351147\n",
      "encounter_ms    0.008515\n",
      "dtype: float64\n"
     ]
    }
   ],
   "source": [
    "#Put them in order \n",
    "feature_importances.sort_values(inplace=True, ascending=False)\n",
    "print(feature_importances)"
   ]
  },
  {
   "cell_type": "code",
   "execution_count": 173,
   "id": "3c69ba75-cfb9-4084-b78c-7eb5d720d971",
   "metadata": {},
   "outputs": [
    {
     "data": {
      "text/plain": [
       "<AxesSubplot:>"
      ]
     },
     "execution_count": 173,
     "metadata": {},
     "output_type": "execute_result"
    },
    {
     "data": {
      "image/png": "[encoded data removed]",
      "text/plain": [
       "<Figure size 504x4824 with 1 Axes>"
      ]
     },
     "metadata": {
      "needs_background": "light"
     },
     "output_type": "display_data"
    }
   ],
   "source": [
    "#Bar graph\n",
    "feature_importances.plot(kind='barh', figsize=(7, 67))"
   ]
  },
  {
   "cell_type": "code",
   "execution_count": null,
   "id": "56d438ed-1b24-42df-a1be-75ab1eaa885f",
   "metadata": {},
   "outputs": [],
   "source": []
  }
 ],
 "metadata": {
  "kernelspec": {
   "display_name": "Python 3 (ipykernel)",
   "language": "python",
   "name": "python3"
  },
  "language_info": {
   "codemirror_mode": {
    "name": "ipython",
    "version": 3
   },
   "file_extension": ".py",
   "mimetype": "text/x-python",
   "name": "python",
   "nbconvert_exporter": "python",
   "pygments_lexer": "ipython3",
   "version": "3.10.4"
  }
 },
 "nbformat": 4,
 "nbformat_minor": 5
}

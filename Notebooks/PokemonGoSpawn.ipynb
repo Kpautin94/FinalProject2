{
 "cells": [
  {
   "cell_type": "markdown",
   "id": "e87b2f59-0bf5-4cd8-b6bb-ebee83152aac",
   "metadata": {},
   "source": [
    "Supervised Machine Learning Model "
   ]
  },
  {
   "cell_type": "code",
   "execution_count": 1,
   "id": "62691176-1314-4b0f-b302-a7d2a009f525",
   "metadata": {},
   "outputs": [],
   "source": [
    "import pandas as pd \n",
    "from sklearn.linear_model import LinearRegression\n",
    "from sklearn.model_selection import train_test_split\n",
    "import matplotlib.pyplot as plt \n",
    "%matplotlib inline \n",
    "from sklearn import metrics\n",
    "import numpy as np "
   ]
  },
  {
   "cell_type": "code",
   "execution_count": 3,
   "id": "c41d2e79-5b6d-4852-9f3c-993516e70416",
   "metadata": {},
   "outputs": [
    {
     "data": {
      "text/html": [
       "<div>\n",
       "<style scoped>\n",
       "    .dataframe tbody tr th:only-of-type {\n",
       "        vertical-align: middle;\n",
       "    }\n",
       "\n",
       "    .dataframe tbody tr th {\n",
       "        vertical-align: top;\n",
       "    }\n",
       "\n",
       "    .dataframe thead th {\n",
       "        text-align: right;\n",
       "    }\n",
       "</style>\n",
       "<table border=\"1\" class=\"dataframe\">\n",
       "  <thead>\n",
       "    <tr style=\"text-align: right;\">\n",
       "      <th></th>\n",
       "      <th>s2_id</th>\n",
       "      <th>s2_token</th>\n",
       "      <th>num</th>\n",
       "      <th>name</th>\n",
       "      <th>lat</th>\n",
       "      <th>lng</th>\n",
       "      <th>encounter_ms</th>\n",
       "      <th>disppear_ms</th>\n",
       "    </tr>\n",
       "  </thead>\n",
       "  <tbody>\n",
       "    <tr>\n",
       "      <th>0</th>\n",
       "      <td>-9185794522947256000</td>\n",
       "      <td>8085808cc6d</td>\n",
       "      <td>13</td>\n",
       "      <td>Weedle</td>\n",
       "      <td>37.793592</td>\n",
       "      <td>-122.408721</td>\n",
       "      <td>1469520187732</td>\n",
       "      <td>1469519919988</td>\n",
       "    </tr>\n",
       "    <tr>\n",
       "      <th>1</th>\n",
       "      <td>-9185794529389707000</td>\n",
       "      <td>8085808b51d</td>\n",
       "      <td>16</td>\n",
       "      <td>Pidgey</td>\n",
       "      <td>37.794746</td>\n",
       "      <td>-122.406420</td>\n",
       "      <td>1469520297172</td>\n",
       "      <td>1469519919992</td>\n",
       "    </tr>\n",
       "    <tr>\n",
       "      <th>2</th>\n",
       "      <td>-9185794529389707000</td>\n",
       "      <td>8085808b271</td>\n",
       "      <td>41</td>\n",
       "      <td>Zubat</td>\n",
       "      <td>37.794999</td>\n",
       "      <td>-122.404384</td>\n",
       "      <td>1469520709924</td>\n",
       "      <td>1469519919991</td>\n",
       "    </tr>\n",
       "    <tr>\n",
       "      <th>3</th>\n",
       "      <td>-9185794082713108000</td>\n",
       "      <td>808580f3587</td>\n",
       "      <td>16</td>\n",
       "      <td>Pidgey</td>\n",
       "      <td>37.795644</td>\n",
       "      <td>-122.407128</td>\n",
       "      <td>-1</td>\n",
       "      <td>1469519920134</td>\n",
       "    </tr>\n",
       "    <tr>\n",
       "      <th>4</th>\n",
       "      <td>-9185794076270658000</td>\n",
       "      <td>808580f4b1d</td>\n",
       "      <td>60</td>\n",
       "      <td>Poliwag</td>\n",
       "      <td>37.795592</td>\n",
       "      <td>-122.406331</td>\n",
       "      <td>1469520741876</td>\n",
       "      <td>1469519920153</td>\n",
       "    </tr>\n",
       "    <tr>\n",
       "      <th>...</th>\n",
       "      <td>...</td>\n",
       "      <td>...</td>\n",
       "      <td>...</td>\n",
       "      <td>...</td>\n",
       "      <td>...</td>\n",
       "      <td>...</td>\n",
       "      <td>...</td>\n",
       "      <td>...</td>\n",
       "    </tr>\n",
       "    <tr>\n",
       "      <th>314100</th>\n",
       "      <td>-9185787356794323000</td>\n",
       "      <td>8085871158f</td>\n",
       "      <td>84</td>\n",
       "      <td>Doduo</td>\n",
       "      <td>37.778626</td>\n",
       "      <td>-122.475958</td>\n",
       "      <td>1469670899836</td>\n",
       "      <td>1469670453557</td>\n",
       "    </tr>\n",
       "    <tr>\n",
       "      <th>314101</th>\n",
       "      <td>-9185786935887528000</td>\n",
       "      <td>80858773019</td>\n",
       "      <td>56</td>\n",
       "      <td>Mankey</td>\n",
       "      <td>37.769260</td>\n",
       "      <td>-122.483652</td>\n",
       "      <td>1469671114084</td>\n",
       "      <td>1469670453557</td>\n",
       "    </tr>\n",
       "    <tr>\n",
       "      <th>314102</th>\n",
       "      <td>-9185786940182495000</td>\n",
       "      <td>80858772545</td>\n",
       "      <td>29</td>\n",
       "      <td>Nidoran (f)</td>\n",
       "      <td>37.768922</td>\n",
       "      <td>-122.483298</td>\n",
       "      <td>1469670572436</td>\n",
       "      <td>1469670453557</td>\n",
       "    </tr>\n",
       "    <tr>\n",
       "      <th>314103</th>\n",
       "      <td>-9185787373974192000</td>\n",
       "      <td>8085870d1db</td>\n",
       "      <td>10</td>\n",
       "      <td>Caterpie</td>\n",
       "      <td>37.773062</td>\n",
       "      <td>-122.483387</td>\n",
       "      <td>1469671257676</td>\n",
       "      <td>1469670453556</td>\n",
       "    </tr>\n",
       "    <tr>\n",
       "      <th>314104</th>\n",
       "      <td>-9185786976689717000</td>\n",
       "      <td>80858769d49</td>\n",
       "      <td>79</td>\n",
       "      <td>Slowpoke</td>\n",
       "      <td>37.768654</td>\n",
       "      <td>-122.469678</td>\n",
       "      <td>1469671286340</td>\n",
       "      <td>1469670453557</td>\n",
       "    </tr>\n",
       "  </tbody>\n",
       "</table>\n",
       "<p>314105 rows × 8 columns</p>\n",
       "</div>"
      ],
      "text/plain": [
       "                      s2_id     s2_token  num         name        lat  \\\n",
       "0      -9185794522947256000  8085808cc6d   13       Weedle  37.793592   \n",
       "1      -9185794529389707000  8085808b51d   16       Pidgey  37.794746   \n",
       "2      -9185794529389707000  8085808b271   41        Zubat  37.794999   \n",
       "3      -9185794082713108000  808580f3587   16       Pidgey  37.795644   \n",
       "4      -9185794076270658000  808580f4b1d   60      Poliwag  37.795592   \n",
       "...                     ...          ...  ...          ...        ...   \n",
       "314100 -9185787356794323000  8085871158f   84        Doduo  37.778626   \n",
       "314101 -9185786935887528000  80858773019   56       Mankey  37.769260   \n",
       "314102 -9185786940182495000  80858772545   29  Nidoran (f)  37.768922   \n",
       "314103 -9185787373974192000  8085870d1db   10     Caterpie  37.773062   \n",
       "314104 -9185786976689717000  80858769d49   79     Slowpoke  37.768654   \n",
       "\n",
       "               lng   encounter_ms    disppear_ms  \n",
       "0      -122.408721  1469520187732  1469519919988  \n",
       "1      -122.406420  1469520297172  1469519919992  \n",
       "2      -122.404384  1469520709924  1469519919991  \n",
       "3      -122.407128             -1  1469519920134  \n",
       "4      -122.406331  1469520741876  1469519920153  \n",
       "...            ...            ...            ...  \n",
       "314100 -122.475958  1469670899836  1469670453557  \n",
       "314101 -122.483652  1469671114084  1469670453557  \n",
       "314102 -122.483298  1469670572436  1469670453557  \n",
       "314103 -122.483387  1469671257676  1469670453556  \n",
       "314104 -122.469678  1469671286340  1469670453557  \n",
       "\n",
       "[314105 rows x 8 columns]"
      ]
     },
     "execution_count": 3,
     "metadata": {},
     "output_type": "execute_result"
    }
   ],
   "source": [
    "Spawns = pd.read_csv(\"../Data/pokemon-spawns.csv\")\n",
    "Spawns"
   ]
  },
  {
   "cell_type": "code",
   "execution_count": 10,
   "id": "1c5ba18d-2972-4b02-9b6a-128ae4e7aa2e",
   "metadata": {},
   "outputs": [],
   "source": [
    "SpawnsCut= Spawns.drop(['name','s2_id', 's2_token', ], axis=1)"
   ]
  },
  {
   "cell_type": "code",
   "execution_count": 11,
   "id": "312329c1-cd1a-404d-9ec1-702f000d9d3d",
   "metadata": {},
   "outputs": [],
   "source": [
    "x = SpawnsCut[[ 'num', 'lng', 'disppear_ms']]\n",
    "y = SpawnsCut['encounter_ms']"
   ]
  },
  {
   "cell_type": "code",
   "execution_count": 12,
   "id": "707f6cc1-80ee-4345-ba59-a61f6ee78146",
   "metadata": {},
   "outputs": [
    {
     "name": "stdout",
     "output_type": "stream",
     "text": [
      "(188463, 3) (188463,)\n",
      "(125642, 3) (125642,)\n"
     ]
    }
   ],
   "source": [
    "x_train, x_test, y_train, y_test = train_test_split(x,y, test_size = .4, random_state=101)\n",
    "print(x_train.shape, y_train.shape)\n",
    "print(x_test.shape, y_test.shape)"
   ]
  },
  {
   "cell_type": "markdown",
   "id": "3d5a4033-0eb5-4e15-97a1-4c5b174ddffd",
   "metadata": {},
   "source": [
    "The x_train datasets, the 188463 rows and 3 columns/ The x_test datasets, the 125642 rows and 3 columns"
   ]
  },
  {
   "cell_type": "code",
   "execution_count": 13,
   "id": "713a5db8-e231-464a-b585-c715b910f92e",
   "metadata": {},
   "outputs": [
    {
     "data": {
      "text/html": [
       "<style>#sk-container-id-1 {color: black;background-color: white;}#sk-container-id-1 pre{padding: 0;}#sk-container-id-1 div.sk-toggleable {background-color: white;}#sk-container-id-1 label.sk-toggleable__label {cursor: pointer;display: block;width: 100%;margin-bottom: 0;padding: 0.3em;box-sizing: border-box;text-align: center;}#sk-container-id-1 label.sk-toggleable__label-arrow:before {content: \"▸\";float: left;margin-right: 0.25em;color: #696969;}#sk-container-id-1 label.sk-toggleable__label-arrow:hover:before {color: black;}#sk-container-id-1 div.sk-estimator:hover label.sk-toggleable__label-arrow:before {color: black;}#sk-container-id-1 div.sk-toggleable__content {max-height: 0;max-width: 0;overflow: hidden;text-align: left;background-color: #f0f8ff;}#sk-container-id-1 div.sk-toggleable__content pre {margin: 0.2em;color: black;border-radius: 0.25em;background-color: #f0f8ff;}#sk-container-id-1 input.sk-toggleable__control:checked~div.sk-toggleable__content {max-height: 200px;max-width: 100%;overflow: auto;}#sk-container-id-1 input.sk-toggleable__control:checked~label.sk-toggleable__label-arrow:before {content: \"▾\";}#sk-container-id-1 div.sk-estimator input.sk-toggleable__control:checked~label.sk-toggleable__label {background-color: #d4ebff;}#sk-container-id-1 div.sk-label input.sk-toggleable__control:checked~label.sk-toggleable__label {background-color: #d4ebff;}#sk-container-id-1 input.sk-hidden--visually {border: 0;clip: rect(1px 1px 1px 1px);clip: rect(1px, 1px, 1px, 1px);height: 1px;margin: -1px;overflow: hidden;padding: 0;position: absolute;width: 1px;}#sk-container-id-1 div.sk-estimator {font-family: monospace;background-color: #f0f8ff;border: 1px dotted black;border-radius: 0.25em;box-sizing: border-box;margin-bottom: 0.5em;}#sk-container-id-1 div.sk-estimator:hover {background-color: #d4ebff;}#sk-container-id-1 div.sk-parallel-item::after {content: \"\";width: 100%;border-bottom: 1px solid gray;flex-grow: 1;}#sk-container-id-1 div.sk-label:hover label.sk-toggleable__label {background-color: #d4ebff;}#sk-container-id-1 div.sk-serial::before {content: \"\";position: absolute;border-left: 1px solid gray;box-sizing: border-box;top: 0;bottom: 0;left: 50%;z-index: 0;}#sk-container-id-1 div.sk-serial {display: flex;flex-direction: column;align-items: center;background-color: white;padding-right: 0.2em;padding-left: 0.2em;position: relative;}#sk-container-id-1 div.sk-item {position: relative;z-index: 1;}#sk-container-id-1 div.sk-parallel {display: flex;align-items: stretch;justify-content: center;background-color: white;position: relative;}#sk-container-id-1 div.sk-item::before, #sk-container-id-1 div.sk-parallel-item::before {content: \"\";position: absolute;border-left: 1px solid gray;box-sizing: border-box;top: 0;bottom: 0;left: 50%;z-index: -1;}#sk-container-id-1 div.sk-parallel-item {display: flex;flex-direction: column;z-index: 1;position: relative;background-color: white;}#sk-container-id-1 div.sk-parallel-item:first-child::after {align-self: flex-end;width: 50%;}#sk-container-id-1 div.sk-parallel-item:last-child::after {align-self: flex-start;width: 50%;}#sk-container-id-1 div.sk-parallel-item:only-child::after {width: 0;}#sk-container-id-1 div.sk-dashed-wrapped {border: 1px dashed gray;margin: 0 0.4em 0.5em 0.4em;box-sizing: border-box;padding-bottom: 0.4em;background-color: white;}#sk-container-id-1 div.sk-label label {font-family: monospace;font-weight: bold;display: inline-block;line-height: 1.2em;}#sk-container-id-1 div.sk-label-container {text-align: center;}#sk-container-id-1 div.sk-container {/* jupyter's `normalize.less` sets `[hidden] { display: none; }` but bootstrap.min.css set `[hidden] { display: none !important; }` so we also need the `!important` here to be able to override the default hidden behavior on the sphinx rendered scikit-learn.org. See: https://github.com/scikit-learn/scikit-learn/issues/21755 */display: inline-block !important;position: relative;}#sk-container-id-1 div.sk-text-repr-fallback {display: none;}</style><div id=\"sk-container-id-1\" class=\"sk-top-container\"><div class=\"sk-text-repr-fallback\"><pre>LinearRegression()</pre><b>In a Jupyter environment, please rerun this cell to show the HTML representation or trust the notebook. <br />On GitHub, the HTML representation is unable to render, please try loading this page with nbviewer.org.</b></div><div class=\"sk-container\" hidden><div class=\"sk-item\"><div class=\"sk-estimator sk-toggleable\"><input class=\"sk-toggleable__control sk-hidden--visually\" id=\"sk-estimator-id-1\" type=\"checkbox\" checked><label for=\"sk-estimator-id-1\" class=\"sk-toggleable__label sk-toggleable__label-arrow\">LinearRegression</label><div class=\"sk-toggleable__content\"><pre>LinearRegression()</pre></div></div></div></div></div>"
      ],
      "text/plain": [
       "LinearRegression()"
      ]
     },
     "execution_count": 13,
     "metadata": {},
     "output_type": "execute_result"
    }
   ],
   "source": [
    "lm = LinearRegression()\n",
    "lm.fit(x_train, y_train)"
   ]
  },
  {
   "cell_type": "code",
   "execution_count": 14,
   "id": "45b87810-9f8e-4d98-ba56-d240e3b778ef",
   "metadata": {},
   "outputs": [
    {
     "data": {
      "text/plain": [
       "array([1.36824693e+12, 1.40199235e+12, 1.36418858e+12, ...,\n",
       "       1.36964446e+12, 1.36734325e+12, 1.36963354e+12])"
      ]
     },
     "execution_count": 14,
     "metadata": {},
     "output_type": "execute_result"
    }
   ],
   "source": [
    "predictions = lm.predict(x_test)\n",
    "predictions"
   ]
  },
  {
   "cell_type": "code",
   "execution_count": 15,
   "id": "5da3158d-48e2-4d86-8b26-5a1afc462bfe",
   "metadata": {},
   "outputs": [
    {
     "data": {
      "text/plain": [
       "<matplotlib.collections.PathCollection at 0x26abab051b0>"
      ]
     },
     "execution_count": 15,
     "metadata": {},
     "output_type": "execute_result"
    },
    {
     "data": {
      "image/png": "[encoded data removed]",
      "text/plain": [
       "<Figure size 432x288 with 1 Axes>"
      ]
     },
     "metadata": {
      "needs_background": "light"
     },
     "output_type": "display_data"
    }
   ],
   "source": [
    "plt.scatter(y_test, predictions)"
   ]
  },
  {
   "cell_type": "code",
   "execution_count": 16,
   "id": "ea89cc84-3bb6-49dc-b8ba-e07bef8fa820",
   "metadata": {},
   "outputs": [
    {
     "name": "stdout",
     "output_type": "stream",
     "text": [
      "Score: 0.0008971889032032276\n"
     ]
    }
   ],
   "source": [
    "print(\"Score:\", lm.score(x_test, y_test))"
   ]
  },
  {
   "cell_type": "code",
   "execution_count": 17,
   "id": "ab3a6e7f-2c24-4e93-98ff-2a896b46060c",
   "metadata": {},
   "outputs": [
    {
     "data": {
      "text/plain": [
       "182821032629.38943"
      ]
     },
     "execution_count": 17,
     "metadata": {},
     "output_type": "execute_result"
    }
   ],
   "source": [
    "metrics.mean_absolute_error(y_test, predictions)"
   ]
  },
  {
   "cell_type": "code",
   "execution_count": 18,
   "id": "bbe6c363-4093-469d-805f-672c153161cd",
   "metadata": {},
   "outputs": [
    {
     "data": {
      "text/plain": [
       "1.3371534173711195e+23"
      ]
     },
     "execution_count": 18,
     "metadata": {},
     "output_type": "execute_result"
    }
   ],
   "source": [
    "metrics.mean_squared_error(y_test, predictions)"
   ]
  },
  {
   "cell_type": "code",
   "execution_count": 19,
   "id": "c36b1e56-9e9e-4692-a8a6-df0dc877d186",
   "metadata": {},
   "outputs": [
    {
     "data": {
      "text/plain": [
       "365671084086.6583"
      ]
     },
     "execution_count": 19,
     "metadata": {},
     "output_type": "execute_result"
    }
   ],
   "source": [
    "np.sqrt(metrics.mean_squared_error(y_test, predictions))"
   ]
  },
  {
   "cell_type": "markdown",
   "id": "c216dedb-53f1-4a2b-a2e2-3d9862a5cb63",
   "metadata": {},
   "source": [
    "K-Fold Cross Validation "
   ]
  },
  {
   "cell_type": "code",
   "execution_count": 20,
   "id": "5f4d849b-2b0d-42d6-a579-0713635e0684",
   "metadata": {},
   "outputs": [],
   "source": [
    "from sklearn.model_selection import KFold\n",
    "from sklearn.model_selection import cross_val_score"
   ]
  },
  {
   "cell_type": "code",
   "execution_count": 22,
   "id": "90a982ad-2470-4e2a-baaa-71a36310bb49",
   "metadata": {},
   "outputs": [
    {
     "name": "stdout",
     "output_type": "stream",
     "text": [
      "train: [ 62821  62822  62823 ... 314102 314103 314104], test: [    0     1     2 ... 62818 62819 62820]\n",
      "train: [     0      1      2 ... 314102 314103 314104], test: [ 62821  62822  62823 ... 125639 125640 125641]\n",
      "train: [     0      1      2 ... 314102 314103 314104], test: [125642 125643 125644 ... 188460 188461 188462]\n",
      "train: [     0      1      2 ... 314102 314103 314104], test: [188463 188464 188465 ... 251281 251282 251283]\n",
      "train: [     0      1      2 ... 251281 251282 251283], test: [251284 251285 251286 ... 314102 314103 314104]\n"
     ]
    }
   ],
   "source": [
    "kfold =KFold()\n",
    "for train, test in kfold.split(x,y):\n",
    "    print('train: %s, test: %s' % (train,test))"
   ]
  },
  {
   "cell_type": "code",
   "execution_count": 23,
   "id": "030c8bec-8ba4-4d1f-bf16-5ce29955e2f6",
   "metadata": {},
   "outputs": [
    {
     "name": "stdout",
     "output_type": "stream",
     "text": [
      "[-0.00024388 -0.00124701 -0.15268383]\n"
     ]
    }
   ],
   "source": [
    "print(cross_val_score(lm, x,y, cv=3))"
   ]
  },
  {
   "cell_type": "code",
   "execution_count": null,
   "id": "fcb91e1a-cfbe-485d-b04d-8f49ebd30c2f",
   "metadata": {},
   "outputs": [],
   "source": []
  }
 ],
 "metadata": {
  "kernelspec": {
   "display_name": "Python 3 (ipykernel)",
   "language": "python",
   "name": "python3"
  },
  "language_info": {
   "codemirror_mode": {
    "name": "ipython",
    "version": 3
   },
   "file_extension": ".py",
   "mimetype": "text/x-python",
   "name": "python",
   "nbconvert_exporter": "python",
   "pygments_lexer": "ipython3",
   "version": "3.10.4"
  }
 },
 "nbformat": 4,
 "nbformat_minor": 5
}

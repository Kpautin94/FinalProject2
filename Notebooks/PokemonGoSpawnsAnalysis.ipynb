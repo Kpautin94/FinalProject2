{
 "cells": [
  {
   "cell_type": "markdown",
   "id": "3bf11fcb-2778-4613-894d-ad996781a01f",
   "metadata": {},
   "source": [
    "Single Sample T-Test"
   ]
  },
  {
   "cell_type": "code",
   "execution_count": 1,
   "id": "df18dbf8-7338-47c7-8b80-6377b1e07126",
   "metadata": {},
   "outputs": [],
   "source": [
    "#Import Packages \n",
    "import pandas as pd \n",
    "import numpy as np \n",
    "from scipy.stats import norm\n",
    "from scipy import stats "
   ]
  },
  {
   "cell_type": "code",
   "execution_count": 2,
   "id": "e590eadf-e0cd-40d6-b7a7-1439743d6f6a",
   "metadata": {},
   "outputs": [
    {
     "data": {
      "text/html": [
       "<div>\n",
       "<style scoped>\n",
       "    .dataframe tbody tr th:only-of-type {\n",
       "        vertical-align: middle;\n",
       "    }\n",
       "\n",
       "    .dataframe tbody tr th {\n",
       "        vertical-align: top;\n",
       "    }\n",
       "\n",
       "    .dataframe thead th {\n",
       "        text-align: right;\n",
       "    }\n",
       "</style>\n",
       "<table border=\"1\" class=\"dataframe\">\n",
       "  <thead>\n",
       "    <tr style=\"text-align: right;\">\n",
       "      <th></th>\n",
       "      <th>s2_id</th>\n",
       "      <th>s2_token</th>\n",
       "      <th>num</th>\n",
       "      <th>name</th>\n",
       "      <th>lat</th>\n",
       "      <th>lng</th>\n",
       "      <th>encounter_ms</th>\n",
       "      <th>disppear_ms</th>\n",
       "    </tr>\n",
       "  </thead>\n",
       "  <tbody>\n",
       "    <tr>\n",
       "      <th>0</th>\n",
       "      <td>-9.182900e+18</td>\n",
       "      <td>808fca40de3</td>\n",
       "      <td>1</td>\n",
       "      <td>Bulbasaur</td>\n",
       "      <td>37.352721</td>\n",
       "      <td>-121.965752</td>\n",
       "      <td>1.469520e+12</td>\n",
       "      <td>1.469520e+12</td>\n",
       "    </tr>\n",
       "    <tr>\n",
       "      <th>1</th>\n",
       "      <td>-9.182930e+18</td>\n",
       "      <td>808fb000163</td>\n",
       "      <td>1</td>\n",
       "      <td>Bulbasaur</td>\n",
       "      <td>37.386986</td>\n",
       "      <td>-122.173674</td>\n",
       "      <td>-1.000000e+00</td>\n",
       "      <td>1.469520e+12</td>\n",
       "    </tr>\n",
       "    <tr>\n",
       "      <th>2</th>\n",
       "      <td>-9.182910e+18</td>\n",
       "      <td>808fbfb5ca1</td>\n",
       "      <td>1</td>\n",
       "      <td>Bulbasaur</td>\n",
       "      <td>37.562587</td>\n",
       "      <td>-122.033979</td>\n",
       "      <td>1.469520e+12</td>\n",
       "      <td>1.469520e+12</td>\n",
       "    </tr>\n",
       "    <tr>\n",
       "      <th>3</th>\n",
       "      <td>-9.182960e+18</td>\n",
       "      <td>808f95fd6c5</td>\n",
       "      <td>1</td>\n",
       "      <td>Bulbasaur</td>\n",
       "      <td>37.577153</td>\n",
       "      <td>-122.082546</td>\n",
       "      <td>1.469520e+12</td>\n",
       "      <td>1.469520e+12</td>\n",
       "    </tr>\n",
       "    <tr>\n",
       "      <th>4</th>\n",
       "      <td>-9.182980e+18</td>\n",
       "      <td>808f7c2eb87</td>\n",
       "      <td>1</td>\n",
       "      <td>Bulbasaur</td>\n",
       "      <td>37.717652</td>\n",
       "      <td>-122.453226</td>\n",
       "      <td>1.469520e+12</td>\n",
       "      <td>1.469520e+12</td>\n",
       "    </tr>\n",
       "    <tr>\n",
       "      <th>...</th>\n",
       "      <td>...</td>\n",
       "      <td>...</td>\n",
       "      <td>...</td>\n",
       "      <td>...</td>\n",
       "      <td>...</td>\n",
       "      <td>...</td>\n",
       "      <td>...</td>\n",
       "      <td>...</td>\n",
       "    </tr>\n",
       "    <tr>\n",
       "      <th>314100</th>\n",
       "      <td>-9.185790e+18</td>\n",
       "      <td>8085845142b</td>\n",
       "      <td>148</td>\n",
       "      <td>Dragonair</td>\n",
       "      <td>37.860065</td>\n",
       "      <td>-122.485598</td>\n",
       "      <td>1.469560e+12</td>\n",
       "      <td>1.469560e+12</td>\n",
       "    </tr>\n",
       "    <tr>\n",
       "      <th>314101</th>\n",
       "      <td>-9.185790e+18</td>\n",
       "      <td>808580e0793</td>\n",
       "      <td>148</td>\n",
       "      <td>Dragonair</td>\n",
       "      <td>37.806800</td>\n",
       "      <td>-122.423853</td>\n",
       "      <td>1.469570e+12</td>\n",
       "      <td>1.469570e+12</td>\n",
       "    </tr>\n",
       "    <tr>\n",
       "      <th>314102</th>\n",
       "      <td>-9.185790e+18</td>\n",
       "      <td>808580e0793</td>\n",
       "      <td>148</td>\n",
       "      <td>Dragonair</td>\n",
       "      <td>37.806800</td>\n",
       "      <td>-122.423853</td>\n",
       "      <td>1.469570e+12</td>\n",
       "      <td>1.469570e+12</td>\n",
       "    </tr>\n",
       "    <tr>\n",
       "      <th>314103</th>\n",
       "      <td>-9.185790e+18</td>\n",
       "      <td>808580e0793</td>\n",
       "      <td>148</td>\n",
       "      <td>Dragonair</td>\n",
       "      <td>37.806800</td>\n",
       "      <td>-122.423853</td>\n",
       "      <td>1.469570e+12</td>\n",
       "      <td>1.469570e+12</td>\n",
       "    </tr>\n",
       "    <tr>\n",
       "      <th>314104</th>\n",
       "      <td>-9.185790e+18</td>\n",
       "      <td>808580e0793</td>\n",
       "      <td>148</td>\n",
       "      <td>Dragonair</td>\n",
       "      <td>37.806800</td>\n",
       "      <td>-122.423853</td>\n",
       "      <td>1.469570e+12</td>\n",
       "      <td>1.469570e+12</td>\n",
       "    </tr>\n",
       "  </tbody>\n",
       "</table>\n",
       "<p>314105 rows × 8 columns</p>\n",
       "</div>"
      ],
      "text/plain": [
       "               s2_id     s2_token  num       name        lat         lng  \\\n",
       "0      -9.182900e+18  808fca40de3    1  Bulbasaur  37.352721 -121.965752   \n",
       "1      -9.182930e+18  808fb000163    1  Bulbasaur  37.386986 -122.173674   \n",
       "2      -9.182910e+18  808fbfb5ca1    1  Bulbasaur  37.562587 -122.033979   \n",
       "3      -9.182960e+18  808f95fd6c5    1  Bulbasaur  37.577153 -122.082546   \n",
       "4      -9.182980e+18  808f7c2eb87    1  Bulbasaur  37.717652 -122.453226   \n",
       "...              ...          ...  ...        ...        ...         ...   \n",
       "314100 -9.185790e+18  8085845142b  148  Dragonair  37.860065 -122.485598   \n",
       "314101 -9.185790e+18  808580e0793  148  Dragonair  37.806800 -122.423853   \n",
       "314102 -9.185790e+18  808580e0793  148  Dragonair  37.806800 -122.423853   \n",
       "314103 -9.185790e+18  808580e0793  148  Dragonair  37.806800 -122.423853   \n",
       "314104 -9.185790e+18  808580e0793  148  Dragonair  37.806800 -122.423853   \n",
       "\n",
       "        encounter_ms   disppear_ms  \n",
       "0       1.469520e+12  1.469520e+12  \n",
       "1      -1.000000e+00  1.469520e+12  \n",
       "2       1.469520e+12  1.469520e+12  \n",
       "3       1.469520e+12  1.469520e+12  \n",
       "4       1.469520e+12  1.469520e+12  \n",
       "...              ...           ...  \n",
       "314100  1.469560e+12  1.469560e+12  \n",
       "314101  1.469570e+12  1.469570e+12  \n",
       "314102  1.469570e+12  1.469570e+12  \n",
       "314103  1.469570e+12  1.469570e+12  \n",
       "314104  1.469570e+12  1.469570e+12  \n",
       "\n",
       "[314105 rows x 8 columns]"
      ]
     },
     "execution_count": 2,
     "metadata": {},
     "output_type": "execute_result"
    }
   ],
   "source": [
    "Spawns = pd.read_csv(\"../Data/pokemon-spawns.csv\")\n",
    "Spawns"
   ]
  },
  {
   "cell_type": "markdown",
   "id": "14192d53-cdfb-40eb-8cbb-4415b9233d6f",
   "metadata": {},
   "source": [
    "Single Sample T-test"
   ]
  },
  {
   "cell_type": "code",
   "execution_count": 3,
   "id": "1e0d11d8-9691-41dc-be24-822a0346a697",
   "metadata": {},
   "outputs": [
    {
     "data": {
      "text/plain": [
       "<AxesSubplot:>"
      ]
     },
     "execution_count": 3,
     "metadata": {},
     "output_type": "execute_result"
    },
    {
     "data": {
      "image/png": "[encoded data removed]",
      "text/plain": [
       "<Figure size 432x288 with 1 Axes>"
      ]
     },
     "metadata": {
      "needs_background": "light"
     },
     "output_type": "display_data"
    }
   ],
   "source": [
    "#Test for Normality\n",
    "Spawns['num'].hist()"
   ]
  },
  {
   "cell_type": "code",
   "execution_count": 4,
   "id": "f634dcc5-ec15-48d6-a96a-e49cd3623ce2",
   "metadata": {},
   "outputs": [
    {
     "data": {
      "text/plain": [
       "Ttest_1sampResult(statistic=101.44708121459537, pvalue=0.0)"
      ]
     },
     "execution_count": 4,
     "metadata": {},
     "output_type": "execute_result"
    }
   ],
   "source": [
    "stats.ttest_1samp(Spawns['num'],40)"
   ]
  },
  {
   "cell_type": "code",
   "execution_count": 5,
   "id": "aca983b1-e09c-432d-8224-ddde68ee2d70",
   "metadata": {},
   "outputs": [
    {
     "data": {
      "text/plain": [
       "46.54456949109374"
      ]
     },
     "execution_count": 5,
     "metadata": {},
     "output_type": "execute_result"
    }
   ],
   "source": [
    "#Check the population mean\n",
    "Spawns.num.mean()"
   ]
  },
  {
   "cell_type": "markdown",
   "id": "cd84ddfc-e407-46a6-ad31-9916bf53ad45",
   "metadata": {},
   "source": [
    "Independent T-Test"
   ]
  },
  {
   "cell_type": "code",
   "execution_count": 6,
   "id": "40adf690-03a7-499f-a514-0290fd89456f",
   "metadata": {},
   "outputs": [],
   "source": [
    "#Import packages \n",
    "from scipy.stats import ttest_ind"
   ]
  },
  {
   "cell_type": "code",
   "execution_count": 8,
   "id": "a3fe8fd6-509e-4430-b908-7d8699379c9a",
   "metadata": {},
   "outputs": [
    {
     "data": {
      "text/plain": [
       "<AxesSubplot:>"
      ]
     },
     "execution_count": 8,
     "metadata": {},
     "output_type": "execute_result"
    },
    {
     "data": {
      "image/png": "[encoded data removed]",
      "text/plain": [
       "<Figure size 432x288 with 1 Axes>"
      ]
     },
     "metadata": {
      "needs_background": "light"
     },
     "output_type": "display_data"
    }
   ],
   "source": [
    "Spawns.encounter_ms[Spawns.num == '1'].hist()\n",
    "Spawns.encounter_ms[Spawns.num == '148'].hist()"
   ]
  },
  {
   "cell_type": "markdown",
   "id": "922d647e-570a-4777-b5be-4899b0327442",
   "metadata": {},
   "source": [
    "Run the Analysis "
   ]
  },
  {
   "cell_type": "code",
   "execution_count": 9,
   "id": "231e0c11-5a31-4037-b6d3-9e908faa27a6",
   "metadata": {},
   "outputs": [
    {
     "data": {
      "text/plain": [
       "Ttest_indResult(statistic=nan, pvalue=nan)"
      ]
     },
     "execution_count": 9,
     "metadata": {},
     "output_type": "execute_result"
    }
   ],
   "source": [
    "ttest_ind(Spawns.num[Spawns.encounter_ms == '1'], Spawns.num[Spawns.encounter_ms == '148'])"
   ]
  },
  {
   "cell_type": "markdown",
   "id": "4aebc85c-3d03-478e-844d-8d04d44e8ee9",
   "metadata": {},
   "source": [
    "Dependent t-test"
   ]
  },
  {
   "cell_type": "code",
   "execution_count": 10,
   "id": "8f00512b-a209-4800-9aa8-c760338d66bf",
   "metadata": {},
   "outputs": [
    {
     "data": {
      "text/html": [
       "<div>\n",
       "<style scoped>\n",
       "    .dataframe tbody tr th:only-of-type {\n",
       "        vertical-align: middle;\n",
       "    }\n",
       "\n",
       "    .dataframe tbody tr th {\n",
       "        vertical-align: top;\n",
       "    }\n",
       "\n",
       "    .dataframe thead th {\n",
       "        text-align: right;\n",
       "    }\n",
       "</style>\n",
       "<table border=\"1\" class=\"dataframe\">\n",
       "  <thead>\n",
       "    <tr style=\"text-align: right;\">\n",
       "      <th></th>\n",
       "      <th>s2_id</th>\n",
       "      <th>s2_token</th>\n",
       "      <th>num</th>\n",
       "      <th>name</th>\n",
       "      <th>lat</th>\n",
       "      <th>lng</th>\n",
       "      <th>encounter_ms</th>\n",
       "      <th>disppear_ms</th>\n",
       "    </tr>\n",
       "  </thead>\n",
       "  <tbody>\n",
       "    <tr>\n",
       "      <th>0</th>\n",
       "      <td>-9.182900e+18</td>\n",
       "      <td>808fca40de3</td>\n",
       "      <td>1</td>\n",
       "      <td>Bulbasaur</td>\n",
       "      <td>37.352721</td>\n",
       "      <td>-121.965752</td>\n",
       "      <td>1.469520e+12</td>\n",
       "      <td>1.469520e+12</td>\n",
       "    </tr>\n",
       "    <tr>\n",
       "      <th>1</th>\n",
       "      <td>-9.182930e+18</td>\n",
       "      <td>808fb000163</td>\n",
       "      <td>1</td>\n",
       "      <td>Bulbasaur</td>\n",
       "      <td>37.386986</td>\n",
       "      <td>-122.173674</td>\n",
       "      <td>-1.000000e+00</td>\n",
       "      <td>1.469520e+12</td>\n",
       "    </tr>\n",
       "    <tr>\n",
       "      <th>2</th>\n",
       "      <td>-9.182910e+18</td>\n",
       "      <td>808fbfb5ca1</td>\n",
       "      <td>1</td>\n",
       "      <td>Bulbasaur</td>\n",
       "      <td>37.562587</td>\n",
       "      <td>-122.033979</td>\n",
       "      <td>1.469520e+12</td>\n",
       "      <td>1.469520e+12</td>\n",
       "    </tr>\n",
       "    <tr>\n",
       "      <th>3</th>\n",
       "      <td>-9.182960e+18</td>\n",
       "      <td>808f95fd6c5</td>\n",
       "      <td>1</td>\n",
       "      <td>Bulbasaur</td>\n",
       "      <td>37.577153</td>\n",
       "      <td>-122.082546</td>\n",
       "      <td>1.469520e+12</td>\n",
       "      <td>1.469520e+12</td>\n",
       "    </tr>\n",
       "    <tr>\n",
       "      <th>4</th>\n",
       "      <td>-9.182980e+18</td>\n",
       "      <td>808f7c2eb87</td>\n",
       "      <td>1</td>\n",
       "      <td>Bulbasaur</td>\n",
       "      <td>37.717652</td>\n",
       "      <td>-122.453226</td>\n",
       "      <td>1.469520e+12</td>\n",
       "      <td>1.469520e+12</td>\n",
       "    </tr>\n",
       "    <tr>\n",
       "      <th>...</th>\n",
       "      <td>...</td>\n",
       "      <td>...</td>\n",
       "      <td>...</td>\n",
       "      <td>...</td>\n",
       "      <td>...</td>\n",
       "      <td>...</td>\n",
       "      <td>...</td>\n",
       "      <td>...</td>\n",
       "    </tr>\n",
       "    <tr>\n",
       "      <th>314100</th>\n",
       "      <td>-9.185790e+18</td>\n",
       "      <td>8085845142b</td>\n",
       "      <td>148</td>\n",
       "      <td>Dragonair</td>\n",
       "      <td>37.860065</td>\n",
       "      <td>-122.485598</td>\n",
       "      <td>1.469560e+12</td>\n",
       "      <td>1.469560e+12</td>\n",
       "    </tr>\n",
       "    <tr>\n",
       "      <th>314101</th>\n",
       "      <td>-9.185790e+18</td>\n",
       "      <td>808580e0793</td>\n",
       "      <td>148</td>\n",
       "      <td>Dragonair</td>\n",
       "      <td>37.806800</td>\n",
       "      <td>-122.423853</td>\n",
       "      <td>1.469570e+12</td>\n",
       "      <td>1.469570e+12</td>\n",
       "    </tr>\n",
       "    <tr>\n",
       "      <th>314102</th>\n",
       "      <td>-9.185790e+18</td>\n",
       "      <td>808580e0793</td>\n",
       "      <td>148</td>\n",
       "      <td>Dragonair</td>\n",
       "      <td>37.806800</td>\n",
       "      <td>-122.423853</td>\n",
       "      <td>1.469570e+12</td>\n",
       "      <td>1.469570e+12</td>\n",
       "    </tr>\n",
       "    <tr>\n",
       "      <th>314103</th>\n",
       "      <td>-9.185790e+18</td>\n",
       "      <td>808580e0793</td>\n",
       "      <td>148</td>\n",
       "      <td>Dragonair</td>\n",
       "      <td>37.806800</td>\n",
       "      <td>-122.423853</td>\n",
       "      <td>1.469570e+12</td>\n",
       "      <td>1.469570e+12</td>\n",
       "    </tr>\n",
       "    <tr>\n",
       "      <th>314104</th>\n",
       "      <td>-9.185790e+18</td>\n",
       "      <td>808580e0793</td>\n",
       "      <td>148</td>\n",
       "      <td>Dragonair</td>\n",
       "      <td>37.806800</td>\n",
       "      <td>-122.423853</td>\n",
       "      <td>1.469570e+12</td>\n",
       "      <td>1.469570e+12</td>\n",
       "    </tr>\n",
       "  </tbody>\n",
       "</table>\n",
       "<p>314105 rows × 8 columns</p>\n",
       "</div>"
      ],
      "text/plain": [
       "               s2_id     s2_token  num       name        lat         lng  \\\n",
       "0      -9.182900e+18  808fca40de3    1  Bulbasaur  37.352721 -121.965752   \n",
       "1      -9.182930e+18  808fb000163    1  Bulbasaur  37.386986 -122.173674   \n",
       "2      -9.182910e+18  808fbfb5ca1    1  Bulbasaur  37.562587 -122.033979   \n",
       "3      -9.182960e+18  808f95fd6c5    1  Bulbasaur  37.577153 -122.082546   \n",
       "4      -9.182980e+18  808f7c2eb87    1  Bulbasaur  37.717652 -122.453226   \n",
       "...              ...          ...  ...        ...        ...         ...   \n",
       "314100 -9.185790e+18  8085845142b  148  Dragonair  37.860065 -122.485598   \n",
       "314101 -9.185790e+18  808580e0793  148  Dragonair  37.806800 -122.423853   \n",
       "314102 -9.185790e+18  808580e0793  148  Dragonair  37.806800 -122.423853   \n",
       "314103 -9.185790e+18  808580e0793  148  Dragonair  37.806800 -122.423853   \n",
       "314104 -9.185790e+18  808580e0793  148  Dragonair  37.806800 -122.423853   \n",
       "\n",
       "        encounter_ms   disppear_ms  \n",
       "0       1.469520e+12  1.469520e+12  \n",
       "1      -1.000000e+00  1.469520e+12  \n",
       "2       1.469520e+12  1.469520e+12  \n",
       "3       1.469520e+12  1.469520e+12  \n",
       "4       1.469520e+12  1.469520e+12  \n",
       "...              ...           ...  \n",
       "314100  1.469560e+12  1.469560e+12  \n",
       "314101  1.469570e+12  1.469570e+12  \n",
       "314102  1.469570e+12  1.469570e+12  \n",
       "314103  1.469570e+12  1.469570e+12  \n",
       "314104  1.469570e+12  1.469570e+12  \n",
       "\n",
       "[314105 rows x 8 columns]"
      ]
     },
     "execution_count": 10,
     "metadata": {},
     "output_type": "execute_result"
    }
   ],
   "source": [
    "Spawns"
   ]
  },
  {
   "cell_type": "markdown",
   "id": "29be414f-0045-4557-bb6d-3f5426956a33",
   "metadata": {},
   "source": [
    "Test Normality"
   ]
  },
  {
   "cell_type": "code",
   "execution_count": 11,
   "id": "9a688b0c-f556-402e-aa60-d0e2580b6039",
   "metadata": {},
   "outputs": [
    {
     "data": {
      "text/plain": [
       "<AxesSubplot:>"
      ]
     },
     "execution_count": 11,
     "metadata": {},
     "output_type": "execute_result"
    },
    {
     "data": {
      "image/png": "[encoded data removed]",
      "text/plain": [
       "<Figure size 432x288 with 1 Axes>"
      ]
     },
     "metadata": {
      "needs_background": "light"
     },
     "output_type": "display_data"
    }
   ],
   "source": [
    "Spawns['lat'].hist()"
   ]
  },
  {
   "cell_type": "code",
   "execution_count": 12,
   "id": "fc52ef01-45cd-431f-99d8-e4e415b9aa77",
   "metadata": {},
   "outputs": [
    {
     "data": {
      "text/plain": [
       "<AxesSubplot:>"
      ]
     },
     "execution_count": 12,
     "metadata": {},
     "output_type": "execute_result"
    },
    {
     "data": {
      "image/png": "[encoded data removed]",
      "text/plain": [
       "<Figure size 432x288 with 1 Axes>"
      ]
     },
     "metadata": {
      "needs_background": "light"
     },
     "output_type": "display_data"
    }
   ],
   "source": [
    "Spawns['lng'].hist()"
   ]
  },
  {
   "cell_type": "markdown",
   "id": "d4b02f18-1e7b-4d38-b424-790e120165a2",
   "metadata": {},
   "source": [
    "Dependent t-Test"
   ]
  },
  {
   "cell_type": "code",
   "execution_count": 13,
   "id": "a0d7d553-eece-4ec9-8dd0-04189dc3fe9c",
   "metadata": {},
   "outputs": [
    {
     "data": {
      "text/plain": [
       "Ttest_relResult(statistic=1007.7070840029477, pvalue=0.0)"
      ]
     },
     "execution_count": 13,
     "metadata": {},
     "output_type": "execute_result"
    }
   ],
   "source": [
    "stats.ttest_rel(Spawns['lat'], Spawns['lng'])"
   ]
  },
  {
   "cell_type": "markdown",
   "id": "b2cee683-b393-4d4a-9226-aa7a47401e8c",
   "metadata": {},
   "source": [
    "Independent Chi-Square "
   ]
  },
  {
   "cell_type": "code",
   "execution_count": 14,
   "id": "a5fdb0a5-5f68-4f64-99b5-d43895e67093",
   "metadata": {},
   "outputs": [],
   "source": [
    "Spawns_crosstab = pd.crosstab(Spawns['num'], Spawns ['encounter_ms'])"
   ]
  },
  {
   "cell_type": "code",
   "execution_count": 15,
   "id": "c4982e71-2b50-46c4-9277-3a01b5074a1a",
   "metadata": {},
   "outputs": [
    {
     "data": {
      "text/html": [
       "<div>\n",
       "<style scoped>\n",
       "    .dataframe tbody tr th:only-of-type {\n",
       "        vertical-align: middle;\n",
       "    }\n",
       "\n",
       "    .dataframe tbody tr th {\n",
       "        vertical-align: top;\n",
       "    }\n",
       "\n",
       "    .dataframe thead th {\n",
       "        text-align: right;\n",
       "    }\n",
       "</style>\n",
       "<table border=\"1\" class=\"dataframe\">\n",
       "  <thead>\n",
       "    <tr style=\"text-align: right;\">\n",
       "      <th>encounter_ms</th>\n",
       "      <th>-1.000000e+00</th>\n",
       "      <th>1.469520e+12</th>\n",
       "      <th>1.469530e+12</th>\n",
       "      <th>1.469540e+12</th>\n",
       "      <th>1.469550e+12</th>\n",
       "      <th>1.469560e+12</th>\n",
       "      <th>1.469570e+12</th>\n",
       "      <th>1.469580e+12</th>\n",
       "      <th>1.469610e+12</th>\n",
       "      <th>1.469650e+12</th>\n",
       "      <th>1.469670e+12</th>\n",
       "    </tr>\n",
       "    <tr>\n",
       "      <th>num</th>\n",
       "      <th></th>\n",
       "      <th></th>\n",
       "      <th></th>\n",
       "      <th></th>\n",
       "      <th></th>\n",
       "      <th></th>\n",
       "      <th></th>\n",
       "      <th></th>\n",
       "      <th></th>\n",
       "      <th></th>\n",
       "      <th></th>\n",
       "    </tr>\n",
       "  </thead>\n",
       "  <tbody>\n",
       "    <tr>\n",
       "      <th>1</th>\n",
       "      <td>120</td>\n",
       "      <td>4</td>\n",
       "      <td>692</td>\n",
       "      <td>246</td>\n",
       "      <td>398</td>\n",
       "      <td>601</td>\n",
       "      <td>213</td>\n",
       "      <td>4</td>\n",
       "      <td>4</td>\n",
       "      <td>40</td>\n",
       "      <td>2</td>\n",
       "    </tr>\n",
       "    <tr>\n",
       "      <th>2</th>\n",
       "      <td>11</td>\n",
       "      <td>1</td>\n",
       "      <td>29</td>\n",
       "      <td>7</td>\n",
       "      <td>11</td>\n",
       "      <td>19</td>\n",
       "      <td>8</td>\n",
       "      <td>0</td>\n",
       "      <td>0</td>\n",
       "      <td>2</td>\n",
       "      <td>0</td>\n",
       "    </tr>\n",
       "    <tr>\n",
       "      <th>3</th>\n",
       "      <td>0</td>\n",
       "      <td>0</td>\n",
       "      <td>2</td>\n",
       "      <td>0</td>\n",
       "      <td>8</td>\n",
       "      <td>4</td>\n",
       "      <td>0</td>\n",
       "      <td>0</td>\n",
       "      <td>0</td>\n",
       "      <td>0</td>\n",
       "      <td>0</td>\n",
       "    </tr>\n",
       "    <tr>\n",
       "      <th>4</th>\n",
       "      <td>35</td>\n",
       "      <td>7</td>\n",
       "      <td>78</td>\n",
       "      <td>44</td>\n",
       "      <td>235</td>\n",
       "      <td>83</td>\n",
       "      <td>25</td>\n",
       "      <td>4</td>\n",
       "      <td>0</td>\n",
       "      <td>10</td>\n",
       "      <td>0</td>\n",
       "    </tr>\n",
       "    <tr>\n",
       "      <th>5</th>\n",
       "      <td>0</td>\n",
       "      <td>0</td>\n",
       "      <td>7</td>\n",
       "      <td>4</td>\n",
       "      <td>9</td>\n",
       "      <td>6</td>\n",
       "      <td>0</td>\n",
       "      <td>0</td>\n",
       "      <td>0</td>\n",
       "      <td>3</td>\n",
       "      <td>0</td>\n",
       "    </tr>\n",
       "    <tr>\n",
       "      <th>...</th>\n",
       "      <td>...</td>\n",
       "      <td>...</td>\n",
       "      <td>...</td>\n",
       "      <td>...</td>\n",
       "      <td>...</td>\n",
       "      <td>...</td>\n",
       "      <td>...</td>\n",
       "      <td>...</td>\n",
       "      <td>...</td>\n",
       "      <td>...</td>\n",
       "      <td>...</td>\n",
       "    </tr>\n",
       "    <tr>\n",
       "      <th>140</th>\n",
       "      <td>5</td>\n",
       "      <td>4</td>\n",
       "      <td>31</td>\n",
       "      <td>18</td>\n",
       "      <td>131</td>\n",
       "      <td>27</td>\n",
       "      <td>6</td>\n",
       "      <td>3</td>\n",
       "      <td>0</td>\n",
       "      <td>0</td>\n",
       "      <td>0</td>\n",
       "    </tr>\n",
       "    <tr>\n",
       "      <th>142</th>\n",
       "      <td>11</td>\n",
       "      <td>0</td>\n",
       "      <td>13</td>\n",
       "      <td>2</td>\n",
       "      <td>7</td>\n",
       "      <td>7</td>\n",
       "      <td>0</td>\n",
       "      <td>0</td>\n",
       "      <td>0</td>\n",
       "      <td>0</td>\n",
       "      <td>0</td>\n",
       "    </tr>\n",
       "    <tr>\n",
       "      <th>143</th>\n",
       "      <td>0</td>\n",
       "      <td>0</td>\n",
       "      <td>0</td>\n",
       "      <td>0</td>\n",
       "      <td>11</td>\n",
       "      <td>3</td>\n",
       "      <td>2</td>\n",
       "      <td>0</td>\n",
       "      <td>3</td>\n",
       "      <td>0</td>\n",
       "      <td>0</td>\n",
       "    </tr>\n",
       "    <tr>\n",
       "      <th>147</th>\n",
       "      <td>39</td>\n",
       "      <td>4</td>\n",
       "      <td>112</td>\n",
       "      <td>53</td>\n",
       "      <td>135</td>\n",
       "      <td>306</td>\n",
       "      <td>64</td>\n",
       "      <td>0</td>\n",
       "      <td>0</td>\n",
       "      <td>25</td>\n",
       "      <td>0</td>\n",
       "    </tr>\n",
       "    <tr>\n",
       "      <th>148</th>\n",
       "      <td>0</td>\n",
       "      <td>0</td>\n",
       "      <td>2</td>\n",
       "      <td>0</td>\n",
       "      <td>4</td>\n",
       "      <td>12</td>\n",
       "      <td>4</td>\n",
       "      <td>0</td>\n",
       "      <td>0</td>\n",
       "      <td>0</td>\n",
       "      <td>0</td>\n",
       "    </tr>\n",
       "  </tbody>\n",
       "</table>\n",
       "<p>138 rows × 11 columns</p>\n",
       "</div>"
      ],
      "text/plain": [
       "encounter_ms  -1.000000e+00   1.469520e+12   1.469530e+12   1.469540e+12  \\\n",
       "num                                                                        \n",
       "1                       120              4            692            246   \n",
       "2                        11              1             29              7   \n",
       "3                         0              0              2              0   \n",
       "4                        35              7             78             44   \n",
       "5                         0              0              7              4   \n",
       "..                      ...            ...            ...            ...   \n",
       "140                       5              4             31             18   \n",
       "142                      11              0             13              2   \n",
       "143                       0              0              0              0   \n",
       "147                      39              4            112             53   \n",
       "148                       0              0              2              0   \n",
       "\n",
       "encounter_ms   1.469550e+12   1.469560e+12   1.469570e+12   1.469580e+12  \\\n",
       "num                                                                        \n",
       "1                       398            601            213              4   \n",
       "2                        11             19              8              0   \n",
       "3                         8              4              0              0   \n",
       "4                       235             83             25              4   \n",
       "5                         9              6              0              0   \n",
       "..                      ...            ...            ...            ...   \n",
       "140                     131             27              6              3   \n",
       "142                       7              7              0              0   \n",
       "143                      11              3              2              0   \n",
       "147                     135            306             64              0   \n",
       "148                       4             12              4              0   \n",
       "\n",
       "encounter_ms   1.469610e+12   1.469650e+12   1.469670e+12  \n",
       "num                                                        \n",
       "1                         4             40              2  \n",
       "2                         0              2              0  \n",
       "3                         0              0              0  \n",
       "4                         0             10              0  \n",
       "5                         0              3              0  \n",
       "..                      ...            ...            ...  \n",
       "140                       0              0              0  \n",
       "142                       0              0              0  \n",
       "143                       3              0              0  \n",
       "147                       0             25              0  \n",
       "148                       0              0              0  \n",
       "\n",
       "[138 rows x 11 columns]"
      ]
     },
     "execution_count": 15,
     "metadata": {},
     "output_type": "execute_result"
    }
   ],
   "source": [
    "Spawns_crosstab"
   ]
  },
  {
   "cell_type": "markdown",
   "id": "41b217fc-9d78-4f34-b54e-4d52ef2a9c40",
   "metadata": {},
   "source": [
    "Run the Independent Chi-Square "
   ]
  },
  {
   "cell_type": "code",
   "execution_count": 16,
   "id": "35a89679-d51a-4404-8f45-4bdb02508c08",
   "metadata": {},
   "outputs": [
    {
     "data": {
      "text/plain": [
       "(61457.06306651124,\n",
       " 0.0,\n",
       " 1370,\n",
       " array([[1.55138033e+02, 3.47891565e+01, 3.71760093e+02, ...,\n",
       "         5.32195667e+01, 3.60543513e+01, 2.55258592e+00],\n",
       "        [5.87441779e+00, 1.31731746e+00, 1.40769743e+01, ...,\n",
       "         2.01519874e+00, 1.36522500e+00, 9.66555770e-02],\n",
       "        [9.34566467e-01, 2.09573232e-01, 2.23951863e+00, ...,\n",
       "         3.20599799e-01, 2.17194887e-01, 1.53770236e-02],\n",
       "        ...,\n",
       "        [1.26834020e+00, 2.84420815e-01, 3.03934672e+00, ...,\n",
       "         4.35099728e-01, 2.94764490e-01, 2.08688178e-02],\n",
       "        [4.92650037e+01, 1.10475032e+01, 1.18054625e+02, ...,\n",
       "         1.69001894e+01, 1.14492733e+01, 8.10588816e-01],\n",
       "        [1.46860445e+00, 3.29329364e-01, 3.51924357e+00, ...,\n",
       "         5.03799685e-01, 3.41306251e-01, 2.41638942e-02]]))"
      ]
     },
     "execution_count": 16,
     "metadata": {},
     "output_type": "execute_result"
    }
   ],
   "source": [
    "stats.chi2_contingency(Spawns_crosstab)"
   ]
  },
  {
   "cell_type": "markdown",
   "id": "a5e09288-04b9-48c6-94c5-8718c34cdbd8",
   "metadata": {},
   "source": [
    "Correlation "
   ]
  },
  {
   "cell_type": "code",
   "execution_count": 17,
   "id": "889ec1b5-4621-44da-a111-2dca9736af7f",
   "metadata": {},
   "outputs": [],
   "source": [
    "#Import Packages \n",
    "import matplotlib.pyplot as plt \n",
    "import seaborn as sns"
   ]
  },
  {
   "cell_type": "code",
   "execution_count": 18,
   "id": "64dfb18d-796e-4420-90be-73c57b09967d",
   "metadata": {},
   "outputs": [
    {
     "data": {
      "text/plain": [
       "-0.009794949003695113"
      ]
     },
     "execution_count": 18,
     "metadata": {},
     "output_type": "execute_result"
    }
   ],
   "source": [
    "Spawns['num'].corr(Spawns['encounter_ms'])"
   ]
  },
  {
   "cell_type": "markdown",
   "id": "7516a551-b50c-4d6d-af78-c280d3ae505a",
   "metadata": {},
   "source": [
    "Create a Correlation Matrix"
   ]
  },
  {
   "cell_type": "code",
   "execution_count": 19,
   "id": "24591143-d8ee-4be7-ab73-33f1398c177e",
   "metadata": {},
   "outputs": [],
   "source": [
    "Spawns1 = Spawns.drop(['s2_id', 's2_token', 'name'], axis=1)"
   ]
  },
  {
   "cell_type": "code",
   "execution_count": 20,
   "id": "b7ecea8b-c64d-4729-8bd2-d9c2f101099e",
   "metadata": {},
   "outputs": [
    {
     "data": {
      "text/html": [
       "<div>\n",
       "<style scoped>\n",
       "    .dataframe tbody tr th:only-of-type {\n",
       "        vertical-align: middle;\n",
       "    }\n",
       "\n",
       "    .dataframe tbody tr th {\n",
       "        vertical-align: top;\n",
       "    }\n",
       "\n",
       "    .dataframe thead th {\n",
       "        text-align: right;\n",
       "    }\n",
       "</style>\n",
       "<table border=\"1\" class=\"dataframe\">\n",
       "  <thead>\n",
       "    <tr style=\"text-align: right;\">\n",
       "      <th></th>\n",
       "      <th>num</th>\n",
       "      <th>lat</th>\n",
       "      <th>lng</th>\n",
       "      <th>encounter_ms</th>\n",
       "      <th>disppear_ms</th>\n",
       "    </tr>\n",
       "  </thead>\n",
       "  <tbody>\n",
       "    <tr>\n",
       "      <th>0</th>\n",
       "      <td>1</td>\n",
       "      <td>37.352721</td>\n",
       "      <td>-121.965752</td>\n",
       "      <td>1.469520e+12</td>\n",
       "      <td>1.469520e+12</td>\n",
       "    </tr>\n",
       "    <tr>\n",
       "      <th>1</th>\n",
       "      <td>1</td>\n",
       "      <td>37.386986</td>\n",
       "      <td>-122.173674</td>\n",
       "      <td>-1.000000e+00</td>\n",
       "      <td>1.469520e+12</td>\n",
       "    </tr>\n",
       "    <tr>\n",
       "      <th>2</th>\n",
       "      <td>1</td>\n",
       "      <td>37.562587</td>\n",
       "      <td>-122.033979</td>\n",
       "      <td>1.469520e+12</td>\n",
       "      <td>1.469520e+12</td>\n",
       "    </tr>\n",
       "    <tr>\n",
       "      <th>3</th>\n",
       "      <td>1</td>\n",
       "      <td>37.577153</td>\n",
       "      <td>-122.082546</td>\n",
       "      <td>1.469520e+12</td>\n",
       "      <td>1.469520e+12</td>\n",
       "    </tr>\n",
       "    <tr>\n",
       "      <th>4</th>\n",
       "      <td>1</td>\n",
       "      <td>37.717652</td>\n",
       "      <td>-122.453226</td>\n",
       "      <td>1.469520e+12</td>\n",
       "      <td>1.469520e+12</td>\n",
       "    </tr>\n",
       "    <tr>\n",
       "      <th>...</th>\n",
       "      <td>...</td>\n",
       "      <td>...</td>\n",
       "      <td>...</td>\n",
       "      <td>...</td>\n",
       "      <td>...</td>\n",
       "    </tr>\n",
       "    <tr>\n",
       "      <th>314100</th>\n",
       "      <td>148</td>\n",
       "      <td>37.860065</td>\n",
       "      <td>-122.485598</td>\n",
       "      <td>1.469560e+12</td>\n",
       "      <td>1.469560e+12</td>\n",
       "    </tr>\n",
       "    <tr>\n",
       "      <th>314101</th>\n",
       "      <td>148</td>\n",
       "      <td>37.806800</td>\n",
       "      <td>-122.423853</td>\n",
       "      <td>1.469570e+12</td>\n",
       "      <td>1.469570e+12</td>\n",
       "    </tr>\n",
       "    <tr>\n",
       "      <th>314102</th>\n",
       "      <td>148</td>\n",
       "      <td>37.806800</td>\n",
       "      <td>-122.423853</td>\n",
       "      <td>1.469570e+12</td>\n",
       "      <td>1.469570e+12</td>\n",
       "    </tr>\n",
       "    <tr>\n",
       "      <th>314103</th>\n",
       "      <td>148</td>\n",
       "      <td>37.806800</td>\n",
       "      <td>-122.423853</td>\n",
       "      <td>1.469570e+12</td>\n",
       "      <td>1.469570e+12</td>\n",
       "    </tr>\n",
       "    <tr>\n",
       "      <th>314104</th>\n",
       "      <td>148</td>\n",
       "      <td>37.806800</td>\n",
       "      <td>-122.423853</td>\n",
       "      <td>1.469570e+12</td>\n",
       "      <td>1.469570e+12</td>\n",
       "    </tr>\n",
       "  </tbody>\n",
       "</table>\n",
       "<p>314105 rows × 5 columns</p>\n",
       "</div>"
      ],
      "text/plain": [
       "        num        lat         lng  encounter_ms   disppear_ms\n",
       "0         1  37.352721 -121.965752  1.469520e+12  1.469520e+12\n",
       "1         1  37.386986 -122.173674 -1.000000e+00  1.469520e+12\n",
       "2         1  37.562587 -122.033979  1.469520e+12  1.469520e+12\n",
       "3         1  37.577153 -122.082546  1.469520e+12  1.469520e+12\n",
       "4         1  37.717652 -122.453226  1.469520e+12  1.469520e+12\n",
       "...     ...        ...         ...           ...           ...\n",
       "314100  148  37.860065 -122.485598  1.469560e+12  1.469560e+12\n",
       "314101  148  37.806800 -122.423853  1.469570e+12  1.469570e+12\n",
       "314102  148  37.806800 -122.423853  1.469570e+12  1.469570e+12\n",
       "314103  148  37.806800 -122.423853  1.469570e+12  1.469570e+12\n",
       "314104  148  37.806800 -122.423853  1.469570e+12  1.469570e+12\n",
       "\n",
       "[314105 rows x 5 columns]"
      ]
     },
     "execution_count": 20,
     "metadata": {},
     "output_type": "execute_result"
    }
   ],
   "source": [
    "Spawns1"
   ]
  },
  {
   "cell_type": "code",
   "execution_count": 21,
   "id": "78ceca6e-0c65-4271-bd32-73e65798b1c4",
   "metadata": {},
   "outputs": [
    {
     "data": {
      "text/html": [
       "<div>\n",
       "<style scoped>\n",
       "    .dataframe tbody tr th:only-of-type {\n",
       "        vertical-align: middle;\n",
       "    }\n",
       "\n",
       "    .dataframe tbody tr th {\n",
       "        vertical-align: top;\n",
       "    }\n",
       "\n",
       "    .dataframe thead th {\n",
       "        text-align: right;\n",
       "    }\n",
       "</style>\n",
       "<table border=\"1\" class=\"dataframe\">\n",
       "  <thead>\n",
       "    <tr style=\"text-align: right;\">\n",
       "      <th></th>\n",
       "      <th>num</th>\n",
       "      <th>lat</th>\n",
       "      <th>lng</th>\n",
       "      <th>encounter_ms</th>\n",
       "      <th>disppear_ms</th>\n",
       "    </tr>\n",
       "  </thead>\n",
       "  <tbody>\n",
       "    <tr>\n",
       "      <th>num</th>\n",
       "      <td>1.000000</td>\n",
       "      <td>-0.029103</td>\n",
       "      <td>0.083465</td>\n",
       "      <td>-0.009795</td>\n",
       "      <td>0.018184</td>\n",
       "    </tr>\n",
       "    <tr>\n",
       "      <th>lat</th>\n",
       "      <td>-0.029103</td>\n",
       "      <td>1.000000</td>\n",
       "      <td>-0.170875</td>\n",
       "      <td>-0.012132</td>\n",
       "      <td>0.235411</td>\n",
       "    </tr>\n",
       "    <tr>\n",
       "      <th>lng</th>\n",
       "      <td>0.083465</td>\n",
       "      <td>-0.170875</td>\n",
       "      <td>1.000000</td>\n",
       "      <td>0.023270</td>\n",
       "      <td>0.177953</td>\n",
       "    </tr>\n",
       "    <tr>\n",
       "      <th>encounter_ms</th>\n",
       "      <td>-0.009795</td>\n",
       "      <td>-0.012132</td>\n",
       "      <td>0.023270</td>\n",
       "      <td>1.000000</td>\n",
       "      <td>-0.006521</td>\n",
       "    </tr>\n",
       "    <tr>\n",
       "      <th>disppear_ms</th>\n",
       "      <td>0.018184</td>\n",
       "      <td>0.235411</td>\n",
       "      <td>0.177953</td>\n",
       "      <td>-0.006521</td>\n",
       "      <td>1.000000</td>\n",
       "    </tr>\n",
       "  </tbody>\n",
       "</table>\n",
       "</div>"
      ],
      "text/plain": [
       "                   num       lat       lng  encounter_ms  disppear_ms\n",
       "num           1.000000 -0.029103  0.083465     -0.009795     0.018184\n",
       "lat          -0.029103  1.000000 -0.170875     -0.012132     0.235411\n",
       "lng           0.083465 -0.170875  1.000000      0.023270     0.177953\n",
       "encounter_ms -0.009795 -0.012132  0.023270      1.000000    -0.006521\n",
       "disppear_ms   0.018184  0.235411  0.177953     -0.006521     1.000000"
      ]
     },
     "execution_count": 21,
     "metadata": {},
     "output_type": "execute_result"
    }
   ],
   "source": [
    "Spawns1.corr(method='pearson')"
   ]
  },
  {
   "cell_type": "code",
   "execution_count": 22,
   "id": "9c4dca37-01da-42c6-90a7-a37944c6d3ba",
   "metadata": {},
   "outputs": [
    {
     "data": {
      "text/html": [
       "<style type=\"text/css\">\n",
       "#T_2edfe_row0_col0, #T_2edfe_row1_col1, #T_2edfe_row2_col2, #T_2edfe_row3_col3, #T_2edfe_row4_col4 {\n",
       "  background-color: #b40426;\n",
       "  color: #f1f1f1;\n",
       "}\n",
       "#T_2edfe_row0_col1, #T_2edfe_row1_col2, #T_2edfe_row2_col1, #T_2edfe_row3_col0, #T_2edfe_row3_col1, #T_2edfe_row4_col3 {\n",
       "  background-color: #3b4cc0;\n",
       "  color: #f1f1f1;\n",
       "}\n",
       "#T_2edfe_row0_col2 {\n",
       "  background-color: #5d7ce6;\n",
       "  color: #f1f1f1;\n",
       "}\n",
       "#T_2edfe_row0_col3 {\n",
       "  background-color: #3f53c6;\n",
       "  color: #f1f1f1;\n",
       "}\n",
       "#T_2edfe_row0_col4 {\n",
       "  background-color: #485fd1;\n",
       "  color: #f1f1f1;\n",
       "}\n",
       "#T_2edfe_row1_col0 {\n",
       "  background-color: #5f7fe8;\n",
       "  color: #f1f1f1;\n",
       "}\n",
       "#T_2edfe_row1_col3 {\n",
       "  background-color: #6485ec;\n",
       "  color: #f1f1f1;\n",
       "}\n",
       "#T_2edfe_row1_col4 {\n",
       "  background-color: #aec9fc;\n",
       "  color: #000000;\n",
       "}\n",
       "#T_2edfe_row2_col0 {\n",
       "  background-color: #81a4fb;\n",
       "  color: #f1f1f1;\n",
       "}\n",
       "#T_2edfe_row2_col3 {\n",
       "  background-color: #6f92f3;\n",
       "  color: #f1f1f1;\n",
       "}\n",
       "#T_2edfe_row2_col4 {\n",
       "  background-color: #9ebeff;\n",
       "  color: #000000;\n",
       "}\n",
       "#T_2edfe_row3_col2 {\n",
       "  background-color: #445acc;\n",
       "  color: #f1f1f1;\n",
       "}\n",
       "#T_2edfe_row3_col4 {\n",
       "  background-color: #3c4ec2;\n",
       "  color: #f1f1f1;\n",
       "}\n",
       "#T_2edfe_row4_col0 {\n",
       "  background-color: #4257c9;\n",
       "  color: #f1f1f1;\n",
       "}\n",
       "#T_2edfe_row4_col1 {\n",
       "  background-color: #89acfd;\n",
       "  color: #000000;\n",
       "}\n",
       "#T_2edfe_row4_col2 {\n",
       "  background-color: #7597f6;\n",
       "  color: #f1f1f1;\n",
       "}\n",
       "</style>\n",
       "<table id=\"T_2edfe\">\n",
       "  <thead>\n",
       "    <tr>\n",
       "      <th class=\"blank level0\" >&nbsp;</th>\n",
       "      <th id=\"T_2edfe_level0_col0\" class=\"col_heading level0 col0\" >num</th>\n",
       "      <th id=\"T_2edfe_level0_col1\" class=\"col_heading level0 col1\" >lat</th>\n",
       "      <th id=\"T_2edfe_level0_col2\" class=\"col_heading level0 col2\" >lng</th>\n",
       "      <th id=\"T_2edfe_level0_col3\" class=\"col_heading level0 col3\" >encounter_ms</th>\n",
       "      <th id=\"T_2edfe_level0_col4\" class=\"col_heading level0 col4\" >disppear_ms</th>\n",
       "    </tr>\n",
       "  </thead>\n",
       "  <tbody>\n",
       "    <tr>\n",
       "      <th id=\"T_2edfe_level0_row0\" class=\"row_heading level0 row0\" >num</th>\n",
       "      <td id=\"T_2edfe_row0_col0\" class=\"data row0 col0\" >1.0</td>\n",
       "      <td id=\"T_2edfe_row0_col1\" class=\"data row0 col1\" >-0.029</td>\n",
       "      <td id=\"T_2edfe_row0_col2\" class=\"data row0 col2\" >0.083</td>\n",
       "      <td id=\"T_2edfe_row0_col3\" class=\"data row0 col3\" >-0.0098</td>\n",
       "      <td id=\"T_2edfe_row0_col4\" class=\"data row0 col4\" >0.018</td>\n",
       "    </tr>\n",
       "    <tr>\n",
       "      <th id=\"T_2edfe_level0_row1\" class=\"row_heading level0 row1\" >lat</th>\n",
       "      <td id=\"T_2edfe_row1_col0\" class=\"data row1 col0\" >-0.029</td>\n",
       "      <td id=\"T_2edfe_row1_col1\" class=\"data row1 col1\" >1.0</td>\n",
       "      <td id=\"T_2edfe_row1_col2\" class=\"data row1 col2\" >-0.17</td>\n",
       "      <td id=\"T_2edfe_row1_col3\" class=\"data row1 col3\" >-0.012</td>\n",
       "      <td id=\"T_2edfe_row1_col4\" class=\"data row1 col4\" >0.24</td>\n",
       "    </tr>\n",
       "    <tr>\n",
       "      <th id=\"T_2edfe_level0_row2\" class=\"row_heading level0 row2\" >lng</th>\n",
       "      <td id=\"T_2edfe_row2_col0\" class=\"data row2 col0\" >0.083</td>\n",
       "      <td id=\"T_2edfe_row2_col1\" class=\"data row2 col1\" >-0.17</td>\n",
       "      <td id=\"T_2edfe_row2_col2\" class=\"data row2 col2\" >1.0</td>\n",
       "      <td id=\"T_2edfe_row2_col3\" class=\"data row2 col3\" >0.023</td>\n",
       "      <td id=\"T_2edfe_row2_col4\" class=\"data row2 col4\" >0.18</td>\n",
       "    </tr>\n",
       "    <tr>\n",
       "      <th id=\"T_2edfe_level0_row3\" class=\"row_heading level0 row3\" >encounter_ms</th>\n",
       "      <td id=\"T_2edfe_row3_col0\" class=\"data row3 col0\" >-0.0098</td>\n",
       "      <td id=\"T_2edfe_row3_col1\" class=\"data row3 col1\" >-0.012</td>\n",
       "      <td id=\"T_2edfe_row3_col2\" class=\"data row3 col2\" >0.023</td>\n",
       "      <td id=\"T_2edfe_row3_col3\" class=\"data row3 col3\" >1.0</td>\n",
       "      <td id=\"T_2edfe_row3_col4\" class=\"data row3 col4\" >-0.0065</td>\n",
       "    </tr>\n",
       "    <tr>\n",
       "      <th id=\"T_2edfe_level0_row4\" class=\"row_heading level0 row4\" >disppear_ms</th>\n",
       "      <td id=\"T_2edfe_row4_col0\" class=\"data row4 col0\" >0.018</td>\n",
       "      <td id=\"T_2edfe_row4_col1\" class=\"data row4 col1\" >0.24</td>\n",
       "      <td id=\"T_2edfe_row4_col2\" class=\"data row4 col2\" >0.18</td>\n",
       "      <td id=\"T_2edfe_row4_col3\" class=\"data row4 col3\" >-0.0065</td>\n",
       "      <td id=\"T_2edfe_row4_col4\" class=\"data row4 col4\" >1.0</td>\n",
       "    </tr>\n",
       "  </tbody>\n",
       "</table>\n"
      ],
      "text/plain": [
       "<pandas.io.formats.style.Styler at 0x195bf27c370>"
      ]
     },
     "execution_count": 22,
     "metadata": {},
     "output_type": "execute_result"
    }
   ],
   "source": [
    "Spawns1.corr(method='pearson').style.format(\"{:.2}\").background_gradient(cmap=plt.get_cmap('coolwarm'), axis=1)"
   ]
  },
  {
   "cell_type": "code",
   "execution_count": 23,
   "id": "4312975b-1737-4233-bb5a-a51789ab08b7",
   "metadata": {},
   "outputs": [
    {
     "data": {
      "text/plain": [
       "<AxesSubplot:>"
      ]
     },
     "execution_count": 23,
     "metadata": {},
     "output_type": "execute_result"
    },
    {
     "data": {
      "image/png": "[encoded data removed]",
      "text/plain": [
       "<Figure size 432x288 with 2 Axes>"
      ]
     },
     "metadata": {
      "needs_background": "light"
     },
     "output_type": "display_data"
    }
   ],
   "source": [
    "sns.heatmap(Spawns1.corr(), annot=True)"
   ]
  },
  {
   "cell_type": "markdown",
   "id": "f0afef6e-dd44-43d9-8a89-ef5b09d81d0c",
   "metadata": {},
   "source": [
    "Visualizing Transformations "
   ]
  },
  {
   "cell_type": "code",
   "execution_count": 24,
   "id": "70ee652b-1ac0-4b76-8ca8-26f9757bd388",
   "metadata": {},
   "outputs": [
    {
     "data": {
      "text/plain": [
       "<AxesSubplot:>"
      ]
     },
     "execution_count": 24,
     "metadata": {},
     "output_type": "execute_result"
    },
    {
     "data": {
      "image/png": "[encoded data removed]",
      "text/plain": [
       "<Figure size 432x288 with 1 Axes>"
      ]
     },
     "metadata": {
      "needs_background": "light"
     },
     "output_type": "display_data"
    }
   ],
   "source": [
    "#Pokemon by num\n",
    "Spawns.num.hist()"
   ]
  },
  {
   "cell_type": "code",
   "execution_count": 25,
   "id": "5f54ac9c-b864-4cf7-a2cb-105dbe7d77e3",
   "metadata": {},
   "outputs": [
    {
     "data": {
      "text/plain": [
       "<AxesSubplot:xlabel='num', ylabel='Count'>"
      ]
     },
     "execution_count": 25,
     "metadata": {},
     "output_type": "execute_result"
    },
    {
     "data": {
      "image/png": "[encoded data removed]",
      "text/plain": [
       "<Figure size 432x288 with 1 Axes>"
      ]
     },
     "metadata": {
      "needs_background": "light"
     },
     "output_type": "display_data"
    }
   ],
   "source": [
    "sns.histplot(Spawns['num'])"
   ]
  },
  {
   "cell_type": "code",
   "execution_count": 26,
   "id": "4bd6def7-72af-4586-be00-1e037d488ea9",
   "metadata": {},
   "outputs": [
    {
     "data": {
      "text/plain": [
       "<AxesSubplot:>"
      ]
     },
     "execution_count": 26,
     "metadata": {},
     "output_type": "execute_result"
    },
    {
     "data": {
      "image/png": "[encoded data removed]",
      "text/plain": [
       "<Figure size 432x288 with 1 Axes>"
      ]
     },
     "metadata": {
      "needs_background": "light"
     },
     "output_type": "display_data"
    }
   ],
   "source": [
    "Spawns.encounter_ms.hist()"
   ]
  },
  {
   "cell_type": "code",
   "execution_count": 27,
   "id": "dbbb05f4-0f87-4f5d-afe4-7f0612574ad0",
   "metadata": {},
   "outputs": [
    {
     "name": "stderr",
     "output_type": "stream",
     "text": [
      "C:\\Python3\\lib\\site-packages\\pandas\\core\\arraylike.py:397: RuntimeWarning: invalid value encountered in sqrt\n",
      "  result = getattr(ufunc, method)(*inputs, **kwargs)\n"
     ]
    }
   ],
   "source": [
    "Spawns['encounter_msSQRT'] = np.sqrt(Spawns['encounter_ms'])"
   ]
  },
  {
   "cell_type": "code",
   "execution_count": 28,
   "id": "fd61618b-7f1c-4e0d-bb5b-6b77eb560457",
   "metadata": {},
   "outputs": [
    {
     "data": {
      "text/plain": [
       "<AxesSubplot:>"
      ]
     },
     "execution_count": 28,
     "metadata": {},
     "output_type": "execute_result"
    },
    {
     "data": {
      "image/png": "[encoded data removed]",
      "text/plain": [
       "<Figure size 432x288 with 1 Axes>"
      ]
     },
     "metadata": {
      "needs_background": "light"
     },
     "output_type": "display_data"
    }
   ],
   "source": [
    "Spawns['encounter_msSQRT'].hist()"
   ]
  },
  {
   "cell_type": "markdown",
   "id": "e4f325d6-67dd-4b8f-8b44-69a09569c94c",
   "metadata": {},
   "source": [
    "Negatively Skewed"
   ]
  },
  {
   "cell_type": "code",
   "execution_count": 29,
   "id": "a155e21c-3104-4d07-a5c1-d929bf80a41f",
   "metadata": {},
   "outputs": [
    {
     "name": "stderr",
     "output_type": "stream",
     "text": [
      "C:\\Python3\\lib\\site-packages\\pandas\\core\\arraylike.py:397: RuntimeWarning: invalid value encountered in log\n",
      "  result = getattr(ufunc, method)(*inputs, **kwargs)\n"
     ]
    }
   ],
   "source": [
    "Spawns['encounter_msLOG'] = np.log(Spawns['encounter_ms'])"
   ]
  },
  {
   "cell_type": "code",
   "execution_count": 30,
   "id": "181d2c86-71bf-46e1-9687-6b673a970b5d",
   "metadata": {},
   "outputs": [
    {
     "data": {
      "text/plain": [
       "<AxesSubplot:>"
      ]
     },
     "execution_count": 30,
     "metadata": {},
     "output_type": "execute_result"
    },
    {
     "data": {
      "image/png": "[encoded data removed]",
      "text/plain": [
       "<Figure size 432x288 with 1 Axes>"
      ]
     },
     "metadata": {
      "needs_background": "light"
     },
     "output_type": "display_data"
    }
   ],
   "source": [
    "Spawns['encounter_msLOG'].hist()"
   ]
  },
  {
   "cell_type": "markdown",
   "id": "dd2d3b9a-d271-479b-8d21-4d2d969858a9",
   "metadata": {},
   "source": [
    "Negatively Skewed "
   ]
  }
 ],
 "metadata": {
  "kernelspec": {
   "display_name": "Python 3 (ipykernel)",
   "language": "python",
   "name": "python3"
  },
  "language_info": {
   "codemirror_mode": {
    "name": "ipython",
    "version": 3
   },
   "file_extension": ".py",
   "mimetype": "text/x-python",
   "name": "python",
   "nbconvert_exporter": "python",
   "pygments_lexer": "ipython3",
   "version": "3.10.4"
  }
 },
 "nbformat": 4,
 "nbformat_minor": 5
}
